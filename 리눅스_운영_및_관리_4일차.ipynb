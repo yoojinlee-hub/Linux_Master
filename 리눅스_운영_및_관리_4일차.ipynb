{
  "nbformat": 4,
  "nbformat_minor": 0,
  "metadata": {
    "colab": {
      "name": "리눅스 운영 및 관리 4일차.ipynb",
      "provenance": [],
      "authorship_tag": "ABX9TyMwozWIjH5WKTNvc27aHs79",
      "include_colab_link": true
    },
    "kernelspec": {
      "name": "python3",
      "display_name": "Python 3"
    },
    "language_info": {
      "name": "python"
    }
  },
  "cells": [
    {
      "cell_type": "markdown",
      "metadata": {
        "id": "view-in-github",
        "colab_type": "text"
      },
      "source": [
        "<a href=\"https://colab.research.google.com/github/yoojinlee-hub/Linux_Master/blob/main/%EB%A6%AC%EB%88%85%EC%8A%A4_%EC%9A%B4%EC%98%81_%EB%B0%8F_%EA%B4%80%EB%A6%AC_4%EC%9D%BC%EC%B0%A8.ipynb\" target=\"_parent\"><img src=\"https://colab.research.google.com/assets/colab-badge.svg\" alt=\"Open In Colab\"/></a>"
      ]
    },
    {
      "cell_type": "markdown",
      "metadata": {
        "id": "DsPeyyRPoaLu"
      },
      "source": [
        "에디터 : 편집기 <br>\n",
        "리눅스 에디터: *vi(비주얼 에디터라는 뜻에서 유래. 현재에는 vim사용),emacs,pico* - 텍스트 환경 기반의 콘솔 환경에서 사용 / X윈도 기반의 *gedit*"
      ]
    },
    {
      "cell_type": "markdown",
      "metadata": {
        "id": "RoRboxE1o-3I"
      },
      "source": [
        "**PICO(Pine Composer)**\n",
        "* 유닉스 기반의 텍스트 에디터\n",
        "* pine 이메일 클라이언트 프로그램에 통합되어서 배포됨\n",
        "* 윈도우의 메모장과 인터페이스가 유사 - 쉬운 복사 및 붙여넣기, 맞춤법 검사, 단락 정의\n",
        "* GNU에서 pico의 복제버전인 nano 개발 : pico의 기본 기능 + 마우스 지원, 자동 들여쓰기, 정규 표현식 검색, 구문강조"
      ]
    },
    {
      "cell_type": "markdown",
      "metadata": {
        "id": "t4uD5DLXqO_Q"
      },
      "source": [
        "**emacs**\n",
        "* Editor Macros 의 약어로 리처드 스톨만이 매크로 기능이 있는 텍스트 교정 및 편집기로 개발\n",
        "* 최근 배포판에 사용되는 건 GNU emacs로, LISP에 기반을 두는 환경설정 언어를 가지고 새로 만든 emacas LISP\n",
        "* 편집하는 종류에 따라 여러 기능 제공. 자신에게 가장 적합한 모드를 만들 수 있음\n",
        "* 확장성과 유연성\n",
        "* LISP 코드를 불러오는데 오랜 시간이 걸리고 초보자가 사용하기엔 어려움\n",
        "* XEmacs: X윈도 환경에 최적화"
      ]
    },
    {
      "cell_type": "markdown",
      "metadata": {
        "id": "N7aixOqzrSHv"
      },
      "source": [
        "**vim(Vi Improved)**\n",
        "* 브람 무레나르가 vi편집기와 호환되면서 독자적으로 다양한 기능을 추가하여 만든 편집기\n",
        "* 다양한 색상 -> 가시성 높임, 하이라이트 기능 제공 -> 빠른 검색, ex모드에서 히스토리 기능 제공, 확장된 정규 표현식 문법, 강력한 문법 강조 기능, 다중 되돌리기 기능, 유니코드를 통한 다국어 지원, 문법검사\n",
        "* CUI(Command User Interface)기반"
      ]
    },
    {
      "cell_type": "markdown",
      "metadata": {
        "id": "qyC2teU7sHHW"
      },
      "source": [
        "\n",
        "\n",
        "---\n",
        "\n"
      ]
    },
    {
      "cell_type": "markdown",
      "metadata": {
        "id": "1J_jRDYFsL-s"
      },
      "source": [
        "**nano 활용**\n",
        "* 셸에서 'nano [파일명]'입력하면 에디터가 실행됨\n",
        "* 윈도우의 메모장처럼 실행 후 바로 입력이 가능\n",
        "* 간단한 이동은 키보드의 방향키 이용, 빠른 이동시에는 단축키 조합으로 이동가능\n",
        "* [단축키]https://developmentdiary.tistory.com/609 "
      ]
    },
    {
      "cell_type": "markdown",
      "metadata": {
        "id": "N4dUgslztKnu"
      },
      "source": [
        "**emacs 활용**\n",
        "* 셸 명령행에서 'emacd [파일명]'입력하면 에디터가 실행됨\n",
        "* 시작과 동시에 문서 편집 가능\n",
        "* 화면 가장 아래에는 사용자에게 간단한 정보를 출력하거나 치환,저장,종료 등과 같은 특정 명령을 수행할 때 사용되는 영역. ctrl 또는 alt키와 다른 키와의 조합을 통해 이용 가능\n",
        "* emacs 도움말에서 ctrl은 C로, 조합기호는 -로, alt키는 M으로 표기\n",
        "* 종료하려면 ctrl+x 후에 ctrl+c누르면 된다"
      ]
    },
    {
      "cell_type": "markdown",
      "metadata": {
        "id": "7_-AmZM-uJDd"
      },
      "source": [
        "**vi 활용**\n",
        "* vi [파일명]\n",
        "* 다른 편집기와 다르게 모드형 편집기\n",
        "  * 명령모드: 기본이 되는 모드. 커서의 이동,수정,삭제,복사,붙이기, 탐색 / 입력모드 전환키인 i,a,o,I,A,O를 입력하면 입력모드로 전환 / esc 누르면 다시 명령모드\n",
        "  * 입력모드: 편집모드라고도 불림. input mode, insert mode/ 화면 아래에 -INSERT-라고 표시\n",
        "  * ex명령모드 : 명령모드에서 :를 입력 -> 화면 맨 아랫줄에서 명령 수행/ 저장, 종료, 탐색, 치환 및 vi 환경설정\n",
        "    * :wq! 무조건 저장하고 종료\n",
        "    * :q! 변경된 내용이 있어도 저장하지 않고 무조건 종료\n",
        "* 커서 이동시 명령키 사용 가능 / 반복 실행 시 해당 명령 앞에 정수값 n을 붙임\n",
        "* .exrc : 각 사용자들이 vi편집기의 환경 설정을 등록하여 실행 시에 계속적으로 지정한 설정을 이용할 때 사용 -> 사용자의 홈 디렉터리에 .exrc(.vimrc)안에 적어 놓으면 vi가 실행될 때 기본으로 설정되어 시작됨"
      ]
    }
  ]
}