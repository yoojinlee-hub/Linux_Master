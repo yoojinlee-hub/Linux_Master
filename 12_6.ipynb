{
  "nbformat": 4,
  "nbformat_minor": 0,
  "metadata": {
    "colab": {
      "name": "12/6.ipynb",
      "provenance": [],
      "authorship_tag": "ABX9TyOVLzQ6BmmAzkscY9GV4oVy",
      "include_colab_link": true
    },
    "kernelspec": {
      "name": "python3",
      "display_name": "Python 3"
    },
    "language_info": {
      "name": "python"
    }
  },
  "cells": [
    {
      "cell_type": "markdown",
      "metadata": {
        "id": "view-in-github",
        "colab_type": "text"
      },
      "source": [
        "<a href=\"https://colab.research.google.com/github/yoojinlee-hub/Linux_Master/blob/main/12_6.ipynb\" target=\"_parent\"><img src=\"https://colab.research.google.com/assets/colab-badge.svg\" alt=\"Open In Colab\"/></a>"
      ]
    },
    {
      "cell_type": "markdown",
      "metadata": {
        "id": "bmtEYqiYtiYR"
      },
      "source": [
        "* 크기가 가장 큰 파일생성이 가능한 파일 시스템: XFS\n",
        "* chmod 7 = chmod 007\n",
        "* chmod로 set-GID설정: g+s\n",
        "  * Sticky-Bit 설정: o+t\n",
        "* 저널링 파일 시스템 : ex3,ex4, ReiserFS, XFS,JFS\n",
        "* du: 사용량을 출력\n",
        "  * -s: 총 사용량 출력\n",
        "  * -h: 단위 붙여줌"
      ]
    }
  ]
}