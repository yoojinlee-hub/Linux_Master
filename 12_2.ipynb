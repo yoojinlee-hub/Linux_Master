{
  "nbformat": 4,
  "nbformat_minor": 0,
  "metadata": {
    "colab": {
      "name": "12/2.ipynb",
      "provenance": [],
      "authorship_tag": "ABX9TyPrm4kHp3e5xINHaY4jBLq9",
      "include_colab_link": true
    },
    "kernelspec": {
      "name": "python3",
      "display_name": "Python 3"
    },
    "language_info": {
      "name": "python"
    }
  },
  "cells": [
    {
      "cell_type": "markdown",
      "metadata": {
        "id": "view-in-github",
        "colab_type": "text"
      },
      "source": [
        "<a href=\"https://colab.research.google.com/github/yoojinlee-hub/Linux_Master/blob/main/12_2.ipynb\" target=\"_parent\"><img src=\"https://colab.research.google.com/assets/colab-badge.svg\" alt=\"Open In Colab\"/></a>"
      ]
    },
    {
      "cell_type": "markdown",
      "metadata": {
        "id": "W-HXojfvzfqS"
      },
      "source": [
        "* unmask: 파일이나 디렉터리 생성 시에 **기본적**으로 부여되는 허거권 값 기정\n",
        "* passwd: Set-UID 설정되어 있음\n",
        "---\n",
        "* chown: **파일의 소유권 변경**. 대상-사용자명,UID\n",
        "* chmod: **파일 권한** 변경\n",
        "* [관련](http://www.redcrow.co.kr/wordpress/?p=532)\n",
        "---\n",
        "\n",
        "* UUID: 여러 개체들이 존재하는 환경에서 식별하고 구별하기 위해서 사용되는 고유한 이름을 통칭 / blkid라는 명령을 사용해서 확인\n",
        "---\n",
        "* du: 특정 디렉터리의 사용량 확인\n",
        "* df: 디스크 여유공간 확인\n",
        "* ps: 현재 실행중인 프로세스의 목록과 상태 https://jhnyang.tistory.com/268\n",
        "  * *디스크 사용 비율을 알 수 없음*\n",
        "  * S: 특정 이벤트가 끝나기를 기다리는 상태\n",
        "  * R: 실행중 혹은 실행될 수 있는 상태\n",
        "  * T: 정지된 상태\n",
        "  * D: 디스크에 의해 대기하고 있는 상태\n",
        "* [df와 du](https://withcoding.com/104)\n",
        "---\n",
        "* 사용자의 용량제한을 위해 /etc/fstab에 설정: usrquota\n",
        "* 리눅스는 비동기처리 -> 이동식 매체에 쓰기와 같은 작업 시 반드시 unmount를 실행해야 함."
      ]
    },
    {
      "cell_type": "markdown",
      "metadata": {
        "id": "NucQmqlK2ZbT"
      },
      "source": [
        "\n",
        "\n",
        "---\n",
        "셸\n",
        "* chsh 명령으로 변경한 셸은 다음 로그인 부터 유효하다\n",
        "* echo $SHELL: 로그인 시 부여된 셸의 정보를 저장\n",
        "* 사용 가능한 셸 확인\n",
        "  * cat /etc/shells\n",
        "  * chsh --list-shells\n",
        "  * chsh -l\n",
        "* PATH변수에 설정되어있는 기존값: $PATH\n",
        "---\n",
        "* history\n",
        "  * !all: 최근 사용한 명령 중에서 all로 시작하는 명령을 찾아서 실행\n",
        "* 프롬프트 형식에서 \\d: 요일 월 일\n",
        "* 강제 종료시 시그널 번호: 9\n",
        "* kill 명령은 별도의 시그널 명기가 없으면 15"
      ]
    },
    {
      "cell_type": "markdown",
      "metadata": {
        "id": "FGakEUOA48ri"
      },
      "source": [
        "---\n",
        "* 최초의 PID: 리눅스 부팅 시 생성되는 init 으로, 1번\n",
        "* 셸에서 명령을 실행하고 해당 프로세스가 종료될 때 까지 기다리는 프로세스: 포어그라운드 프로세스\n",
        "* NI값?\n",
        "  * nice 명령어 사용시 값을 지정하지 않으면 기본적으로 10이 지정\n",
        "  * nice 명령은 프로세스 명으로 우선순위 조정\n",
        "  * renice 명령은 주로 PID로 우선순위 조정\n",
        "  * 기존의 NI값에 상관없이 지정한 NI값으로 바로 적용하려면 renice 명령어를 이용해야 함\n",
        "---\n",
        "편집기\n",
        "* emacs편집기의  기반이 되는 언어: LISP\n",
        "* vi 편집기 개발한 사람: 빌 조이\n",
        "  * vi 편집기에서 **커서가 위치한 곳의 윗 줄에 삽입하는 상태**로 전환하는 키: O\n",
        "  * :set ai: 프로그래밍을 할 때 엔터키를 입력 시 바로 윗 행의 열 위치와 동일하게 커서를 이동할 때 사용하는 환경설정\n",
        "---\n",
        "배포판과 패키지 관리기법\n",
        "* RedHat(RHEL, CentOS, Fedora) - rpm\n",
        "* 데비안 - dpkg\n",
        "* Suse - Yast\n"
      ]
    }
  ]
}