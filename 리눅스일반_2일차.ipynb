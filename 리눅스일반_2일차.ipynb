{
  "nbformat": 4,
  "nbformat_minor": 0,
  "metadata": {
    "colab": {
      "name": "리눅스일반 2일차.ipynb",
      "provenance": [],
      "authorship_tag": "ABX9TyMJLxbtErJ32Mhjhxx6/nTi",
      "include_colab_link": true
    },
    "kernelspec": {
      "name": "python3",
      "display_name": "Python 3"
    },
    "language_info": {
      "name": "python"
    }
  },
  "cells": [
    {
      "cell_type": "markdown",
      "metadata": {
        "id": "view-in-github",
        "colab_type": "text"
      },
      "source": [
        "<a href=\"https://colab.research.google.com/github/yoojinlee-hub/Linux_Master/blob/main/%EB%A6%AC%EB%88%85%EC%8A%A4%EC%9D%BC%EB%B0%98_2%EC%9D%BC%EC%B0%A8.ipynb\" target=\"_parent\"><img src=\"https://colab.research.google.com/assets/colab-badge.svg\" alt=\"Open In Colab\"/></a>"
      ]
    },
    {
      "cell_type": "markdown",
      "metadata": {
        "id": "oW7Q1hmCfzQq"
      },
      "source": [
        "**리눅스 설치를 위한 하드웨어 정보 파악**\n",
        "\n",
        "\n",
        "*   CPU: 인텔의 x86계열의 CPU. AMD, 모토롤라,SPARC, Alpha,**PowerPC**,**ARM**,MIPS,**i386**\n",
        "*   초기의 하드디스크인 IDE, ATA - **/dev/hdx** 파일 형식으로 인식\n",
        "* 최근의 S-ATA,USB,SSD,SCSI - **/dex/sdx** 로 인식\n",
        "* 가상머신에 설치 가능\n",
        "\n"
      ]
    },
    {
      "cell_type": "markdown",
      "metadata": {
        "id": "NpFZdIg3gvFb"
      },
      "source": [
        "**파티션 분할**\n",
        "\n",
        "\n",
        "*   분할된 파티션: 하나의 독립적인 디스크로 간주 / 블록과 파일시스템 구성 등(다양한 정책들)을 독자적으로 할 수 있음\n",
        "*   가상메모리로 사용하는 swap영역을 파티션으로 반드시 분할해야 함 : 시스템의 장착된 메모리의 2배 설정 권장\n",
        "* 하나의 디스크에 여러개의 운영체제 사용 가능 \n",
        "\n"
      ]
    },
    {
      "cell_type": "markdown",
      "metadata": {
        "id": "TZsj01aHiHRS"
      },
      "source": [
        "* 주 파티션 : 4개 까지 설정 가능\n",
        "* 확장 파티션: 4개 이상이 필요할 때 사용 ,하나의 물리적 디스크에 1개만 생성/ **실질적으로 데이터 저장 X**, 다수의 논리 파티션 선언하기 위한 영역\n",
        "* 논리 파티션 : 확장 파티션 내에 선언/ 12개 이상 권장"
      ]
    },
    {
      "cell_type": "markdown",
      "metadata": {
        "id": "itDCoudFicTx"
      },
      "source": [
        "* *fdisk -l 명령*으로 분할된 파티션 명령 확인 가능\n",
        "* 실제 리눅스 상에서 반영되는 파티션 정보 : /proc/partitions"
      ]
    },
    {
      "cell_type": "markdown",
      "metadata": {
        "id": "U5ppbDBJjix3"
      },
      "source": [
        "\n",
        "\n",
        "---\n",
        "\n"
      ]
    },
    {
      "cell_type": "markdown",
      "metadata": {
        "id": "jkS_byRck9DW"
      },
      "source": [
        "부트매니저 = 부트로더 : 부팅을 도와주는 역할\n",
        "\n",
        "* GRUB : GNU에서 만든 부트로더\n",
        "* ctrl + x : 부팅시작\n",
        "* ctrl + c : 명령프롬프트 시작\n",
        "* e : 편집"
      ]
    },
    {
      "cell_type": "markdown",
      "metadata": {
        "id": "-B0eY7D3lwl4"
      },
      "source": [
        "* GRUB의 환경설정 파일 저장되는 곳 : /boot/grub2/grub.cfg\n",
        "* 환경 설정 파일 수정 후에 grub2-mkconfig 명령 실행해야 함"
      ]
    },
    {
      "cell_type": "markdown",
      "metadata": {
        "id": "wJbUiFGum8Ae"
      },
      "source": [
        "\n",
        "\n",
        "---\n",
        "\n"
      ]
    },
    {
      "cell_type": "markdown",
      "metadata": {
        "id": "LfPaFLbjm8xN"
      },
      "source": [
        "로그인 : /etc/motd - 성공적으로 로그인 되었을 때"
      ]
    },
    {
      "cell_type": "markdown",
      "metadata": {
        "id": "wEKkhaDtnDat"
      },
      "source": [
        "로그아웃 : logout,exit,ctrl+D"
      ]
    },
    {
      "cell_type": "markdown",
      "metadata": {
        "id": "ZtzOsX5YnuHk"
      },
      "source": [
        "\n",
        "\n",
        "---\n",
        "\n"
      ]
    },
    {
      "cell_type": "markdown",
      "metadata": {
        "id": "m5Yjj_NAnveV"
      },
      "source": [
        "**systemd** : 시스템의 부팅 및 서비스 관리"
      ]
    },
    {
      "cell_type": "markdown",
      "metadata": {
        "id": "10zroxR6n4CV"
      },
      "source": [
        "유닛: object 파일\n",
        "* service : 서버에서 제공하는 서비스 <데몬>\n",
        "* socket : 프로세스 간 통신에 사용되는 IPC 소켓\n",
        "* target : 유닛 그룹화\n",
        "* path: 서비스의 활성화를 지연시킬 때\n",
        "\n",
        "서비스 상태\n",
        "* static : 활성화가 되지는 않지만, 활성화 되는 다른 유닛에 의해 활성화 가능\n",
        "\n",
        "소켓 : 파일시스템 FIFO, 네트워크 소켓, IPC"
      ]
    },
    {
      "cell_type": "markdown",
      "metadata": {
        "id": "_Kc3HhsTo0re"
      },
      "source": [
        "**systemctl** [option] 명령 [서비스명]\n",
        "* mask 서비스명 : 특정 서비스의 유닛 파일을 /dev/null로 링크 시켜서 시작되는 것을 막을 때 사용\n",
        "* isolate 타깃명 : 지정한 타깃의 런레벨로 즉시 변경"
      ]
    },
    {
      "cell_type": "markdown",
      "metadata": {
        "id": "4VswHFzQqPn-"
      },
      "source": [
        "systemd-analyze : 시스템 부팅과 관련된 성능 분석\n",
        "* critical-chain : 각 유닛의 시간을 트리 형태로 출력"
      ]
    }
  ]
}