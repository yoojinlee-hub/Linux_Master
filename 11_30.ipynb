{
  "nbformat": 4,
  "nbformat_minor": 0,
  "metadata": {
    "colab": {
      "name": "11/30.ipynb",
      "provenance": [],
      "authorship_tag": "ABX9TyOs4qBia3SSweiV7CP7BLbI",
      "include_colab_link": true
    },
    "kernelspec": {
      "name": "python3",
      "display_name": "Python 3"
    },
    "language_info": {
      "name": "python"
    }
  },
  "cells": [
    {
      "cell_type": "markdown",
      "metadata": {
        "id": "view-in-github",
        "colab_type": "text"
      },
      "source": [
        "<a href=\"https://colab.research.google.com/github/yoojinlee-hub/Linux_Master/blob/main/11_30.ipynb\" target=\"_parent\"><img src=\"https://colab.research.google.com/assets/colab-badge.svg\" alt=\"Open In Colab\"/></a>"
      ]
    },
    {
      "cell_type": "markdown",
      "metadata": {
        "id": "r9j836GnrXX-"
      },
      "source": [
        "* dpkg 명령에서 특정 패키지의 상태: -s(--status)\n",
        "* .tgz는 gzip으로 압축하여 생성한 tar파일: 압축 풀기 위해서 zxvf 옵션 사용\n",
        "* **OSS** : 리눅스에서 사운드를 만들고 캡쳐하는 인터페이스 / 표준 유닉스 장치 시스템 콜(POSIX read,write,ioctl)에 기반\n",
        "* CUPS 관련 파일\n",
        "  * /etc/cups/cupsd.conf: 환경설정 파일. 기본 문법이 아파치의 httpd.conf와 유사\n",
        "  * /etc/cups/printers/conf : 프린터 큐  관련 환경 설정 파일 - lpadmin으로 제어 가능\n",
        "  * /etc/cups/classes.conf : CUPS 프린터 데몬의 클래스 설정 파일\n",
        "* scanimage 명령어 옵션 -h : 도움말\n",
        "\n",
        "\n",
        "---\n",
        "\n"
      ]
    },
    {
      "cell_type": "markdown",
      "metadata": {
        "id": "H13fQCfdutxX"
      },
      "source": [
        "* DISPLAY: X클라이언트를 **다른 X 서버**로 전송하기 위해 변경해야 하는 환경변수\n",
        "* 디스플레이 매니저: 사용자 로그인 및 세션 관리 역할\n",
        "* **startx**: *콘솔 모드*에서 X윈도 실행\n",
        "* **systemctl**: 리눅스 *부팅 시에 X윈도로 접근*이 되게 할 때\n",
        "* 망(Mesh)형: 설치비용이 많이 들지만, 장애 발생시 다른 시스템에 주는 영향이 적고 신뢰성이 매우 높은 LAN 구성 방식\n",
        "---\n",
        "* X 프로토콜\n",
        "  * Xlib: 저수준 인터페이스 -> XCB가 대체\n",
        "  * X toolkit: 상위 라이브러리 / Xt Intrinsics, Qt,GTK"
      ]
    },
    {
      "cell_type": "markdown",
      "metadata": {
        "id": "1-C9AOkNw8NW"
      },
      "source": [
        "---\n",
        "* NFS: 다른 컴퓨터의 파일 시스템을 마운트하여 자신의 디렉터리인 것 처럼 사용할 수 있도록 지원\n",
        "  * RPC서비스 기반으로 동작 -> rpcbind 데몬을 실행해야 함\n",
        "* CIFS: 윈도우와 리눅스 간의 파일 시스템 공유\n",
        "* telnet 명령으로 특정 호스트의 포트 점검 : telnet 호스트명 포트번호\n",
        "* *FTP*\n",
        "  * 기본 21번 포트\n",
        "  * 데이터 전송을 위한 포트는 20번\n",
        "  * Passive 모드는 1024번 이후에 번호를 사용\n",
        "  * FTP 제어를 위한 21번 포트는 필수적으로 사용\n",
        "* SSH명령으로 다른 계정으로 접속 시도 : -l 사용자명 or 사용자명@호스트명\n",
        "* Local Loopback 장치의 IP 주소: 127.0.0.1"
      ]
    },
    {
      "cell_type": "markdown",
      "metadata": {
        "id": "-p-3sWNHzb4O"
      },
      "source": [
        "\n",
        "\n",
        "---\n",
        "* C 클래스에서 서브넷 마스크 값이 255.255.255.128\n",
        "  * 서브넷수: 2\n",
        "  * 각각 네트워크 주소 및 브로드캐스트 주소가 할당되므로 4개의 주소를 사용할 수 없게 됨 -> 사용가능한 ip 주소 252개\n",
        "* netstat: 네트워크 상태 정보 출력/ 소켓의 PID,프로그램명, 포트번호 출력/ -r 옵션을 주면 테이블 정보도 출력\n",
        "* ifcfg-eth0: 네트워크 인터페이스 설정 파일 / IPADDER, HWADDR, GATEWAY \n"
      ]
    }
  ]
}