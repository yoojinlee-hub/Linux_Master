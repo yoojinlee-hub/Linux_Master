{
  "nbformat": 4,
  "nbformat_minor": 0,
  "metadata": {
    "colab": {
      "name": "11/25.ipynb",
      "provenance": [],
      "authorship_tag": "ABX9TyNUCwORpT7QVkadOYARohvd",
      "include_colab_link": true
    },
    "kernelspec": {
      "name": "python3",
      "display_name": "Python 3"
    },
    "language_info": {
      "name": "python"
    }
  },
  "cells": [
    {
      "cell_type": "markdown",
      "metadata": {
        "id": "view-in-github",
        "colab_type": "text"
      },
      "source": [
        "<a href=\"https://colab.research.google.com/github/yoojinlee-hub/Linux_Master/blob/main/11_25.ipynb\" target=\"_parent\"><img src=\"https://colab.research.google.com/assets/colab-badge.svg\" alt=\"Open In Colab\"/></a>"
      ]
    },
    {
      "cell_type": "markdown",
      "metadata": {
        "id": "Q6Z2gsS7jbMV"
      },
      "source": [
        "리눅스 허가권\n",
        "* 기존에 설정된 값에 상관없이 설정\n",
        "  1. chmod 754 text.txt\n",
        "  2. chmod c=rwx,g=rx,o=r test.txt\n",
        "* 기존의 설정 값에 더하거나 빼는 방법\n",
        "  1. chmod u+rwx,go+r test.tct\n",
        "  2. chmod u+x test.txt\n",
        "* unmask: 파일인 경우 666 값에서 빼기\n",
        "* chgrp: 그룹 소유권을 변경하는 명령\n",
        "* 리눅스 파일의 퍼미션을 설정하는 사용자 구분: 소유자(owner or user), 그룹(group),기타(public or other)"
      ]
    },
    {
      "cell_type": "markdown",
      "metadata": {
        "id": "UVUMWnFhlYHu"
      },
      "source": [
        "\n",
        "\n",
        "---\n",
        "파일 시스템\n",
        "* fsck 명령어에 의해 참조되어 지는 /etc/fstab 필드는 6번째 영역\n",
        "* ex3 파일 시스템으로 파티션 생성\n",
        "  * mkfs.ext3\n",
        "  * mke2fs -t ext3\n",
        "  * mke2fs -j\n",
        "* mkfs -c : 파일 시스템을 생성하기 전에 배드블록을 체크하는 옵션 . mkfs 명령에서 특정 파일 시스템을 지정하지 않으면 ext2로 생성\n",
        "* Superblock: 파일 시스템의 크기와 같은 전체적인 파일 시스템에 대한 정보\n",
        "* inod: 파일 종류, 소유권\n",
        "* iso9660: 표준 CD-ROM 파일 시스템\n",
        "* 저널링 파일 시스템: ex3,ex4,ReiserFS,JFS,XFS\n",
        "\n"
      ]
    },
    {
      "cell_type": "markdown",
      "metadata": {
        "id": "tquiY5Iln0k9"
      },
      "source": [
        "\n",
        "\n",
        "---\n",
        "셸\n",
        "* ksh: AT&T사의 데이비드 콘이 개발. 명령어 완성 기능, 히스토리 기능 제공\n",
        "* 사용가능한 셸의 목록 저장: /etx/shells\n",
        "* root 사용자가 로그인 셸 변경: usernod\n",
        "* 일반 사용자가 자신의 로그인 셸 변경: chsh -s\n",
        "* **''안에 들어있는 특수문자의 특수한 기능은 모두 사라지고 문자로 취급됨**\n",
        "* /etc/profile: 모든 사용자에게 적용 될 환경 변수등을 설정할 때 사용 / 반드시 관리자만 설정 가능, 모든 사용자에게 반영 / bash 셸에서 사용\n"
      ]
    },
    {
      "cell_type": "markdown",
      "metadata": {
        "id": "jV5WaAXLoF8F"
      },
      "source": [
        "\n",
        "\n",
        "---\n",
        "응용장치\n",
        "* eject: CD-ROM, DVD-ROM 등과 같은 보조기억장치의 미디어를 꺼낼 때(트레이-tray 열 때) 사용하는 명령\n"
      ]
    },
    {
      "cell_type": "markdown",
      "metadata": {
        "id": "Ql7ETaFcozgn"
      },
      "source": [
        "\n",
        "\n",
        "---\n",
        "환경변수\n",
        "* PS1: 셸 프롬프트를 선언\n",
        "* HISTSIZE: 셸의 스택에 저장되는 명령어의 개수\n",
        "* TERM: 로그인 한 터미널의 종류가 저장되는 변수\n",
        "* LANG: 셸 사용 시 기본적으로 지원되는 언어가 저장\n",
        "* HISTTIMEFORMAT: history 관련 환경 변수 중에 시간 형식을 설정할 수 있는 환경변수\n"
      ]
    },
    {
      "cell_type": "markdown",
      "metadata": {
        "id": "reOuJ25kpfZW"
      },
      "source": [
        "\n",
        "\n",
        "---\n",
        "프로세스\n",
        "* **daemon**: 백그라운드 프로세스의 일종. 지속적인 서비스 요청을 처리하기 위해 계속 실행되는 프로세스. 보통 **서버 역할을 수행하는 프로그램**들을 데몬이라고 부른다\n",
        "* fork: 새로운 프로세스를 생성할 때 메모리를 할당받아 복사본 형태로 프로세스를 실행. 기존의 프로세스는 그대로 실행\n",
        "* ctrl+z: 포어그라운드 프로세스를 백그라운드 프로세스로 전환 \n",
        "* **nohup**: 백그라운드로 실행되는 프로세스가 작업 중인 터미널이 닫혀도 계속적으로 실행될 수 있도록 해주는 명령. 마지막에 &가 붙어야 함\n"
      ]
    },
    {
      "cell_type": "markdown",
      "metadata": {
        "id": "cz8Mu76hqaSP"
      },
      "source": [
        "\n",
        "\n",
        "---\n",
        "시그널\n",
        "* kill 명령에서 강제 종료 시그널: -9(SIGKILL,KILL)\n",
        "* inetd(xinetd): 필요한 서비스지만 자주 사용하지 않는 서비스들을 관리할 때 유용. 메모리 관리에 효율적\n",
        "* pstree: 실행 중인 프로세스 목록을 트리 구조로 출력\n",
        "* jobs: 백그라운드로 실행중인 프로세스 확인\n",
        "* nice -값 프로세스명: 설정되는 값은 기존의 NI 값에 증가마되는 형태\n",
        "* crontab : 분 시 일 월 요일 형식\n"
      ]
    },
    {
      "cell_type": "markdown",
      "metadata": {
        "id": "BVahGbIqsA7W"
      },
      "source": [
        "\n",
        "\n",
        "---\n",
        "편집기\n",
        "* emacs : 리처드 스톨만이 개발한 고성능 문서 편집기. 포괄적인 통합 환경 제공\n",
        "* vi + 파일명 : 파일을 열면서 커서의 위치를 마지막 줄로 이동\n",
        "* pico 편집기\n",
        "  * 워싱턴 대학의 Aboil Kasar가 개발한 텍스트 편집기\n",
        "  * pico의 복제 프로그램: nano\n",
        "  * Pine이라는 E-main 클라이언트 프로그램과 같이 배포됨\n",
        "* vi 편집기를 통해 3번째 줄 부터 9번째 줄 까지 주석을 제거하는 명령(셸에서 주석은 #): : 3,9s/^#//\n",
        "  * 주석은 줄의 시작에 위치하기 때문에 ^#\n",
        "* pico 편집기 종료: ctrl+x\n",
        "* vi 편집기의 3가지 모드: 명령모드, 입력모드, ex모드\n",
        "* yum 명령 사용 이력: yum history\n"
      ]
    },
    {
      "cell_type": "markdown",
      "metadata": {
        "id": "AtVN5vsjtSJn"
      },
      "source": [
        "\n",
        "\n",
        "---\n",
        "압축 및 해제\n",
        "* tar 옵션 중 관련 작업을 자세히 보여주는 옵션: -v(--verbose)\n",
        "* gzip으로 압축하면서 묶는 옵션: zxvf/ 생성되는 파일 명을 적은 뒤에 맨 마지막에 대상을 명시함\n",
        "  * /home 디렉터리를 home.tgz파일로 압축 : tar -zcvf home.tgz /home\n",
        "* gzip에 의해 압축되어 있는 텍스트 파일의 내용을 확인 : zcat\n"
      ]
    }
  ]
}