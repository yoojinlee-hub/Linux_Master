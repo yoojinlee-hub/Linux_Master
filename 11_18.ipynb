{
  "nbformat": 4,
  "nbformat_minor": 0,
  "metadata": {
    "colab": {
      "name": "11/18.ipynb",
      "provenance": [],
      "authorship_tag": "ABX9TyPJqK1G1bTcSYi5nv+ChVmf",
      "include_colab_link": true
    },
    "kernelspec": {
      "name": "python3",
      "display_name": "Python 3"
    },
    "language_info": {
      "name": "python"
    }
  },
  "cells": [
    {
      "cell_type": "markdown",
      "metadata": {
        "id": "view-in-github",
        "colab_type": "text"
      },
      "source": [
        "<a href=\"https://colab.research.google.com/github/yoojinlee-hub/Linux_Master/blob/main/11_18.ipynb\" target=\"_parent\"><img src=\"https://colab.research.google.com/assets/colab-badge.svg\" alt=\"Open In Colab\"/></a>"
      ]
    },
    {
      "cell_type": "markdown",
      "metadata": {
        "id": "kyDR_iwIg7jK"
      },
      "source": [
        "*  chmod: 파일이나 디렉터리에 접근할 수 없는 허가권 설정\n",
        "  * chown,chgrp: 파일이나 디렉터리의 소유권 및 그룹 소유권\n",
        "* chgrp 옵션에서 디럭테리 내부의 모든 파일의 그룹 소유권 변경 : -R(--recursive)\n",
        "* /tmp: 모든 사용자 및 응용프로그램에서 파일 생성 가능 / 삭제할 때는 본인 소유의 파일만 가능\n",
        "* chown: 디렉터리 내부에 존재하는 모든 파일의 소유권 및 그룹 소유권 변경 -R(--recursive)\n",
        "* umask값을 문자로 표기: -S(Symbolic)"
      ]
    }
  ]
}