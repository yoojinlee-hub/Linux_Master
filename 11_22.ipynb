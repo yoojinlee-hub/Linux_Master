{
  "nbformat": 4,
  "nbformat_minor": 0,
  "metadata": {
    "colab": {
      "name": "11/22.ipynb",
      "provenance": [],
      "authorship_tag": "ABX9TyMZbqYdjg78dRHhjQhoi7uB",
      "include_colab_link": true
    },
    "kernelspec": {
      "name": "python3",
      "display_name": "Python 3"
    },
    "language_info": {
      "name": "python"
    }
  },
  "cells": [
    {
      "cell_type": "markdown",
      "metadata": {
        "id": "view-in-github",
        "colab_type": "text"
      },
      "source": [
        "<a href=\"https://colab.research.google.com/github/yoojinlee-hub/Linux_Master/blob/main/11_22.ipynb\" target=\"_parent\"><img src=\"https://colab.research.google.com/assets/colab-badge.svg\" alt=\"Open In Colab\"/></a>"
      ]
    },
    {
      "cell_type": "markdown",
      "metadata": {
        "id": "Ay_rXUxZlzc9"
      },
      "source": [
        "* 온라인 기반 페키지 설치 : 의존성 해결을 위해 등장\n",
        "  * 데비안 : apt-get\n",
        "  * 레드햇: yum\n",
        "* yum을 이용하여 그룹 단위 설치: yum group install \"그룹명\"\n",
        "\n",
        "---\n",
        "\n",
        "기타 장치\n",
        "* make: 소스 코드에서 실행 가능한 프로그램과 라이브러리를 자동으로 빌드\n",
        "* CUPS: 웹을 통해 관련 장치의 제어가 가능 / 애플이 개발한 오픈 소스 프린팅 시스템/ 설정한 정보는 '/etc.cups/printers.conf'파일에 저장\n",
        "* LPRng 프린팅 시스템: 리눅스 초기에 사용/ '/etc/printcap'파일에 프린터 관련 환경 설정 파일 저장\n",
        "* ALSA는 OSS의 지원을 받아 하드웨어 기반 미디 합성 등을 지원 : 사운드카드 드라이버\n",
        "* X윈도 기반의 프린터 설정: system-config-printer\n",
        "* SANE(Scanner Access Now Easy): 리눅스 이미지 관련 하드웨어를 사용할 수 있도록 해 주는 api\n",
        "* sane-find-scanner: 스캐너 관련 장치 파일을 찾아주는 명령어\n",
        "* alsactl: ALSA 사운드 카드 제어 명령"
      ]
    },
    {
      "cell_type": "markdown",
      "metadata": {
        "id": "aCbzEyLwoszQ"
      },
      "source": [
        "\n",
        "\n",
        "---\n",
        "X윈도\n",
        "* XCB(X Protocol C language Binding): Xlib와 비교하여 향상된 스레딩 기능 지원, 확장성이 뛰어나며 라이브러리의 크기가 작고 단순. 직접 X프로토콜에 접근도 가능 \n",
        "* 리눅스 부팅 시에 X윈도 사용: #systemctl set-default graphical.target(graphical만 써도 됨)\n",
        "* X 클라이언트에서 X서버로부터 전달한 키를 설치하는 방법: xauth **add** . $DISPLAY 킷값\n",
        "* Wayland: 기존의 X를 대체할 목적으로 등장한 X 관련 프로토콜. 개발 및 유지보수를 쉽게 하려는 것이 주 목적 / X클라이언트가 해당 프로토콜의 C라이브버리 구현뿐만 아니라 클라이언트와 대화할 수 있는 compositor를 위한 프로토콜"
      ]
    },
    {
      "cell_type": "markdown",
      "metadata": {
        "id": "EQAlHQ5Oqdcf"
      },
      "source": [
        "\n",
        "\n",
        "---\n",
        "데스크톱 환경\n",
        "* GNOME, KDE,Xfce,LXDE등이 있음\n",
        "* KDE의 주요 프로그램\n",
        "  * konqueror: 웹 브라우저 및 파일 관리 프로그램\n",
        "  * kwrite: 텍스트 편집 프로그램\n",
        "  * Kget: 다운로드 관리 프로그램\n",
        "  * okular: 문서 뷰어 프로그램\n",
        "  * Krfb: 데스크톱 공유 프로그램\n",
        "* GNOME의 통합형 음악 관리 프로그램:  Rythmbox\n",
        "\n"
      ]
    },
    {
      "cell_type": "markdown",
      "metadata": {
        "id": "i9oaDssNsCE_"
      },
      "source": [
        "\n",
        "\n",
        "---\n",
        "네트워크\n",
        "* 2대의 컴퓨터를 UTP 케이블로 직접 연결: 한 쪽은 T568B, 다른 한 쪽은 T568A\n",
        "* 표현 계층: 암호화와 해독, 압축과 해재\n",
        "* netstat의 status 결과와 내용\n",
        "  * CLOSING: 흔하지 않게 주로 확인 메시지가 전송 도중 분실된 상태\n",
        "  * TIME-WAIT: 패킷 처리는 끝났지만 분실되었을지 모를 느린 세그먼트를 위해 당분간 소켓을 열어놓은 상태\n",
        "  * LAST-ACK: 원격 호스트가 종료되고 소켓도 닫힌 상태에서 마지막 ACK 패킷을 기다리는 상태\n",
        "  * SYS-SENT: 로컬시스템의 클라이언트 애플리케이션이 원격 호스트에 연결을 요청한 상태\n",
        "* 프로토콜 구성요소 \"구문(Syntex)\": 데이터의 구조나 형식. 부호화, 신호 레벨 등을 규정\n",
        "* /etc/sysconfig/network-scripts: 네트워크 인터페이스의 환경 설정과 관련된 파일 저장\n",
        "* lo: 루프백 장치를 나타내는 명령\n",
        "* 게이트웨이: 서로 다른 통신망이나 프로토콜을 사용하는 네트워크 간의 통신을 가능하게 함\n",
        "* systemctl status network: CentOS 7에서 네트워크 관련 상태를 확인하는 명령\n"
      ]
    },
    {
      "cell_type": "markdown",
      "metadata": {
        "id": "yADBza6ktato"
      },
      "source": [
        "\n",
        "\n",
        "---\n",
        "텔넷, SSL 등\n",
        "* telnet 명령으로 기본 포트인 23번 이외의 다른 포트 지정: telnet 호스트 포트번호\n",
        "* ssh명령으로 기본 포트인 22번이 아닌 다른 포트를 지정: ssh -p 포트번호 호스트\n",
        "* opera: 탭 브라우저 기능과 웹 페이지를 네모난 썸네일 형태로 가지런히 배열하는 '스피드 다이얼'을 최초로 선보인 웹 브라우저\n",
        "* IRC(Internet Relay Chat) 실시간 채팅 프로토콜\n",
        "* SAMBA 초기에는 SMB 프로토콜을 사용하였으나 현재는 CIFS 프로토콜을 사용함\n",
        "* ssh명령을이용하요 특정 사용자 지정: -l 사용자명\n",
        "* ethtool, mii-tool: 네트워크 인터페이스의 물리적 연결 여부 확인\n",
        "* /etc/hosts: 원격지 시스템에 접속할 때 ip주소 대신에 기억하기 쉬운 별칭을 설정해서 사용\n",
        "\n",
        "\n",
        "---\n",
        "\n",
        "\n",
        "* 베어울프 클러스터: 여러 대의 컴퓨터를 하나로 묶어 고성능의 계산능력을 발휘하도록 구축하는 시스템. HPC(High Performance Computing)이라고도 불림\n",
        "* PaaS(Platform as a Service): 업무에 필요한 소프트웨어를 개발할 수 있는 환경을 제공하는 것\n",
        "* Hadoop: 빅데이터 관련 기술 중 파일 시스템과 같이 인프라 구축과 가장 관계가 깊은 기술. 분산파일 시스템을 구성하는 솔루션\n",
        "\n"
      ]
    }
  ]
}