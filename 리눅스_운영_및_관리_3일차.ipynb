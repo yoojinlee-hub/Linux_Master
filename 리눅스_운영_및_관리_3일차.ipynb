{
  "nbformat": 4,
  "nbformat_minor": 0,
  "metadata": {
    "colab": {
      "name": "리눅스 운영 및 관리 3일차.ipynb",
      "provenance": [],
      "authorship_tag": "ABX9TyNXFKuFLXWPJ01i/lQsvnDm",
      "include_colab_link": true
    },
    "kernelspec": {
      "name": "python3",
      "display_name": "Python 3"
    },
    "language_info": {
      "name": "python"
    }
  },
  "cells": [
    {
      "cell_type": "markdown",
      "metadata": {
        "id": "view-in-github",
        "colab_type": "text"
      },
      "source": [
        "<a href=\"https://colab.research.google.com/github/yoojinlee-hub/Linux_Master/blob/main/%EB%A6%AC%EB%88%85%EC%8A%A4_%EC%9A%B4%EC%98%81_%EB%B0%8F_%EA%B4%80%EB%A6%AC_3%EC%9D%BC%EC%B0%A8.ipynb\" target=\"_parent\"><img src=\"https://colab.research.google.com/assets/colab-badge.svg\" alt=\"Open In Colab\"/></a>"
      ]
    },
    {
      "cell_type": "markdown",
      "metadata": {
        "id": "LRJopt0GfvmF"
      },
      "source": [
        "프로세스(process): 실행중인 프로그램. 실행 시에 번화(Process Identity, PID)가 할당되어 관리\n",
        "\n",
        "* 백그라운드 프로세스: 사용자의 입력에 관계없이 실행\n",
        "  * 기존의 포어그라운드 프로세스 명령 뒤에 '&'만 붙여서 실행\n",
        "  * 눈에 보이지 않게 뒤에서 실행\n",
        "  * 다중작업 수행할 때 유용\n",
        "* 포어그리운드 프로세스: 명령 입력 후 수행종료까지 기다려야 함\n",
        "  * 보통 셸에서 명령을 실행하면 포어그라운드 프로세스"
      ]
    },
    {
      "cell_type": "markdown",
      "metadata": {
        "id": "oI7p571IgH6c"
      },
      "source": [
        "\n",
        "\n",
        "---\n",
        "\n"
      ]
    },
    {
      "cell_type": "markdown",
      "metadata": {
        "id": "Q4JIel3OgIml"
      },
      "source": [
        "프로세스의 생성\n",
        "\n",
        "* 최초의 프로세스 <systemd, pid 1번> 이후 시스템 운영에 필요한 데몬을 비롯한 다른 프로세스 들은 fork 방식으로 자식프로세스로 생성됨\n",
        "  * pstree 명령으로 확인 가능\n",
        "  * fork 방식: 새로운 프로세스를 위해 메모리를 할당 / 새롭게 생성된 프로세스는 원래의 프로세스와 똑같은 코드를 기반으로 실행됨\n",
        "  * exec 방식: 원래의 프로세스를 새로원 프로세스로 대체 / 호출한 프로세스의 메모리에 새로운 프로세스의 코드로 덮어씌움/ 명령어 앞에 exec를 붙임\n",
        "  * PPID(Parent Pid)"
      ]
    },
    {
      "cell_type": "markdown",
      "metadata": {
        "id": "ixgPhgHBh0sd"
      },
      "source": [
        "\n",
        "\n",
        "---\n",
        "\n"
      ]
    },
    {
      "cell_type": "markdown",
      "metadata": {
        "id": "QKYG9wFSh2A8"
      },
      "source": [
        "멀티태스킹: 다수의 프로그램들을 백그라운드 프로세스로 실행시킨 상태에서 추가로 포어그라운드 프로세스로 다른 작업을 수행\n",
        "* 백그라운드 프로세스를 포어그라운드로 전환 가능\n",
        "  1. fg명령어 사용\n",
        "  2. 또는, jobs에서 작업 내용 확인 뒤 'fg %작업번호'또는 'fg 작업번호'\n",
        "* 포어그라운드 프로세스를 백그라운드로 전환 가능\n",
        "  1. 작업 중인 프로세스를 대기시킴 : ctrl + z\n",
        "  2. bg 명령 입력\n",
        "  * 작업의 상태는 'jobs'라는 명령으로 확인 가능"
      ]
    },
    {
      "cell_type": "markdown",
      "metadata": {
        "id": "fMgLTmNOiwAl"
      },
      "source": [
        "\n",
        "\n",
        "---\n",
        "\n"
      ]
    },
    {
      "cell_type": "markdown",
      "metadata": {
        "id": "mhK9Q-FRjDKj"
      },
      "source": [
        "시그널: 신호라는 의미/ 프로세스 끼리 서로 통신할 때 사용\n",
        "* 사용자가 인터럽트 키를 통해 발생시키는 시그널\n",
        "* 프로세스가 발생하는 시그널\n",
        "* 하드웨어가 발생하는 시그널\n",
        "* kill -l :시그널의 목록 확인\n",
        "\n",
        "1. SIGHUP(HUP) : hangup의 약어. 터미널에서 접속이 끊겼을 때\n",
        "2. SIGINT(INT) : 실행중지. CTRL+C\n",
        "3. SIGOUT(QUIT): 실행중지. CTRL+/\n",
        "9. SIGKILL(KILL) : 강제 종료\n",
        "15. SIGTERM(TERM) : 가능한 정상종료. KILL 명령의 기본 시그널\n",
        "18. SIGCONT(CONT): 정지된 프로세스 다시 실행\n",
        "19. SIGSTOP(STOP): 터미널에서 입력된 정지 시그널\n",
        "20. SIGTSTP(TSTP): 대기. CTRL+Z\n"
      ]
    },
    {
      "cell_type": "markdown",
      "metadata": {
        "id": "IKQGBX52km7r"
      },
      "source": [
        "데몬: 주기적이고 지속적인 서비스 요청 처리 / 백그라운드로 실행/ 보통 이름 뒤에 데몬을 뜻하는 d를 붙임\n",
        "* standalone 방식: 부팅 시에 실행되어 해당 프로세스가 메모리에 계속 상주하면서 클라이언트의 서비스 요청을 처리 / 빈번한 요청이 들어올 때 사용\n",
        "* inetd -> xinetd -> 단독데몬: 서비스 요청이 들어왔을 때 관련 프로세스를 실행/ 기본적으로 inetd 데몬만 메모리에 상주"
      ]
    },
    {
      "cell_type": "markdown",
      "metadata": {
        "id": "6FBdxnq1l0pj"
      },
      "source": [
        "\n",
        "\n",
        "---\n",
        "\n"
      ]
    },
    {
      "cell_type": "markdown",
      "metadata": {
        "id": "NjVRbBqdl3UJ"
      },
      "source": [
        "프로세스 관련 명령어\n",
        "* ps(process status): 동작중인 프로세스의 상태 출력\n",
        "  * System V계열 : - 사용\n",
        "  * BSD 계열: - 사용 안함\n",
        "  * GNU 계열: -- 사용\n",
        "  * x : 데몬 프로세스처럼 터미널에 종속되지 않는 프로세스 출력\n",
        "  * stat의 Z(Zombie): 좀비 프로세스. 작업이 종료되었으나 부모 프로세스로부터 회수되지 않아 메모리를 차지하는 상태\n",
        "* pstree: 프로세스의 상태를 트리 구조로 출력. 가장 왼쪽이 부모 프로세스, 오른쪽이 자식 프로세스\n",
        "* top: 동작 중인 프로세스의 상태를 실시간으로 화면에 출력 / 실행 상태에서 다양한 명령을 입력하여 프로세스 상태를 출력하거나 제어할 수 있다\n",
        "* kill: 프로세스에 특정한 시그널을 보냄. 옵션없이 실행하면 종료 신호(15)를 보냄. 보통 중지시킬 수 없는 프로세스를 종료시킬 때 사용\n",
        "* killall: 같은 데몬의 여러 프로세스를 한 번에 종료시킬 때 사용\n",
        "* jobs: 백그라운드로 실행 중인 프로세스나 현재 중지된 프로세스의 목록 출력\n",
        "* fg: 백그라운드 프로세스를 포어그라운드 프로세스로 전환\n",
        "* bg: 포어그라운드 프로세스를 백그라운드 프로세스로 전환\n",
        "* nice : 프로세스의 우선순위를 변경/ 값이 작을 수록 우선순위가 높다\n",
        "  * PRI: 운영체제에서 참고하는 우선순위값. 시스템 상황에 따라 부여됨\n",
        "  * NI : root나 사용자가 조작하는 우선순위 값\n",
        "* renice: 실행 중인 프로세스의 우선순위 변경\n",
        "  * renice [option] NI값 PID\n",
        "* nohup : 백그라운드로 실행되는 명령행 앞에 붙이는 명령어\n",
        "  * nohup 명령 &"
      ]
    },
    {
      "cell_type": "markdown",
      "metadata": {
        "id": "A00-VMSbpLyh"
      },
      "source": [
        "\n",
        "\n",
        "---\n",
        "\n"
      ]
    },
    {
      "cell_type": "markdown",
      "metadata": {
        "id": "CR0hOvGLpL2_"
      },
      "source": [
        "스케줄링: 특정한 시간에 특정한 작업을 수행하게 하는 것\n",
        "  * cron : 시스템 운영엥 필요한 작업<root 권한으로 /etc/crontab에 등록> / 사용자의 필요에 의한 작업\n",
        "    * crontab: 사용자가 주기적인 작업을 등록하기 위해 사용하는 명령. 실행하면 기본편집기인 vi가 실행됨 / '/var/spool/cron/사용자아이디' 파일로 저장됨"
      ]
    }
  ]
}