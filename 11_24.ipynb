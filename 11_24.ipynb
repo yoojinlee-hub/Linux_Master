{
  "nbformat": 4,
  "nbformat_minor": 0,
  "metadata": {
    "colab": {
      "name": "11/24.ipynb",
      "provenance": [],
      "authorship_tag": "ABX9TyMSy2BRTI+6KmfsmDfk7jiy",
      "include_colab_link": true
    },
    "kernelspec": {
      "name": "python3",
      "display_name": "Python 3"
    },
    "language_info": {
      "name": "python"
    }
  },
  "cells": [
    {
      "cell_type": "markdown",
      "metadata": {
        "id": "view-in-github",
        "colab_type": "text"
      },
      "source": [
        "<a href=\"https://colab.research.google.com/github/yoojinlee-hub/Linux_Master/blob/main/11_24.ipynb\" target=\"_parent\"><img src=\"https://colab.research.google.com/assets/colab-badge.svg\" alt=\"Open In Colab\"/></a>"
      ]
    },
    {
      "cell_type": "markdown",
      "metadata": {
        "id": "mAfRanHO0CF7"
      },
      "source": [
        "RPM 패키지\n",
        "* rpm명령에서 -V(--verify) 옵션: 파일의 크기, 허가권, 소유권, 파일 형식 등의 **변경 정보 출력**\n",
        "* rpm명령에서 -qf(--queryformat): 설치되어 있는 파일이나 디렉터리의 **절대 경로**를 패키지명을 찾을 때 사용\n",
        "* rpm명령에서 문서 파일 경로 출력: -qd(--quert--docfiles)"
      ]
    },
    {
      "cell_type": "markdown",
      "metadata": {
        "id": "2yyWpCFe42Ls"
      },
      "source": [
        "\n",
        "\n",
        "---\n",
        "기타 프로그램\n",
        "* CUPS 관련 파일\n",
        "  *  /etc/cups.cupsd.conf , /etc/cups/printers.conf: 프린터 데몬의 환경 설정 파일\n",
        "  * /etc/cups/classess.conf : 프린터 데몬의 클래스 설정 파일\n",
        "  * cupsd: 프린터 데몬\n",
        "  * 애플이 개발한 오픈소스 프린팅 시스템\n",
        "* LPRng의 설명\n",
        "  * /etc/printcap : 리눅스 초기에 사용되었던 LPRng 프린팅 시스템에서 사용하던 프린터 관련 환경 설정 파일\n",
        "  * BSD 계열 유닉스\n",
        "  * 프린터 스풀링과 네트워크 프린터 서버 지원\n",
        "  * 라인 프린터 데몬 프로토콜 사용\n",
        "  * 버클리 프린팅 시스템\n",
        "* cancel 명령으로 한 개의 프린터 작업을 취소하기 전에 필수로 선행되어야 할 과정? *lpstat명령을 이용해 프린터 큐에 대기중인 작업 요청 ID 값을 확인*\n",
        "* alsamixer: 커서(ncurses) 라이브러리 기반의 오디오 프로그램\n",
        "* BSD계열 프린터 명령 : lpr,lpq,lprm,lpc\n"
      ]
    },
    {
      "cell_type": "markdown",
      "metadata": {
        "id": "1EZiRGJe6FQt"
      },
      "source": [
        "\n",
        "\n",
        "---\n",
        "X 윈도\n",
        "* X 윈도 설명\n",
        "  * Bob Scheifler가 오픈소스로 만들었음\n",
        "  * 그래픽 환경의 인터페이스를 사용자가 원하는 모양으로 만들 수 있다\n",
        "  * X Protocol을 사용\n",
        "  * 특정 디스플레이 장치에 의존적이지 않음\n",
        "* Display Manager: X윈도 구성요소에서 사용자 로그인 및 세션 관리를 수행\n",
        "* 부팅 시 X윈도 실행 : set-default\n",
        "* X 윈도 환경에서 사용 가능한 멀티미디어 프로그램: Totem, KMid,Drafon Player\n",
        "* eog: 이미지 뷰어 프로그램\n",
        "* xlib: 클라이언트 라이브러리/ 윈도우 창 생성, 이벤트 처리, 창 조회, 키보드 처리\n",
        "---\n",
        "\n",
        "KDE\n",
        "* kwrite: KDE 프로그램 중에서 텍스트 편집기\n",
        "* Krfb: KDE 기반의 데스크톱 공유 프로그램\n",
        "* KSnapshot : KDE 기반의 스크린 캡쳐 프로그램\n",
        "\n",
        "\n",
        "---\n",
        "\n",
        "GNOME\n",
        "* gThumb: GNOME 기반의 이미지 뷰여 및 편집 프로그램\n",
        "\n",
        "\n",
        "\n",
        "---\n",
        "LibreOffice\n",
        "* 오피스 패키지 프로그램\n",
        "* LibreOffice Impress: 프레젠테이션 프로그램\n",
        "\n"
      ]
    },
    {
      "cell_type": "markdown",
      "metadata": {
        "id": "kwzPapRD8z31"
      },
      "source": [
        "\n",
        "\n",
        "---\n",
        "네트워크\n",
        "* 라우터: LAN을 연결시켜주는 망 연동장치. 핵심적인 통신장비\n",
        "* IP주소 : A,B,C,D,E 클래스로 분류( 첫번째 8 비트 영역 값에 따라)\n",
        "* TFTP: 단순한 파일 복사를 수행하는 FTP의 기능을 강화한 프로토콜\n",
        "* 라우터의 장점\n",
        "  * 대규모 통신망 쉽게 구성\n",
        "  * 다양한 경로를 따라 통신량 분산 가능\n",
        "  * 전체 네트워크의 성능 개선\n",
        "  * **동일한 전송 프로토콜**을 사용하는 분리된 네트워크 연결\n",
        "* **NFS**는 NIS와 더불어 **RPC 프로토콜 기반**으로 작동하므로 해당 서비스를 해주는 **portmap 데몬**의 실행이 필수\n",
        "* 프로토콜과 서버 프로그램\n",
        "  * FTP: proftpd\n",
        "  * HTTP: Apache, IIS, Nginx // 클라이언트: Mozilla\n",
        "  * SMTP : qmail\n",
        "  * DNS : bind\n",
        "* route, 'netstat -r' : Kernel IP routing table 확인할 수 있는 명령\n",
        "* route 명령으로 변경하는 항목 : Gateway Address, Network Port\n",
        "* 리눅스가 지원하는 네트워크 인터페이스\n",
        "  * lo: 루프백 인터페이스. 자기자신\n",
        "  * plip: 패러럴 라인 인터페이스\n",
        "  * sl: SLIP 인터페이스\n",
        "* dl: 패러럴 포트로 구동되는 D-LINKDE-600 포켓 어뎁터 장치\n",
        "* ifconfig명령으로 확인 가능: IP주소, MAC주소, 넷마스크 주소값, Broadcast 주소, MTU\n",
        "* 네트워크 관련 설정: ifconfig, route, netconfig\n",
        "* traceroute: 네트워크 패킷 경로 추적\n",
        "* DNS 서버의 설정 정보 확인 : dig\n",
        "\n",
        "---\n",
        "\n",
        "메일서비스\n",
        "* IMAP : imapd - 일반 사용자가 메일을 받을 때 사용\n",
        "* ICMP: ping\n",
        "* SMTP: sendmail\n",
        "* POP : qpopper - 일반 사용자가 메일을 받을 때 사용\n"
      ]
    },
    {
      "cell_type": "markdown",
      "metadata": {
        "id": "9WqW3_3A_7RW"
      },
      "source": [
        "\n",
        "\n",
        "---\n",
        "* 베어울프 클러스터: 여래 대의 컴퓨터를 하나로 묶어 고성능의 계산능력을 제공하기 위한 목적으로 제작. 주로 과학계산용으로 활용\n",
        "* 임베디드 리눅스\n",
        "  * 상대적으로 많은 메모리 차지\n",
        "  * 소스가 공개되어 있어서 변경과 재배포가 쉬움\n",
        "* 서버 가상화\n",
        "  * 응급재해시 서비스 중단 없는 빠른 서비스 복구\n",
        "  * 메인 시스템 장애 발생시 문제해결이 복잡\n",
        "  * 서버 트래픽 증가에 따른 유연한 대처\n",
        "  * 데이터 및 서비스 가용성 증가\n",
        "* 타이젠: 인텔, 삼성을 주축으로 리눅스재단, MeeGo 개발자 등이 만든 리눅스 기반의 무료 공개형 모바일 운영체제\n"
      ]
    }
  ]
}