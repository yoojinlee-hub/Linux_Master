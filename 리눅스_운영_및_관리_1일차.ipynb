{
  "nbformat": 4,
  "nbformat_minor": 0,
  "metadata": {
    "colab": {
      "name": "리눅스 운영 및 관리 1일차.ipynb",
      "provenance": [],
      "authorship_tag": "ABX9TyPLDQuyYo79S93RQQ5Lm3pZ",
      "include_colab_link": true
    },
    "kernelspec": {
      "name": "python3",
      "display_name": "Python 3"
    },
    "language_info": {
      "name": "python"
    }
  },
  "cells": [
    {
      "cell_type": "markdown",
      "metadata": {
        "id": "view-in-github",
        "colab_type": "text"
      },
      "source": [
        "<a href=\"https://colab.research.google.com/github/yoojinlee-hub/Linux_Master/blob/main/%EB%A6%AC%EB%88%85%EC%8A%A4_%EC%9A%B4%EC%98%81_%EB%B0%8F_%EA%B4%80%EB%A6%AC_1%EC%9D%BC%EC%B0%A8.ipynb\" target=\"_parent\"><img src=\"https://colab.research.google.com/assets/colab-badge.svg\" alt=\"Open In Colab\"/></a>"
      ]
    },
    {
      "cell_type": "markdown",
      "metadata": {
        "id": "yEGVu07B_Mvc"
      },
      "source": [
        "** -rw-rwr--. 1 posein posein**\n",
        " * ls-l명령으로 확인 가능\n",
        "\n",
        "* -rw-rwr--: 허가권; 사용자,그룹,다른사용자 (첫번째 영역: 파일의 타입)\n",
        "* posein : 소유권을 가진 사용자\n",
        "* posein: 그룹소유권"
      ]
    },
    {
      "cell_type": "markdown",
      "metadata": {
        "id": "bvdtP1o-_nQ0"
      },
      "source": [
        "* chmod : 파일이나 디렉터리에 접근할 수 있는 허가권을 설정하는 명령어\n",
        "  1. 문자모드: 권한(r,w,x), 사용자(u,g,o,a), 설정(+,-<설정 또는 해제>,=) \n",
        "  2. 숫자모드(4,2,1,0)\n",
        "* unmask: 기본 허가권 값 지정, 파일 생성시 666.디렉터리인 경우 777에서 설정한 unmask값을 뺀 값\n",
        "\n",
        "\n",
        "\n",
        "---\n",
        "\n",
        "\n",
        "* chown : 파일이나 디렉터리의 소유권 변경\n",
        "* chgrp: 파일이나 디렉터리의 소유 그룹 변경 - 특정한 사용자가 여러 그룹에 속한 경우에 본인 소유의 파일을 본인이 속한 그룹 내에서 소유권 변경 가능"
      ]
    },
    {
      "cell_type": "markdown",
      "metadata": {
        "id": "-fW1Sac5BTtU"
      },
      "source": [
        "\n",
        "\n",
        "---\n",
        "\n",
        "\n",
        "\n",
        "---\n",
        "\n"
      ]
    },
    {
      "cell_type": "markdown",
      "metadata": {
        "id": "YCyn6v8SBfny"
      },
      "source": [
        "특수권한\n",
        "* Set_GID : 보통 디렉터리에 사용.해당 파일을 소유한 그룹 권한으로 인식  **s로 표시**\n",
        "* Set_UID : 보통 실행 파일에 사용. 해당 파일을 실행하는 동안에는 실행시킨 사용자의 권한이 아닌 해당 파일의 소유자 권한으로 인식. **s로 표시**\n",
        "* Sticky-Bit: 디렉터리에 설정되는 특수 권한. 일종의 공유 디렉터리. 리눅스에서는 /tmp디렉터리에 기본적으로 설정되어있음. 생성에는 제한이 없지만, *삭제할 경우 본인이 생성한 파일 이외에는 불가능*. Group과 Other계층 사용자에게 사용, 두 계층 함께 사용은 불가능/other 계층 권한 부분의 x자리에 **t로 표시**"
      ]
    },
    {
      "cell_type": "markdown",
      "metadata": {
        "id": "Gqk264zUDaux"
      },
      "source": [
        "\n",
        "\n",
        "---\n",
        "\n",
        "\n",
        "\n",
        "---\n",
        "\n"
      ]
    },
    {
      "cell_type": "markdown",
      "metadata": {
        "id": "vyyHEKpyDdtY"
      },
      "source": [
        "파일 시스템의 관리\n",
        "* ex3: 저널링 파일 시스템 기능(파일 시스템에 대한 변경사항을 반영하기 전에 *저널이라 부르는 로그에 변경사항을 저장*하여 추적이 가능하게 만든 파일 시스템)\n",
        "* ex4: 최대 파일 크기 및 파일 시스템 크기를 대폭 늘림\n",
        "* XFS: RHEL4버전에서 사용"
      ]
    },
    {
      "cell_type": "markdown",
      "metadata": {
        "id": "nHNvFp8LEN2a"
      },
      "source": [
        "* mount: 보조기억장치나 파일 시스템이 다른 디스크릴 /의 하위 디렉터리로 연결하여 사용 가능하게 해주는 명령\n",
        "  * -t fs_type : 파일 시스템의 유형을 지정. 기본값: /etc/fstab\n",
        "    * msdos: FAT-16 마운트\n",
        "    * vfat : FAT- 32 마운트\n",
        "\n",
        "* umount: 언마운트. 마운트 된 파일 시스템을 해제\n",
        "* ejext: 이동식 보조 기억장치의 미디어를 꺼낼 때 사용\n",
        "* fdisk: 디스크 파티션을 환인하고 추가/삭제\n",
        "\n",
        "* mkfs: 새로운 파일 시스템을 만드는 명령. root만 사용가능/ ext2로 생성\n",
        "* mke2fs: ext2,3,4 파일 시스템을 만드는 명령. 최근 mkfd 명령 실행시 실제 사용되는 명령어\n",
        "* e2dsck: ext2,3,4 검사 수리\n",
        "\n",
        "\n",
        "---\n",
        "\n",
        "\n",
        "* mkfs.xfs: xfs 파일 시스템을 만드는 명령 = mkfs -t xfs\n",
        "* fsck(filesystem check): ext 계열 리눅스 파일시스템 검사,수리\n",
        "* xfs_repair : XFS 파일 시스템을 점검 및 복구\n",
        "\n"
      ]
    },
    {
      "cell_type": "markdown",
      "metadata": {
        "id": "jwEpOZF9HHrB"
      },
      "source": [
        "* df : disk free 현재 마운트된 디스크의 크기, 사용량, 남아있는 용량\n",
        "* du : disk usage 파일이나 디렉터리들이 디스크에서 차지하고 있는 크기 출력"
      ]
    },
    {
      "cell_type": "markdown",
      "metadata": {
        "id": "tm_up5bNHW9e"
      },
      "source": [
        "\n",
        "\n",
        "---\n",
        "\n",
        "\n",
        "\n",
        "---\n",
        "\n"
      ]
    },
    {
      "cell_type": "markdown",
      "metadata": {
        "id": "nhO8iP4gHXqu"
      },
      "source": [
        "* /etc/fstasb : 파일 시스템에 대한 다양한 정보를 담고 있는 파일. 부팅 시에 마운트할 파티션 정보가 기록되어 있음/ 6개의 필드로 구성\n",
        "  1. 볼륨라벨, UUID(범용 고유 식별자. 고유한 이름 통칭/blkid로 확인 가능), 호스트명:디렉터리\n",
        "  2. 마운트될 디랙터리를 나타낸다\n",
        "  3. 파일 시스템의 유형\n",
        "  4. 마운트 될 때의 옵션 - '*man mount* 에서 확인 가능'\n",
        "  5. dump 명령을 통한 백업 시 레벨 덤츠 사용 주기 결정/ 0: 사용안함, 1: 매일 수행, 2: 이틀에 한번 수행\n",
        "  6. 부팅 시 파일 시스템을 점검하는 fsck명령의 순서를 정함\n",
        "\n",
        "* /etc/mtab: 현재 시스템에 마운트되어 있는 파일 시스템 정보"
      ]
    },
    {
      "cell_type": "markdown",
      "metadata": {
        "id": "_K0LoH48Iizf"
      },
      "source": [
        "\n",
        "\n",
        "---\n",
        "\n",
        "\n",
        "\n",
        "---\n",
        "\n"
      ]
    },
    {
      "cell_type": "markdown",
      "metadata": {
        "id": "AJtyapZ-Ijfu"
      },
      "source": [
        "* blkid: 블록장치의 *속성* 정보 출력/ uuid,label 확인\n",
        "* lsblk: 블록 장치의 *목록 *출력\n"
      ]
    },
    {
      "cell_type": "markdown",
      "metadata": {
        "id": "ajOTuTkBI7El"
      },
      "source": [
        "\n",
        "\n",
        "---\n",
        "\n",
        "\n",
        "\n",
        "---\n",
        "\n"
      ]
    },
    {
      "cell_type": "markdown",
      "metadata": {
        "id": "8y2zIxCGI8R1"
      },
      "source": [
        "**Disk Quota **: 리눅스는 기본적으로 사용자의 용량을 제한하지 않아서, 특정 사용자가 디스크에 남아 있는 용량을 모두 사용할 수 있기 때문에 사용자의 디스크 사용량 제한이 필요함. *사용자 및 그룹의 디스크 사용량과 생성할 수 있는 파일의 개수(I-node의 수)를 제한*"
      ]
    },
    {
      "cell_type": "markdown",
      "metadata": {
        "id": "YAIto0TIJXf2"
      },
      "source": [
        "* xfs_quota: XFS 파일 시스템의 쿼터 관리\n",
        "* edquota: 사용자난 그룹에 쿼터 설정/ vi 편집기가 실행됨/ kb가 기본단위\n",
        "* repquota: 파일 시스템에 설정된 쿼터 정보 출력\n",
        "* quota: 사용자나 그룹 단위로 쿼터 설정 정보를 출력\n",
        "* setquota: 쿼터를 설정하는 명령. vi 편집기 대신에 직접 명령행에서 설정 가능"
      ]
    }
  ]
}