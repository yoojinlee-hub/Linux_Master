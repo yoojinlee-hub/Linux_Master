{
  "nbformat": 4,
  "nbformat_minor": 0,
  "metadata": {
    "colab": {
      "name": "리눅스 활용 1일차.ipynb",
      "provenance": [],
      "authorship_tag": "ABX9TyPtYigyUyX+h15y93YaBUvW",
      "include_colab_link": true
    },
    "kernelspec": {
      "name": "python3",
      "display_name": "Python 3"
    },
    "language_info": {
      "name": "python"
    }
  },
  "cells": [
    {
      "cell_type": "markdown",
      "metadata": {
        "id": "view-in-github",
        "colab_type": "text"
      },
      "source": [
        "<a href=\"https://colab.research.google.com/github/yoojinlee-hub/Linux_Master/blob/main/%EB%A6%AC%EB%88%85%EC%8A%A4_%ED%99%9C%EC%9A%A9_1%EC%9D%BC%EC%B0%A8.ipynb\" target=\"_parent\"><img src=\"https://colab.research.google.com/assets/colab-badge.svg\" alt=\"Open In Colab\"/></a>"
      ]
    },
    {
      "cell_type": "markdown",
      "metadata": {
        "id": "kSgPWyH_Z8Db"
      },
      "source": [
        "X 윈도 : 네트워크 프로토콜에 기반한 그래픽 사용자 인터페이스 환경. 서로 다른 이 기종을 함께  사용 가능. 스크롤바,아이콘,색상 등을 사용자가 원하는 모양으로 정의 가능\n",
        "* 구조 : 클라이언트/서버 구조, 서로간의 통신을 위해 X protocol 사용\n",
        "  * X 서버: 그래픽하게 보여주는 하나의  시스템\n",
        "  * X 클라이언트: X서버 위에서 동작하는 응용프로그램\n",
        "  * TCP 포트 6000번을 사용\n",
        "  * Unix Domain Socket: /tmp/.X11-unix/X0\n",
        "* Xlib: C언어로 구현된 클라이언트 라이브러리 -> X 서버와 대화하는 역할 / 저수준의 인터페이스\n",
        "* XCB(X Protocol C-language Binding): 최근 사용. 향상된 쓰레딩 기능, 뛰어난 확장성, 라이브러리의 크기가 작고 단순, X프로토콜에 직접 접근 가능"
      ]
    },
    {
      "cell_type": "markdown",
      "metadata": {
        "id": "PheLF7jZa8E8"
      },
      "source": [
        "역사 \n",
        "1. XFree86: IBM호환 시스템을 사용하는 유닉스 계열 운영체제 지원\n",
        "2. X.org: X.org Foundation에서 관리하는 X서버 패키지로 보통 X.org Server라고 부름. 소스가 공개된 자유 소프트웨어. 지금까지 지속적으로 개발중"
      ]
    },
    {
      "cell_type": "markdown",
      "metadata": {
        "id": "vUCzqGSadVpV"
      },
      "source": [
        "실행\n",
        "1. 텍스트 모드 전용 : # systemctl set-default multi-user.target //  사용자 계정으로 로그인 -> startx -> X윈도 실행\n",
        "2. X윈도 부팅모드 전용: # systemctl set-default graphical.target // 로그인창-> 세션 시작"
      ]
    },
    {
      "cell_type": "markdown",
      "metadata": {
        "id": "ok5u6bJKd__j"
      },
      "source": [
        "디스플레이 매니저 : XDM,**GDM**,KDM\n",
        "* startx: X윈도를 실행시키는 스크립트. 시스템 환경 초기화, 여러 프로그램 호출, 최종적으로 xinit 호출"
      ]
    },
    {
      "cell_type": "markdown",
      "metadata": {
        "id": "z8snKNP_eSqU"
      },
      "source": [
        "데스크톱 환경: 사용자에게 제공되는 인터페이스 스타일\n",
        "* KDE(K Desktop Environment)\n",
        "* GNOME(GNU Network Object Model Environment): GNU에서 만든 공개형 데스크톱 환경"
      ]
    },
    {
      "cell_type": "markdown",
      "metadata": {
        "id": "-my8xHdJfF0U"
      },
      "source": [
        "X 윈도 매니저: X윈도 환경에서 윈도의 배치와 표현을 담당. 데스크톱 환경 구성에 도움/ 직접 비디오카드,마우스 등에 접근하지 않고 디스플레이 서버를 통해 접근 /Mutter,Metacity,KWin"
      ]
    },
    {
      "cell_type": "markdown",
      "metadata": {
        "id": "PSRbgrVMfWV8"
      },
      "source": [
        "웨이랜드(Wayland): 클라이언트와 대화할 수 있는 compositor를 위한 프로토콜. 개발 및 유지 보수를 쉽게 하려는 것이 주 목적"
      ]
    },
    {
      "cell_type": "markdown",
      "metadata": {
        "id": "OC7ddCdOfpJM"
      },
      "source": [
        "\n",
        "\n",
        "---\n",
        "\n"
      ]
    },
    {
      "cell_type": "markdown",
      "metadata": {
        "id": "2KD96exWfplE"
      },
      "source": [
        "원격지에서 X 클라이언트 이용 가능: 네트워크 지향 시스템\n",
        "1. xhost: X서버에 접근할 수 있는 클라이언트를 지정하거나 해제\n",
        "2. DISPLAY: X클라이언트 프로그램이 실행될 때 표시되는 창이 설정되어 있는 환경변수 // ':0': 시스템에 실행되고 있는 첫번째 X 윈도\n",
        "\n",
        "* 불필요한 클라이언트가 접속 시 xauth(X 접근허가 파일 관련 도구) 이용 - 사용자 기반 인증"
      ]
    },
    {
      "cell_type": "markdown",
      "metadata": {
        "id": "rKIYMteCgdkl"
      },
      "source": [
        "\n",
        "\n",
        "---\n",
        "\n"
      ]
    },
    {
      "cell_type": "markdown",
      "metadata": {
        "id": "9yZ1KT1zgiiU"
      },
      "source": [
        "X윈도 응용 프로그램\n",
        "* GIMP (GNU Image Manipulation Program): 사진이나 그림 편집하는 자유 소프트웨어. Adobe 사의 포토샵과 유사\n",
        "* Totem: GNOME 데스크톱 기반의 무비 플레이어\n",
        "* ImageMagick: 비트맵이미지를 보여주고, 생성 및 편집이 가능/convert,compare 등의 다양한 텍스트 기반의 명령어 지원\n",
        "* eog: Eye of GNOME, GNOME 데스크톱에서 제공하는 이미지 뷰어 프로그램\n",
        "* shotwell: 이미지 뷰어 및 편집기, 스크린샷 이미지에 유용\n",
        "* kdegraphics: KDE에서 제공하는 그래픽관련 프로그램 패키지. gwenview(이미지 뷰어 프로그램), kolourpaint(사용하기 쉬운 페인트 프로그램), ksnapshot(스크린 캡처 유틸리티), okular(문서 뷰어 프로그램) 포함\n",
        "* Rhythmbox: 통합형 음악 관리 프로그램\n",
        "* evince: 멀티페이지 문서 뷰어 프로그램. PDF등 지원\n",
        "* LibreOffice: 무료로 배포되는 오피스 프로그램 패키지. 워드프로세서, 스프레드시트 등 실행가능"
      ]
    }
  ]
}