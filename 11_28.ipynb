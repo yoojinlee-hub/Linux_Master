{
  "nbformat": 4,
  "nbformat_minor": 0,
  "metadata": {
    "colab": {
      "name": "11/28.ipynb",
      "provenance": [],
      "authorship_tag": "ABX9TyNbVQNBGhP/KG3es/G3o3Cm",
      "include_colab_link": true
    },
    "kernelspec": {
      "name": "python3",
      "display_name": "Python 3"
    },
    "language_info": {
      "name": "python"
    }
  },
  "cells": [
    {
      "cell_type": "markdown",
      "metadata": {
        "id": "view-in-github",
        "colab_type": "text"
      },
      "source": [
        "<a href=\"https://colab.research.google.com/github/yoojinlee-hub/Linux_Master/blob/main/11_28.ipynb\" target=\"_parent\"><img src=\"https://colab.research.google.com/assets/colab-badge.svg\" alt=\"Open In Colab\"/></a>"
      ]
    },
    {
      "cell_type": "markdown",
      "metadata": {
        "id": "O0clAkDpjfmi"
      },
      "source": [
        "* 7 줄인 문서에서 전체 줄 표시: 1,7 / 1,$ / % \n",
        "  * 치환 : s/문자열/새문자열/g\n",
        "* **cmake**\n",
        "  * 평행 빌드 지원\n",
        "  * 타임 스탬프를 통해 파일 내용의 변화를 알 수 있음\n",
        "  * 크로스 컴파일 지원\n",
        "  * 마이크로 소프트 Visual Studio .Net 지원\n",
        "\n",
        "\n",
        "---\n",
        "\n",
        "\n",
        "* tar 가 지원하는 압축 형식: compress, gzip, bgip2\n",
        "* tar로 백업할 때\n",
        "  * 파일명이 .tgz : gzip으로 압축함 -> z옵션 사용\n",
        "  * 파일 생성 옵션: cf \n",
        "  * 압축과정 확인 : v\n",
        "  * 특정 패턴 제외: --exclude\n",
        "\n",
        "\n",
        "---\n",
        "\n",
        "\n",
        "* rpm -V 명령의 검증 결과로 나오는 S는 파일크기 변경(File Size), 5는 MD5값 변경, T는 수정시간(Modify Time) 변경\n",
        "\n",
        "\n",
        "---\n",
        "\n",
        "\n",
        "* yum 명령어의 옵션 install : 패키지를 설치. 기본적으로 의존성이 걸려있는 패키지도 설치\n",
        "* yum의 문제점을 개선. 페도라 32부터 적용된 패키지 관리 도구: DNF\n"
      ]
    },
    {
      "cell_type": "markdown",
      "metadata": {
        "id": "OHEZblY-1SCt"
      },
      "source": [
        "---\n",
        "* SCSI,S-ATA등의 디스크는 /dev/sd라는 장치 파일 명이 부여됨\n",
        "  * 디스크 순서에 따라 a,b,c 가 순차적으로 덧붙여지고, 파티션을 분할하면 1,2,3 형태로 숫자값이 추가로 덧붙여짐\n",
        "  * SCSI 디스크 중에 두 번째 디스크의 첫 번째 파티션: sdb1\n",
        "\n",
        "\n",
        "---\n",
        "\n",
        "\n",
        "* lspci : 시스템에 장착된 장치 목록 확인\n",
        "* 출력 전환 기호: >\n",
        "* evince: PDF,PS,EPS 등의 문서 형식 보기\n",
        "\n",
        "---\n",
        "\n",
        "\n",
        "* X윈도 강제로 종료: ctrl+alt+Backspace\n",
        "* x host + : 모든 호스트의 접근이 허용\n",
        "* Metacity : GNOME 에서 사용하는 윈도우 매니저\n",
        "* Kwin: KDE의 윈도우 매니저\n",
        "* 인텔 x86 기반의 유닉스 계열 X윈도 시스템 : XFree86, X.org"
      ]
    },
    {
      "cell_type": "markdown",
      "metadata": {
        "id": "xJ8RMS425oe2"
      },
      "source": [
        "\n",
        "\n",
        "---\n",
        "\n",
        "* 일반적으로 D 클래스는 구분하지 않음\n",
        "* 메일 서버간에 사용하는 프로토콜 : SMTP\n",
        "  * 메일 서버에 도착한 메일을 사용자가 확인: IMAP, POP3\n",
        "* www이전 검색 서비스: gopher\n",
        "\n",
        "\n",
        "---\n",
        "\n",
        "\n",
        "* 암호화 기반의 원격 로그인 서비스: ssh\n",
        "  * 특정 계정으로 로그인 : -l 사용자명 / 사용자명@호스트\n",
        "  * 패스워드 없이 로그인 가능\n",
        "  * 원격 셸, 원격 복사, 원격 파일 전송도 지원\n",
        "  * 서버-클라이언트 구성으로 서버에 접속하여면 클라이언트 프로그램이 설치되어야 함\n",
        "  ---\n",
        "* ftp: anonymous 계정 제공\n",
        "* ftp 명령어\n",
        "  * bi: 파일 전송 모드를 바이너리 모드로 변경\n",
        "  * ls: 디렉터리 리스트\n",
        "  * mget: 로컬 시스템에 여러 개의 파일 가져옴\n",
        "  * passive: 파일 전송할 때 데이터 전송 포트를 20 대신에 1024 이상의 포트를 사용하도록 설정\n",
        "  * hash: 진행 상태를 #로 표시\n",
        "\n"
      ]
    },
    {
      "cell_type": "markdown",
      "metadata": {
        "id": "qKbzNsf564zF"
      },
      "source": [
        "\n",
        "\n",
        "\n",
        "---\n",
        "* 네트워크 인터페이스 설정\n",
        "  * 명령 터미널에서 ifconfig,route 명령어 이용\n",
        "  * 명령 터미널에서 nm-connection-editor 명령 실행 후 나타나는 GUI에서 설정\n",
        "  * 명령 터미널에서 system-config-network 명령 실행 후 나타나는 텍스트기반 유틸리티에서 설정\n",
        "  * /etc/sysconfig/network 나 /etc/sysconfig/network-scripts: 파일을 이용해서 네트워크를 설정\n",
        "* ifconfig 명령어가 지원하는 기능\n",
        "  * 네트워크 인터페이스의 작동 중지\n",
        "  * 네트워크 인터페이스에 IP,Netmask,Broadcast 값을 부여하고 활성화\n",
        "  * 네트워크 인터페이스의 Netmask 값만 설정\n",
        "  * Link mode 설정하는 기능 없음\n",
        "* netstat 명령으로 확인할 수 있는 것\n",
        "  * 라우팅테이블 정보\n",
        "  * 네트워크 인터페이스 상태\n",
        "  * 멀티캐스트 멤버 정보\n",
        "\n",
        "* arp: ARP 캐시정보\n",
        "---\n",
        "\n",
        "* 고계산용 클러스터 구성: C Compiler, PVM,MPI\n",
        "* LVS: 부하분산 클러스터 의미\n",
        "* 임베디드 리눅스 활용분야: IVI, 스마트티비,스마트폰\n",
        "  * Docker: 경량형 가상화 프로그램\n",
        "* GENIVI: 자동차용 플랫폼\n"
      ]
    }
  ]
}