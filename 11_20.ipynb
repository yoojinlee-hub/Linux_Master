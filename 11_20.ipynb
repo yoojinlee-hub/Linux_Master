{
  "nbformat": 4,
  "nbformat_minor": 0,
  "metadata": {
    "colab": {
      "name": "11/20.ipynb",
      "provenance": [],
      "authorship_tag": "ABX9TyMbIQ9GYMA6QTIXD0nklmoJ",
      "include_colab_link": true
    },
    "kernelspec": {
      "name": "python3",
      "display_name": "Python 3"
    },
    "language_info": {
      "name": "python"
    }
  },
  "cells": [
    {
      "cell_type": "markdown",
      "metadata": {
        "id": "view-in-github",
        "colab_type": "text"
      },
      "source": [
        "<a href=\"https://colab.research.google.com/github/yoojinlee-hub/Linux_Master/blob/main/11_20.ipynb\" target=\"_parent\"><img src=\"https://colab.research.google.com/assets/colab-badge.svg\" alt=\"Open In Colab\"/></a>"
      ]
    },
    {
      "cell_type": "markdown",
      "metadata": {
        "id": "HJTuguXhqSf1"
      },
      "source": [
        "lpr 명령에서 지정한 **lpq**: BSD계열 명령어. 프린터 큐에 있는 작업 목록을 확인( 삭제: -r)"
      ]
    },
    {
      "cell_type": "markdown",
      "metadata": {
        "id": "2OmumKTkrtmm"
      },
      "source": [
        "\n",
        "\n",
        "---\n",
        "\n"
      ]
    },
    {
      "cell_type": "markdown",
      "metadata": {
        "id": "sSt2cWqvruQN"
      },
      "source": [
        "X윈도\n",
        "* 설명\n",
        "  * 플랫폼과 독립적으로 작동하는 그래픽 시스템\n",
        "  * 1986년 Bob Scheifler가 오픈소스프로젝트로 만듬\n",
        "  * X 컨소시엄에 의해서 X11버전이 처음으로 개정되어 X11R2가 발표\n",
        "* startx 사용 시에 명령행의 인자값 전달 --\n",
        "* GNOME에 포함된 주요 프로그램\n",
        "  * nautilus: 파일 관리 프로그램\n",
        "  * evince: 문서 뷰어\n",
        "  * gedit: 문서 편집\n",
        "  * genome-terminal: 터미널 프로그램\n",
        "* 윈도 매니저: X윈도 환경에서 윈도의 배치와 표현을 담당\n",
        "* xhost: X서버에 접근할 수 있는 클라이언트를 지정하거나 해제\n",
        "* export DISPLAY=\"192.168.100:0.1\" : 첫 번째 실행된 X서버의 두번째 모니터로 전송\n",
        "\n",
        "\n",
        "---\n",
        "\n",
        "리눅스 일반\n",
        "* 디스플레이 매니저: XDM,GDM, KDM\n",
        "* xlib 대체: XCB(X Protocol C-language Binding)\n",
        "* UTP 케이블의 8가닥: **흰주, 주,** **흰녹**, 파, 흰파,** 녹,** 흰갈, 갈 / 중에서 1,2,3,6만 실제 사용\n",
        "* nfs: 현재 리눅스 시스템 사용중일때, 원격지에 있는 리눅스 서버의 특정 디렉터리를 로컬 시스템의 하위 디렉터리처럼 사용 가능\n",
        "---\n",
        "\n",
        "* B클래스의 기본 호스트 개수: 65536\n",
        "* 세션계층 프로토콜: SSL,TLS,NetBIOS\n",
        "* ICANN 전에 IP 주소 및 도메인 관리: IANA\n",
        "* 프로토콜 구성요소 중 \"의미\" : 전송의 조작이나 오류 제어를 위한 제어 정보에 대한 규정\n",
        "* Goopher: 인터넷 기반의 문서 검색 시스템/ http 프로토콜 이전에 사용\n",
        "* 파일 공유 프로그램: NFS,FTP,SAMBA\n",
        "* NIS: 사용자 인증 서비스\n",
        "* ftp프롬프트 상태에서 다른 FTP 서버에 접속: open 명령\n",
        "* 공개 소프트웨어를 제공하는 FTP 서버에 접근 할때 입력하는 계정: anonymous\n",
        "* 전자우편 : SMTP,POP3,IMAP\n",
        "* netstat 명령~ 서버 시스템이 원격 클라이언트로부터 접속을 요구받아 클라이언트에게 응답했지만, 아직 클라이언트에게 확인 메시지를 받지 못했을 때 :SYN_RESIVED\n",
        "* 현재 사용중인 **DNS서버의 IP주소가 등록**된 파일: /etc/resolv.conf\n",
        "* /etc/resolv.conf: 특정 도메인을 등록하여 특정 서버로 접속할 때 도메인 이름을 생략해서 사용 가능\n",
        "* 특정 모듈을 커널에 삽입: modprobe,imsmod\n",
        "* 고가용성 클러스터: 지속적인 서비스 제공을 위해 공인 ip주소가 부여된 시스템의 백업 시스템 구축/ 사설 ip 주소가 부여된 다수의 웹서버를 공인 ip주소 하나를 이용해서 운영\n",
        "* Android: 자바로 작성된 응용 프로그램을 실행하기 위해 초기버전에서는 달빅(Dalvik) 가상 머신을 사용하였으나 최근에는 ART 이용"
      ]
    }
  ]
}