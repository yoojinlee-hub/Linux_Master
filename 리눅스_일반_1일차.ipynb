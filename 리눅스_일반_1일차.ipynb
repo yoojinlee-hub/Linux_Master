{
  "nbformat": 4,
  "nbformat_minor": 0,
  "metadata": {
    "colab": {
      "name": "리눅스 일반 1일차.ipynb",
      "provenance": [],
      "authorship_tag": "ABX9TyPBlOFGce3T0Bx1JW4SDRSf",
      "include_colab_link": true
    },
    "kernelspec": {
      "name": "python3",
      "display_name": "Python 3"
    },
    "language_info": {
      "name": "python"
    }
  },
  "cells": [
    {
      "cell_type": "markdown",
      "metadata": {
        "id": "view-in-github",
        "colab_type": "text"
      },
      "source": [
        "<a href=\"https://colab.research.google.com/github/yoojinlee-hub/Linux_Master/blob/main/%EB%A6%AC%EB%88%85%EC%8A%A4_%EC%9D%BC%EB%B0%98_1%EC%9D%BC%EC%B0%A8.ipynb\" target=\"_parent\"><img src=\"https://colab.research.google.com/assets/colab-badge.svg\" alt=\"Open In Colab\"/></a>"
      ]
    },
    {
      "cell_type": "markdown",
      "metadata": {
        "id": "p1J-kucf8AaW"
      },
      "source": [
        "**리눅스의 기술적인 특징**"
      ]
    },
    {
      "cell_type": "markdown",
      "metadata": {
        "id": "3XK0La1n8Cdl"
      },
      "source": [
        "\n",
        "\n",
        "*   계층적인 파일 구조 : 트리 구조 : /(root)기준\n",
        "*   가상메모리 사용 : 하드디스크의 일부를 메모리처럼 사용되는 것을 말함 - 스왑(SWAP)\n",
        "* 스와핑:메모리와 하드디스크 사이의 데이터 교환\n",
        "* free: 스왑 용량의 확인\n",
        "* 가상 콘솔: 하나의 모니터를 장착한 시스템에 여러 개의 가상 화면을 제공해서 사용. 기본적으로 6개의 가상 콘솔 제공\n",
        "* 파이프: 프로세스의 통신을 위해 도입. 어떤 프로세스의 표준 출력이 다른 프로세스의 표준 입력으로 쓰이게 하는 것 '|'기호 사용\n",
        "* 리다이렉션: 표준 입출력이 아닌 다른 입출력으로 변경할 때 사용\n"
      ]
    },
    {
      "cell_type": "markdown",
      "metadata": {
        "id": "-10DLBdk-o5U"
      },
      "source": [
        "\n",
        "\n",
        "---\n",
        "\n"
      ]
    },
    {
      "cell_type": "markdown",
      "metadata": {
        "id": "0Olep_0P-PxH"
      },
      "source": [
        "**리눅스 디렉터리 종류와 특징**"
      ]
    },
    {
      "cell_type": "markdown",
      "metadata": {
        "id": "MD-OXM6h-xvs"
      },
      "source": [
        "\n",
        "\n",
        "*   / : 최상위 root\n",
        "*   /bin : 실행파일. 명령어가 들어감\n",
        "* /boot : 시스템 부팅 시 필요, grub관련 파일\n",
        "* /dev : 물리적인 장치\n",
        "* /etc: 시스템 환경설정 파일\n",
        "* /proc : 가상파일시스템, 다양한 프로세스의 상태정보, 하드웨어 정보, 기타 시스템 정보\n",
        "\n",
        "\n"
      ]
    },
    {
      "cell_type": "markdown",
      "metadata": {
        "id": "qffGmDS-_bvV"
      },
      "source": [
        "* /sbin : 시스템 관리. 주로 root가 사용\n",
        "* /tmp: 임시저장. 모든 사용자 접근 가능\n",
        "* /mnt,/media : 이동식 장치 마운트"
      ]
    }
  ]
}