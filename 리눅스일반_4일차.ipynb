{
  "nbformat": 4,
  "nbformat_minor": 0,
  "metadata": {
    "colab": {
      "name": "리눅스일반_4일차.ipynb",
      "provenance": [],
      "authorship_tag": "ABX9TyP03aa67N01zba5gyuEpnKW",
      "include_colab_link": true
    },
    "kernelspec": {
      "name": "python3",
      "display_name": "Python 3"
    },
    "language_info": {
      "name": "python"
    }
  },
  "cells": [
    {
      "cell_type": "markdown",
      "metadata": {
        "id": "view-in-github",
        "colab_type": "text"
      },
      "source": [
        "<a href=\"https://colab.research.google.com/github/yoojinlee-hub/Linux_Master/blob/main/%EB%A6%AC%EB%88%85%EC%8A%A4%EC%9D%BC%EB%B0%98_4%EC%9D%BC%EC%B0%A8.ipynb\" target=\"_parent\"><img src=\"https://colab.research.google.com/assets/colab-badge.svg\" alt=\"Open In Colab\"/></a>"
      ]
    },
    {
      "cell_type": "markdown",
      "metadata": {
        "id": "IqouIuVatKRQ"
      },
      "source": [
        "**입출력**"
      ]
    },
    {
      "cell_type": "markdown",
      "metadata": {
        "id": "bwdAZz5glhlC"
      },
      "source": [
        "cat: 표준입력을 표준출력으로 이어줌.리다이렉션을 통해 파일 생성 및 여러개의 텍스트 파일을 합치는 것도 가능\n",
        "* -b 공백 줄 제외 행번호\n",
        "* -n 공백 줄 포함 행번호\n",
        "* -A -vET옵션을 통합한 옵션. 일반적으로 출력되지 않는 것도 출력 "
      ]
    },
    {
      "cell_type": "markdown",
      "metadata": {
        "id": "4hxw8RqJmkXd"
      },
      "source": [
        "리다이렉션\n",
        "* '>' 출력전환\n",
        "* '>>' 특수 출력 : 보통 파일로 저장할 때 파일의 뒷부분에 추가됨\n",
        "* < 입력전환\n",
        "*<< 특수입력 :제시된 문자열이 입력될 때 까지 대기했다가 한번에 보여줌"
      ]
    },
    {
      "cell_type": "markdown",
      "metadata": {
        "id": "liE14eUPnvo6"
      },
      "source": [
        "* head : 기본적으로 파일의 앞 10줄 출력\n",
        "* tail: 기본적으로 파일의 뒤 10즐 츨략\n",
        "* more : 화면 단위로 출력\n",
        "* less : man에서 호출되는 more"
      ]
    },
    {
      "cell_type": "markdown",
      "metadata": {
        "id": "Q69wU88Fphoz"
      },
      "source": [
        "* grep : 텍스트 파일에서 특정패턴을 갖는 줄을 찾아서 출력\n",
        "* egrep: |과 연결하여 여러 패턴을 찾음(grep -E)\n",
        "* fgrep : 특수문자를 기호 그대로 인식하여 출력(grep -F)\n",
        "* wc: 텍스트 파일의 행, 단어, 문자 출력\n",
        "* sort: 텍스트 파일의 내용을 행 단위로 정렬 / 기본적으로 ascii 코드순으로 정렬\n",
        "* cut: 데이터의 열을 추출할 때 사용 - 파일의 각 줄의 글자,바이트,필드\n",
        "* split: 하나의 파일을 여러개의 작은 파일로 분리 / 기본값 1000"
      ]
    },
    {
      "cell_type": "markdown",
      "metadata": {
        "id": "lRrmb0NAtG5T"
      },
      "source": [
        "\n",
        "\n",
        "---\n",
        "\n"
      ]
    },
    {
      "cell_type": "markdown",
      "metadata": {
        "id": "8XD2XAMYtH3C"
      },
      "source": [
        "**파일 비교 명령어**"
      ]
    },
    {
      "cell_type": "markdown",
      "metadata": {
        "id": "fGa3GDoptW2T"
      },
      "source": [
        "* diff: 두 개의 파일을 행 단위로 비교하여 차이점을 출력\n",
        "* cmp : 두 개의 파일을 문자 대 문자로 비교\n",
        "* comm : 두 개의 정렬된 파일을 줄 단위로 비교 / 첫 번째 파일에만 있는 행 / 두 번째 파일에만 있는 행 / 공통적으로 있는 행"
      ]
    },
    {
      "cell_type": "markdown",
      "metadata": {
        "id": "R_rYMLJLvQTC"
      },
      "source": [
        "\n",
        "\n",
        "---\n",
        "\n",
        "\n",
        "\n",
        "\n"
      ]
    },
    {
      "cell_type": "markdown",
      "metadata": {
        "id": "hRXsBSSYvSqg"
      },
      "source": [
        "네트워크 관련 명령어\n",
        "* ping : ICMP를 이용하여 네트워크 연결 확인\n",
        "* traceroute: 패킷이 특정 호스트까지 라우팅 되는 과정 출력\n",
        "* nslookup : DNS서버를 이용하여 도메인이나 ip조회 - 셸 상에서 조회, 대화형으로 조회\n",
        "* dig : 도메인명(FQDN)으로 정보를 조회\n",
        "* hostname: 시스템에 설정된 호스트네임 출력,설정"
      ]
    },
    {
      "cell_type": "markdown",
      "metadata": {
        "id": "znVKiYybxdAB"
      },
      "source": [
        "\n",
        "\n",
        "---\n",
        "\n"
      ]
    },
    {
      "cell_type": "markdown",
      "metadata": {
        "id": "QAgYdtjRxeCX"
      },
      "source": [
        "시스템 종료 명령어\n",
        "* shutdown: 시스템 재시작, 전원 종료. root 권한자만 가능 / 다른 방법에 비해 안전하고 조직적\n",
        "shutdown [option] 시간 [경고메시지]\n",
        "* -r : reboot 재시작\n",
        "* -h: halt 시스템 종료\n",
        "* reboot,halt,poweroff: 로컬의 콘솔에서 접속한 일반사용자도 사용 가능\n",
        "* init,telinit: init프로세스에 직접 요청하여 실행레벨 변경 / 실행중인 프로세스를 무조건적으로 종료"
      ]
    },
    {
      "cell_type": "markdown",
      "metadata": {
        "id": "VfC_Bvm_yjzh"
      },
      "source": [
        "\n",
        "\n",
        "---\n",
        "\n"
      ]
    },
    {
      "cell_type": "markdown",
      "metadata": {
        "id": "gae98rPpyk8P"
      },
      "source": [
        "* cal : 달력보여줌(-j : 1월 1일부터 날짜수 계산하여 출력)\n",
        "* date : 시스템의 날짜 및 시간을 출력,변경\n",
        "* rdate: 네트워크를 통해 원격지 타임 서버(NTP)의 시간을 출력\n",
        "* hwclock: 하드웨어 시간 출력, 설정\n",
        "* tty: 현재 사용중인 터미널의 파일명 확인 할 때 사용\n",
        "* stty: 터미널 라인 설정을 출력하거나 변경\n",
        "* string: 텍스트 파일이 아닌 파일에서 텍스트 부분을 찾아 출력\n",
        "* clear: 사용중인 화면을 지워서 첫 번째 줄에 프롬프트가 나타나도록 함\n",
        "* time : 명령어의 시간 계산\n",
        "* watch: 특정 프로그램을 전체화면에 주기적으로 실행 / 기본 2초 주기\n",
        "* sleep: 주어진 시간만큼 지연\n",
        "* seq: 숫자값을 순서대로 출력 / 지정한 숫자값들을 한 줄에 하나씩\n",
        "* uname: 시스템 정보 출력 / 커널버전, 머신 타입\n",
        "* sync: 메모리와 디스크의 자료를 동기화 / 특히 쓰기 작업과 관련된 내용을 디스크에 저장"
      ]
    },
    {
      "cell_type": "markdown",
      "metadata": {
        "id": "feT6aezS1yjX"
      },
      "source": [
        "\n",
        "\n",
        "---\n",
        "\n"
      ]
    },
    {
      "cell_type": "markdown",
      "metadata": {
        "id": "tcEcGIhv10MR"
      },
      "source": [
        "사용자 간 메시지 전송\n",
        "* write: 로그인한 다른 사용자에게 메시지를 보냄\n",
        "* wall : 로그인 한 모든 사용자의 터미널에 메시지를 보냄\n",
        "* mesg: 사용자가 write를 사용해서 들어오는 메시지 수신 여부를 확인하고 제어\n",
        "* mail: 시스템 사용자 간에 홈 디렉터리에 전자우편함을 두고 그 곳을 통해서 메시지를 주고받거나 확인"
      ]
    }
  ]
}