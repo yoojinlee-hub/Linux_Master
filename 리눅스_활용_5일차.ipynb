{
  "nbformat": 4,
  "nbformat_minor": 0,
  "metadata": {
    "colab": {
      "name": "리눅스 활용 5일차.ipynb",
      "provenance": [],
      "authorship_tag": "ABX9TyPuDYJN9vTI6GOT+izoyck5",
      "include_colab_link": true
    },
    "kernelspec": {
      "name": "python3",
      "display_name": "Python 3"
    },
    "language_info": {
      "name": "python"
    }
  },
  "cells": [
    {
      "cell_type": "markdown",
      "metadata": {
        "id": "view-in-github",
        "colab_type": "text"
      },
      "source": [
        "<a href=\"https://colab.research.google.com/github/yoojinlee-hub/Linux_Master/blob/main/%EB%A6%AC%EB%88%85%EC%8A%A4_%ED%99%9C%EC%9A%A9_5%EC%9D%BC%EC%B0%A8.ipynb\" target=\"_parent\"><img src=\"https://colab.research.google.com/assets/colab-badge.svg\" alt=\"Open In Colab\"/></a>"
      ]
    },
    {
      "cell_type": "markdown",
      "metadata": {
        "id": "ussT1RvS6vOs"
      },
      "source": [
        "리눅스는 클라우드 컴퓨팅 인프라 구축과 빅데이터 및 사물인터넷 환경에서도 중추적인 역할을 함"
      ]
    },
    {
      "cell_type": "markdown",
      "metadata": {
        "id": "baGxQ4ur7DIs"
      },
      "source": [
        "**리눅스 클러스터링**\n",
        "* 클러스터(Cluster): 여러 대의 컴퓨터를 연결하여 하나의 컴퓨터를 사용하는 것 처럼 구성된 시스템\n",
        "1. 고계산용 클러스터(HPC:High Perfomance Computing Cluster): 고성능의 계산 능력을 제공하기 위한 목적. 슈퍼컴퓨터. 다른 말로 베어울프(Beowulf) 클러스터라고도 불림 . 16노드 병렬 컴퓨터\n",
        "2. 부하분산 클러스터(LVS: Linux Virtual Server Cluster): 대규모의 서비스를 제공하기 위한 목적. 이용자가 많은 웹 서비스 등에 사용. 보통 여러 대의 리얼 서버에 부하를 분산해주는 로드 밸런서를 두고 운영\n",
        "3. 고가용성 클러스터(HA: High Availablity Cluster): 지속적인 서비스 제공 목적. 부하분산 클러스터와 연동하여 많이 사용됨"
      ]
    },
    {
      "cell_type": "markdown",
      "metadata": {
        "id": "spGcxu9g8ODr"
      },
      "source": [
        "* 임베디드 시스템: 특정한 기능을 반복적으로 수행하기 위해 하드웨엉와 소프트웨어를 결합하여 만든 전자제어시스템. 하나의 고성능 소형컴퓨터가 내장된 시스템\n",
        "* 임베디드 리눅스의 장단점\n",
        "  * 장점: 별도의 로열티X, 사용한지 오래되어 안정적\n",
        "  * 단점: 상대적으로 많은 메모리 사용, 접근 복잡\n",
        "* 분야\n",
        "  * 모바일 운영체제: 하드웨어와 응용 프로그램 간에 다리 역할을 하는 커널 / 구글의 안드로이드, 바다 OS, 마에모(노키아), 모블린(리눅스 기반), 리모, 타이젠(무료 공개형 모바일 운영체제)\n",
        "  * 스마트 TV\n",
        "  * IVI(In-Vehicle Infotainment): 자동차 내에서 오디오와 비디오 콘텐츠 재생, 네비게이션 시스템 등을 제공하는 하드웨어 장치의 모음. 다른 말로는 ICE(In-Car)라고도 함 / MS의 Windows Embedded Automotive,QNX,GENIVI,안드로이드,MeeGo/Tizen IVI"
      ]
    },
    {
      "cell_type": "markdown",
      "metadata": {
        "id": "NyQDxY__80ol"
      },
      "source": [
        "\n",
        "\n",
        "---\n",
        "\n"
      ]
    },
    {
      "cell_type": "markdown",
      "metadata": {
        "id": "cUyk3ubk81d7"
      },
      "source": [
        "서버 가상화: 한 컴퓨터의 물리적 자원을 여럿으로 나누거나, 다수의 컴퓨터들의 물리적 자원을 하나로 묶어서 제공하는 기능\n",
        "1. 제 1세대 서버 가상화 기술: 하나의 물리적 서버에 하이퍼바이저를 이용하여 여러 개의 가상 머신을 생성/삭제/운영 . *Xen,KVM,VirtualBox*\n",
        "2. 제 2세대 서버 가상화 기술: 다수의 물리적 서버의 자원을 통합하여 관리 기능 제공. Oracle의 Oracle VM, VMware의  vSphere(ESXi), Citrix의 XenServer / 다른 하이퍼바이저들과의 연동 지원 X\n",
        "3. 제 3세대 서버 가상화 기술: 다양한 하이퍼바이저들을 통합 관리하기 위한 플랫폼. Openstack,Cloudstack,Eucalyptus,OpenNebula"
      ]
    },
    {
      "cell_type": "markdown",
      "metadata": {
        "id": "AZ0dOPfL-ycN"
      },
      "source": [
        "클라우드 컴퓨팅: 컴퓨터나 서버 등의 자원들이 하나의 커다란 구름 모양의 집합을 이루고 있음. IT자원들은 어디엔가 존재하고, 사용자는 단지 필요할 때 활용하기만 하면 됨 . 모든 IT 자원을 서비스 형태로 제공할 수 있는 환경으로 바뀌고 있음\n",
        "* IaaS: 업무 처리에 필요한 서버,데스크톱 컴퓨터, 스토리지 같은 it 하드웨어 자원을 클라우드 서비스로 빌려쓰는 형태\n",
        "* PaaS: 업무에 필요한 소프트웨어를 개발할 수 있는 환경(플랫폼)을 클라우드에서 제공받음\n",
        "* SaaS: 기업에서 사용하는 소프트웨어를 통째로 클라우드 서비스 사업자에게 빌려 쓰는 개념"
      ]
    },
    {
      "cell_type": "markdown",
      "metadata": {
        "id": "YqlLUmX7_wD-"
      },
      "source": [
        "빅 데이터: 대량의 정령 또는 비정형 데이터 집합 및 이러한 데이터로부터 가치를 추출하고 결과를 분석하는 기술"
      ]
    },
    {
      "cell_type": "markdown",
      "metadata": {
        "id": "lHY8iZ8i_8Bs"
      },
      "source": [
        "사물인터넷(IoT): 생활 속 사물들을 유무선 네트워크로 연결해 정보를 공유하는 환경"
      ]
    },
    {
      "cell_type": "markdown",
      "metadata": {
        "id": "7Ua5uSVqBX0d"
      },
      "source": [
        "\n",
        "\n",
        "---\n",
        "\n"
      ]
    },
    {
      "cell_type": "markdown",
      "metadata": {
        "id": "kJFiMfpMBYa7"
      },
      "source": [
        "공개 소프트웨어 기술 동향\n",
        "* 쿠버네티스(k8s): 컨테이너화된 애플리케이션의 배포,확장,관리를 자동화해줌\n",
        "* 앤서블: 서버에서 동일한 작업을 수행할 때 한번에 원격에서 처리하도록 해주는 자동화도구"
      ]
    }
  ]
}