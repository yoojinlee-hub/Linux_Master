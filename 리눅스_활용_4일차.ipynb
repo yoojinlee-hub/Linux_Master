{
  "nbformat": 4,
  "nbformat_minor": 0,
  "metadata": {
    "colab": {
      "name": "리눅스 활용 4일차.ipynb",
      "provenance": [],
      "authorship_tag": "ABX9TyPhf/+Lru9K4DgoAnR4ni5s",
      "include_colab_link": true
    },
    "kernelspec": {
      "name": "python3",
      "display_name": "Python 3"
    },
    "language_info": {
      "name": "python"
    }
  },
  "cells": [
    {
      "cell_type": "markdown",
      "metadata": {
        "id": "view-in-github",
        "colab_type": "text"
      },
      "source": [
        "<a href=\"https://colab.research.google.com/github/yoojinlee-hub/Linux_Master/blob/main/%EB%A6%AC%EB%88%85%EC%8A%A4_%ED%99%9C%EC%9A%A9_4%EC%9D%BC%EC%B0%A8.ipynb\" target=\"_parent\"><img src=\"https://colab.research.google.com/assets/colab-badge.svg\" alt=\"Open In Colab\"/></a>"
      ]
    },
    {
      "cell_type": "markdown",
      "metadata": {
        "id": "v3goLzRarWJA"
      },
      "source": [
        "리눅스에서 지원하는 네트워크 하드웨어\n",
        "* lo: 로컬 루프백. IP주소는 127.0.0.1\n",
        "* enpx: CentOS7부터 사용되는 이더넷카드 인터페이스 장치\n",
        "* dlx: 패러럴 포트로 구동되는 포켓 어댑터 장치\n",
        "* vinbr0: 서버 가상화를 사용할 경우에 가상 머신의 NAT설정에 사용되는 네트워크 장치\n"
      ]
    },
    {
      "cell_type": "markdown",
      "metadata": {
        "id": "y5gxKEU2r82p"
      },
      "source": [
        "* 넷마스크(netmask)=서브넷마스크(subnetmask) : 네트워크를 분할하여 새로운 하위의 네트워크를 구성할 때 사용\n",
        "* 게이트웨이: 서로 다른 통신망이나 프로토콜을 사용하는 네트워크 간의 통신을 가능하게 하는 컴퓨터나 소프트웨어를 통칭. 보통 다른 네트워크와읭 통로 역할. ip주소는 해당 네트워크 대역에서 1번이나 254번이 할당\n",
        "* c클래스 기준으로 인터넷에 연결가능한 호스트 수는 네트워크 주소, 브로드캐스트 주소, 게이트웨이 주소를 제외한 253개"
      ]
    },
    {
      "cell_type": "markdown",
      "metadata": {
        "id": "tUM575X9trZB"
      },
      "source": [
        "네트워크 인터페이스 설정 방법\n",
        "* GUI 기반 네트워크 설정: 'gnome-control-center network'\n",
        "* ifconfig,route등의 네트워크 설정 명령어 사용\n",
        "* 네트워크 관련 파일 이용"
      ]
    },
    {
      "cell_type": "markdown",
      "metadata": {
        "id": "EvJ_BPsquuQQ"
      },
      "source": [
        "관련 명령어\n",
        "* ip: 이더넷장치, ip주소, 라우팅 정보등의 설정 정보 출력 혹은 변경\n",
        "* ifconfig(interface config): 네트워크 인터페이스를 설정하거나 확인. ip주소, 넷마스크 주소, mac주소 설정 확인 가능. ip명령으로 대체됨\n",
        "* route: 라우팅 테이블의 정보를 출력 관리. 네트워크 주소, 게이트웨이 주소\n",
        "* netstat: 네트워크의 연결 상태, 라우팅 테이블 정보, 네트워크 인터페이스 상태, 매스커레이드 연결상태, 멀티캐스트 멤버 \n",
        "* ss(socket statistics): 소켓 상태를 출력, netstat과 유사\n",
        "* arp: ARP(32비트 ip주소 -> MAC하드웨어 주소) 캐시 관리\n",
        "* mii-tool: 네트워크 인터페이스의 상태 점검, 설정\n",
        "* ethtool: 이더넷 카드 설정 정보 출력,변경"
      ]
    },
    {
      "cell_type": "markdown",
      "metadata": {
        "id": "8ZqrQRXjwnFa"
      },
      "source": [
        "네트워크 관련 파일\n",
        "* /etc/sysconfig/network-scripts: 네트워크 인터페이스 환경설정과 관련된 파일 및 스크립트\n",
        "* /etc/resolv.conf: 네임서버(DNS)설정하는 파일\n",
        "* /etc/hosts: DNS 사용 전에 많이 사용되던 파일. ip주소와 호스트명 매핑"
      ]
    }
  ]
}