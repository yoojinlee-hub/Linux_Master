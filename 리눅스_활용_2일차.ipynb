{
  "nbformat": 4,
  "nbformat_minor": 0,
  "metadata": {
    "colab": {
      "name": "리눅스 활용 2일차.ipynb",
      "provenance": [],
      "authorship_tag": "ABX9TyPBTYgk5P3W5FiqyIsPn2Ie",
      "include_colab_link": true
    },
    "kernelspec": {
      "name": "python3",
      "display_name": "Python 3"
    },
    "language_info": {
      "name": "python"
    }
  },
  "cells": [
    {
      "cell_type": "markdown",
      "metadata": {
        "id": "view-in-github",
        "colab_type": "text"
      },
      "source": [
        "<a href=\"https://colab.research.google.com/github/yoojinlee-hub/Linux_Master/blob/main/%EB%A6%AC%EB%88%85%EC%8A%A4_%ED%99%9C%EC%9A%A9_2%EC%9D%BC%EC%B0%A8.ipynb\" target=\"_parent\"><img src=\"https://colab.research.google.com/assets/colab-badge.svg\" alt=\"Open In Colab\"/></a>"
      ]
    },
    {
      "cell_type": "markdown",
      "metadata": {
        "id": "NnPIs0FsaT7z"
      },
      "source": [
        "네트워크: 컴퓨터를 상호 연결하여 정보 교환 및 처리, 자료 및 하드웨어 공유를 위해 구성한 통신망\n",
        "* LAN(근거리): 가까운 지역을 네트워크 매체를 이용하여 하나로 묶음\n",
        "  * 구성방식\n",
        "    1. 스타(star)형: point to point 방식으로 연결. 중앙 집중식/ 단말기 추가나 오류 진단이 용이 / 대규모 네트워크에 이용\n",
        "    2. 버스형: 하나의 통신회선에 여러 컴퓨터 연결, 모든 장치들은 동등한 조건으로 경쟁 . terminator 존재 / CSMA/CD,토큰패싱 사용\n",
        "    3. 링형: 토큰 패싱 방식으로 데이터 전송. 노드에 문제 시 전체 네트워크에 문제 발생\n",
        "    4. 망형: 스타형+링형 / 라우터를 이용하여 LAN과 LAN연결 또는 백본망 구성\n",
        "  * 전송방식\n",
        "    1. 이더넷과 CSMA/CD: 이더넷 - 48비트의 고유한 MAC 주소 기반 / CSMA/CD - 단말기가 전송로의 신호유무 조사, 다른 단말기가 신호를 송출하고 있는지 확인함\n",
        "    2. 토큰링: 802.5로 표준화 됨\n",
        "    3. FDDI: 광섬유 케이블을 사용하여 설계된 링 구조\n",
        "* MAN(도시권): DQDB,, 802.6 / 최대 160km\n",
        "* WAN(광역): 국가, 대륙 등과 같은 넓은 지역 연결 / 다양한 경로를 경유하기 때문에 LAN보다 속도가 느리고 에러율 높음\n",
        "  1. 전용 회선 방식\n",
        "  2. 교환 회선 방식: 공중교환전화망(PSTN)이나 공중교환데이터망(PSDN)과 같은 공중망 이용\n",
        "    * Circuit Switching(회선 교환방식): 데이터를 전송하기 전에 연결경로를 설정. 일종의 물리적 전용선 연결 / 고정된 대역폭 할당받아 전송, 안정적인 데이터 전송률\n",
        "    * 패킷 교환 방식: 패킷이라고 부르는 정보 블록을 이용해서 전송/ 전송 선로의 이용 효율 극대화, 이론상 호스트의 무제한 수용 가능\n",
        "      * 데이터그램 방식: 패킷들이 독립적으로 전솔/ 전송할 정보의 양이 적거나. 상대적으로 신뢰성이 중요하지 않은 환경에서 사용\n",
        "      * 가상회선 방식: 가상의 단일 파이프를 통해 패킷 송수신/ 모든 패킷이 동일한 경로로 전송 -> 패킷이 도착하는 순서  =  전송한 순서// 회선 교환 방식을 이용한 것, 가장 큰 차이점은 데이터의 단위가 패킷이라는 점\n"
      ]
    },
    {
      "cell_type": "markdown",
      "metadata": {
        "id": "uU0D0O87g5UF"
      },
      "source": [
        "* X.25: DCE(회선 종단 장치)와 DTE(데이터 단말 장치)사이에 이루어지는 상호 작용 규정. 네트워크 계층의 대표적인 프로토콜. 프레임 릴레이의 근간\n",
        "* 프레임 릴레이: 단말 지점간의 효율적인 데이터 전송을 위해 고안. 패킷 대신에 프레임(가변길이단위) 사용\n",
        "* 셀 릴레이(ATM): Cell(고정길이 53byte 패킷) 이용하여 순서대로 자료 전송"
      ]
    }
  ]
}