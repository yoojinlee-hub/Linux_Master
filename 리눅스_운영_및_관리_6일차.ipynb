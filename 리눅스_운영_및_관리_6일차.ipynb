{
  "nbformat": 4,
  "nbformat_minor": 0,
  "metadata": {
    "colab": {
      "name": "리눅스 운영 및 관리 6일차.ipynb",
      "provenance": [],
      "authorship_tag": "ABX9TyOwURgbfSzrpScmSlnYFOXD",
      "include_colab_link": true
    },
    "kernelspec": {
      "name": "python3",
      "display_name": "Python 3"
    },
    "language_info": {
      "name": "python"
    }
  },
  "cells": [
    {
      "cell_type": "markdown",
      "metadata": {
        "id": "view-in-github",
        "colab_type": "text"
      },
      "source": [
        "<a href=\"https://colab.research.google.com/github/yoojinlee-hub/Linux_Master/blob/main/%EB%A6%AC%EB%88%85%EC%8A%A4_%EC%9A%B4%EC%98%81_%EB%B0%8F_%EA%B4%80%EB%A6%AC_6%EC%9D%BC%EC%B0%A8.ipynb\" target=\"_parent\"><img src=\"https://colab.research.google.com/assets/colab-badge.svg\" alt=\"Open In Colab\"/></a>"
      ]
    },
    {
      "cell_type": "markdown",
      "metadata": {
        "id": "KT-W9kaK68-4"
      },
      "source": [
        "프린터\n",
        "* LPRng: BSD 계열 유닉스에서 사용하기 위해 개발. 프린터 스풀링과 네트워크 프린트 서버 지원\n",
        "* CUPS(Common Unix Printing System): 애플이 개발한 오픈 소스 프린팅 시스톰. 유닉스 계열 운영체제의 시스템을 프린터 서버로 사용 가능하게 해줌/ http기반의 ipp(internet printing protocol)을 사용하고, SMB도 부분적으로 지원/ 명령어도 BSD,System V계열 모두 사용 가능/ 사용자 및 호스트 기반의 인증/ 웹 서버의 common log format형태의 로그파일 제공/lpadmin명령 이용하여 웹상에서도 제어 가능\n",
        "  * /etc/cups/cupsd.conf: cups프린터 데몬의 환경설정 파일\n",
        "  * /etc/cups/printers.conf: 프린터 큐관련 환경 설정 파일로 lpadmin명령을 이용 또는 웹을 통해 제어\n",
        "  * /etc/cups/classes.conf: cups프린터 데몬의 클래스 설정파일"
      ]
    },
    {
      "cell_type": "markdown",
      "metadata": {
        "id": "1maK4VfR8vPR"
      },
      "source": [
        "사운드카드\n",
        "* 고급 리눅스 사운드 아키텍처(Advanced Linux Sound Architecture, ALSA): 사운드 카드 자동으로 구성, 다수의 사운드 장치를 관리하는 것이 목적 / GPL,LGPL라이선스 기반으로 배포/ 하드웨어 기반 미디 합성, 다중채널 하드웨어 믹싱,전이중통신,다중 프로세서와의 조화, 스레드 안전장치\n",
        "* 오픈 사운드 시스템(Open Sound System,OSS): 사운드를 만들고 캡처하는 인터페이스, 유닉스 장치 시스템 콜(POSIX read,write,ioctl)에 기반/ 사유화됨"
      ]
    },
    {
      "cell_type": "markdown",
      "metadata": {
        "id": "6zLK6b3v9cG5"
      },
      "source": [
        "스캐너\n",
        "* SANE(Scanner Access Now Easy): 이미지 관련 하드웨어를 사용할 수 있도록 해주는 api. 리눅스,유닉스,OS/2,Microsoft Windows 지원\n",
        "* XSANE( X based SANE): X-window기반. 스캔작업 + 캡쳐된 이미지도 수정작업 가능"
      ]
    },
    {
      "cell_type": "markdown",
      "metadata": {
        "id": "DoYMWxM7-PXB"
      },
      "source": [
        "\n",
        "\n",
        "---\n",
        "\n"
      ]
    },
    {
      "cell_type": "markdown",
      "metadata": {
        "id": "0gg1dab9-QAH"
      },
      "source": [
        "프린트 관련 명령어\n",
        "* BSD 계열\n",
        "  * lpr: 프린터 작업 요청\n",
        "  * lpq: 프린터 큐에 있는 작업 목록 출력\n",
        "  * lprm: 프린터 큐에 대기중인 작업 삭제. 취소할 프린트 작업의 번호 입력\n",
        "  * lpc: 라인 프린터 컨트롤 프로그램. 프린터나 프린터 큐를 제어할 때 사용.\n",
        "* System V 계열\n",
        "  * lp: lpr과 유사. 프린터 작업 요청\n",
        "  * lpstat: 프린터 큐의 상태 출력\n",
        "  * cancel: 프린트 작업 취소. lpstat을 이용하여 먼저 요청 ID를 확잉ㄴ해야 한다"
      ]
    },
    {
      "cell_type": "markdown",
      "metadata": {
        "id": "169A8ZwP_OG5"
      },
      "source": [
        "사운드 관련 명령어\n",
        "* alsactl: ALSA 사운드 카드를 제어하는 명령\n",
        "* alsamixer: 커서(ncurses) 라이브러리 기반의 ALSA 사운드카드 오디오 믹서 프로그램\n",
        "* cdparanoia: 오디오CD에서 음악 파일 추출"
      ]
    },
    {
      "cell_type": "markdown",
      "metadata": {
        "id": "4s0K8zo-_xKP"
      },
      "source": [
        "스캐너 관련 명령어\n",
        "* sane-find-scanner: usb,scsi스캐너와 관련 장치를 찾아주는 명령\n",
        "  * SCSI 스캐너 인식 : /dev/sg0,/dev/scanner\n",
        "  * USB 스캐너: /dev/usb/scanner, /dev/usbscanner\n",
        "* scanimage: 이미지를 스캔"
      ]
    },
    {
      "cell_type": "markdown",
      "metadata": {
        "id": "X0zrTJogAPNI"
      },
      "source": [
        "\n",
        "\n",
        "---\n",
        "\n"
      ]
    },
    {
      "cell_type": "markdown",
      "metadata": {
        "id": "NWX2WgApAQGA"
      },
      "source": [
        "* LVM(Logical Volume Manager): 설정한 공간의 크기가 유동가능하여 변경이나 용량 증설이 가능/ 파티션 확장 간단한 명령만으로 데이터 이전 없이 손쉽게 가능\n",
        "  * 물리적 볼륨(PV): 실제 디스크에 물리적으로 분할한 파티션 . 하나의 구성원으로 받아들여짐\n",
        "  * 볼륨그룹(VG): 물리적 볼륨이 모여서 생성하는 덩어리 = PE(물리적 확장)이 모여서 생성되는 하나의 큰 덩어리\n",
        "  * 논리적그룹(LV): VG에서 사용자가 필요한 만큼 할당하여 만들어지는 공간, 파티션\n",
        "  * 물리적 확장(PE): PV에서 나누어 사용하는 일종의 블록. 4MB정도 크기"
      ]
    },
    {
      "cell_type": "markdown",
      "metadata": {
        "id": "B7Z5W2_oBPUZ"
      },
      "source": [
        "* RAID(Redundant Array of Independent Disks): 여러개의 하드디스크가 있을 때 동일한 데이터를 다른 위치에 중복해서 저장하는 방법 -> 입출력 작업의 균형, 전체적인 성능 향상 / 하나의 RAID는 논리적으로 하나의 디스크로 인식하여 처리\n",
        "  * 핫스왑(Hot Swap), 베이(Bay): 전원이 켜져 있는 상태에서 하드디스크 교체 가능\n",
        "  * 스트라이핑(Striping): 연속된 데이터를 여러  개의 디스크에 라운드로빈 방식으로 기록 / 하나의 섹터를 읽을 수 있는 시간에 여러개의 섹터를 동시에 읽을 수 있음\n",
        "  * 미러링(Mirroring): 디스크에 에러가 발생 시 데이터의 손실을 막기 위해 추가적으로 하나 이상의 장치에 중복 저장하는 기술 = 결함 허용(Fault-tolerance)\n",
        "\n",
        "  1. RAID-0 : 스트라이핑 기술을 사용하여 빠른 입출력 속도 제공 / 오류가 발생하면 복구 불가\n",
        "  2. RAID-1: 미러링 기술을 사용하여 두 개의 디스크에 데이터를 동일하게 기록 / 읽기 성능 향상, 쓰기 성능은 단일 디스크와 같음\n",
        "  3. RAID-2: 스트라이핑 기술 사용하여 구성/ ECC(Error Check & Correction)정보 사용\n",
        "  4. RAID-3: 스트라이핑 기술 사용/ 패리티 정보를 저장하기 위해 별도로 하나의 디스크 사용/ 입출력작업이 동시에 모든 디스크에서 이루어짐/ 대형레코드에서 이용\n",
        "  5. RAID-4: 블록 형태의 스트라이핑 기술 사용 / 데이터를 읽을 때 중첩 입출력 가능, 쓰기에는 중첩 불가\n",
        "  6. RAID-5: 패리티 정보(별도의 디스크 사용안함. 데이터 중복 저장하지도 않아 보편적으로 사용)를 이용하여 하나의 디스크가 고장이 발생할 경우에도 사용 가능, 최소 3개의 디스크로 구성\n",
        "  7. RAID-6: RAID-5 + 디스크에 2차 패리티 구성 포함 -> 매우 높은 고장 대비 능력"
      ]
    }
  ]
}