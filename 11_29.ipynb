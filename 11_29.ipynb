{
  "nbformat": 4,
  "nbformat_minor": 0,
  "metadata": {
    "colab": {
      "name": "11/29.ipynb",
      "provenance": [],
      "authorship_tag": "ABX9TyNDGK8uiNGEYJyw5jRBid2r",
      "include_colab_link": true
    },
    "kernelspec": {
      "name": "python3",
      "display_name": "Python 3"
    },
    "language_info": {
      "name": "python"
    }
  },
  "cells": [
    {
      "cell_type": "markdown",
      "metadata": {
        "id": "view-in-github",
        "colab_type": "text"
      },
      "source": [
        "<a href=\"https://colab.research.google.com/github/yoojinlee-hub/Linux_Master/blob/main/11_29.ipynb\" target=\"_parent\"><img src=\"https://colab.research.google.com/assets/colab-badge.svg\" alt=\"Open In Colab\"/></a>"
      ]
    },
    {
      "cell_type": "markdown",
      "metadata": {
        "id": "8pPQKRJ3QeTl"
      },
      "source": [
        "* chown: 그룹 소유권 변경 가능\n",
        "* /tmp 디렉터리에 Sticky-Bit가 설정되어 있음\n",
        "* **Set-UID**:실행파일에 부여. 이 파일을 실행하는 동안에는 실행시킨 사용자의 권한이 아닌 해당 파일의 소유자 권한으로 인식 \n",
        "* **df**명령에서 용량에 대한 단위: -h(--human-readable)\n",
        "  * -T(--print-type): 파일 시스템 표시\n",
        "* **du** 명령에서 특정 디렉터리의 총 사용량을 단위를 붙여서 확인: -s 와 -h 를 붙여서 사용\n",
        "* mount명령에서 읽기 전용: -o ro\n",
        "* mount명령에서 dvd파일 시스템: -t udf 지정 / udf 대신에 iso9660 도 가능"
      ]
    },
    {
      "cell_type": "markdown",
      "metadata": {
        "id": "QYbje9xWRVIb"
      },
      "source": [
        "* 사용 가능한 셸의 목록: chsh -l / cat etc/shells\n",
        "* stty: 터미널 환경 관련 설정을 확인하거나 변경할 때 사용하는 명령\n",
        "* **~/.bash_profile**: 개인별 사용자의 셸 환경 변수 등록\n",
        "* **PWD**: 현재 사용자가 위치한 디렉터리의 경로가 저장된 환경변수\n",
        "* 추가해서 출력될 때 : >> 사용\n",
        "* **/etc/passwd**: 사용자 별로 로그인시에 부여되는 셸의 정보 기록\n",
        "* **job 명령**의 결과로 출력되는 백그라운드 프로세스의 목록에서 **fg 명령을 실행**하면 + 기호가 붙은 프로세스가 포어그라운드 프로세스로 실행됨"
      ]
    },
    {
      "cell_type": "markdown",
      "metadata": {
        "id": "ErB1fC4bUGn8"
      },
      "source": [
        "* ps 명령의 STAT 값 중 Z : zombie 프로세스를 의미. 작업 종료 후 Parent Process로 부터 회수되지 않아 메모리에 적재되어 있는 상태\n",
        "* top: 프로세스의 상태를 실시간으로 확인\n",
        "  * 특정 프로세스 종료: k 입력하고 PID 지정\n",
        "* jobs에서 PID를 출력하는 옵션은 -l이다. 아울러 특정 문자열 추출은 grep을 사용하고, 작업번호가 줄의 처음에 위치하므로 줄의 시작을 의미하는 ^를 사용하면 된다. 마지막으로 []는 셸에서 특수한 기능을 하기 때문에 \\ 를 덧붙여야 함\n",
        "  * 백그라운드로 실행중인 작업 중, 작업번호 3번인 프로세스만 조회하여 PID와 함께 명령어를 출력: jobs -l | grep '^\\[3\\]'\n",
        "* 모드형 편집기: vi \n",
        "* pico: 윈도우 운영체제의 메모장처럼 간편하게 사용하도록 만들었음\n",
        "  * ctrl + g: 도움말 출력\n",
        "  * ctrl + x: 프로그램 종료\n",
        "  * ctrl+ j: 상위 줄과 결합하여 한 문단으로 만들어 준다\n",
        "  * ctrl + o : 편집된 내용을 저장\n",
        "* vi 편지기에서 현재 커서가 위치한 곳의 문자를 삭제하는 명령: x\n",
        "  * vi에서 작업한 파일을 저장하고 종료 :  :wq \n",
        "* rpm 파일은 패키지명-버전-릴리즈-아키텍처.rpm 형식: 아키텍처에는 i386,i686,x86_64 등이 있다\n",
        "* rpm 명령에서 설치과정 확인: -h\n",
        "* tar.gz는 gzip으로 압축된 파일을 의미/ gzip에서 압축 파일에 대한 정보 출력하는 옵션은 -l\n",
        "* rpm 명령에서 의존성으로 인해 설치되지 않는 패키지 강제 설치: --nodeps--force"
      ]
    }
  ]
}