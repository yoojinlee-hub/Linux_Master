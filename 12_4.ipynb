{
  "nbformat": 4,
  "nbformat_minor": 0,
  "metadata": {
    "colab": {
      "name": "12/4.ipynb",
      "provenance": [],
      "authorship_tag": "ABX9TyNwm+pBYQfYoNbhgH+QHeaH",
      "include_colab_link": true
    },
    "kernelspec": {
      "name": "python3",
      "display_name": "Python 3"
    },
    "language_info": {
      "name": "python"
    }
  },
  "cells": [
    {
      "cell_type": "markdown",
      "metadata": {
        "id": "view-in-github",
        "colab_type": "text"
      },
      "source": [
        "<a href=\"https://colab.research.google.com/github/yoojinlee-hub/Linux_Master/blob/main/12_4.ipynb\" target=\"_parent\"><img src=\"https://colab.research.google.com/assets/colab-badge.svg\" alt=\"Open In Colab\"/></a>"
      ]
    },
    {
      "cell_type": "markdown",
      "metadata": {
        "id": "Tmjeqef6PQzB"
      },
      "source": [
        " * Sticky-Bit: 공유 디렉터리에 사용. 해당 디렉터리 내에서 파일 생성은 자유롭게 가능하나, 파일 삭제는 본인 소유의 파일만 삭제 가능\n",
        " * Set-UID: 실행파일에 부여. 이 파일을 실행하는 동안에는 실행시킨 사용자의 권한이 아닌 해당 파일의 소유자 권한으로 인식\n",
        " * Set-GID: set-uid와 유사. 사용자가 해당 gid로 인식\n",
        " ---\n",
        " * unmask: 숫자값 형채가 아닌 문자 형태로 출력 -S\n",
        " * 파일의 그룹 소유권 변경: chgrp,chown\n",
        " * blkid: UUID 출력\n",
        " * df(disk free): 분할된 파티션 별로 사용량, 남은 용량 등을 확인 가능\n",
        "  * -h: 단위표시\n",
        "  * -T: 파일 시스템 표시\n",
        " * mount -t 파일시스템 장치명 마운트할디렉터리\n",
        " * chsh : 셸 변경할 때 **절대 경로**를 사용해야 함\n",
        " * tcsh: 1975년 켄 그리어가 테넥스라는 운영체제에 명령행 완성 기능을 반영하여 1981년 csh와 통합하여 탄생시킴\n",
        " * 사용중인 셸 확인: echo $SHELL\n",
        " ---\n",
        " * 셸에 대한 설명\n",
        "  * **커널과 분리된 프로그램**. 여러가지의 다른 셸 사용 가능\n",
        "  * 유닉스 버전 7의 기본셸은 스티븐 본이 개발한 본셸\n",
        "\n",
        "* 환경변수\n",
        "  * env명령을 통해 전체 환경변수의 값을 확인할 수 있음\n",
        "  * **셸 변수(환경변수X)**: 특정한 셸에서 선언하여 사용하는 변수\n",
        "* 배시 셸의 히스토리 기능\n",
        "  * history 명령으로 히스토리 리스트에 있는 명령어들을 확인 가능\n",
        "  * 히스토리 관련해서 메모리에 저장된 명령어들은 **로그아웃 할 때 ~/.bash_history에 저장됨**\n",
        "  * 사용자가 실행한 모든 명령들은 히스토리 리스트 버퍼에 스택으로 저장됨\n",
        "  * 사용자가 실행한 명령은 .bash_history에 추가로 기록됨\n",
        "\n",
        "* fork: 복사본 프로세스를 실행. 기존의 프로세스는 그대로 실행\n",
        "* exec: 원래의 프로세스를 새로운 프로세스로 대체\n",
        "* ctrl+Z : SIGNSTP 시그널(20) 보냄(프로세스를 일시정지 시켜 대기 시킴)"
      ]
    },
    {
      "cell_type": "markdown",
      "metadata": {
        "id": "FMEuLHIAXSix"
      },
      "source": [
        "\n",
        "\n",
        "---\n",
        "* fg 명령 실행\n",
        "  * 인자값 없이 실행: +기호가 붙은 작업을 포어그라운드 프로세스로 전환\n",
        "  * 작업번호가 2인 프로세스를 포어그라운드 전환하기: fg2 또는 fg %2\n",
        "* NI(프로세스 우선순위 값) 범위: -20~19\n",
        "* crontab 에서 설정된 내용 화면에 출력: -l \n",
        "* gedit: GNOME 기반의 편집기. X윈도 환경에서 사용 \n",
        "* 텍스트 기반의 콘솔 창에서 사용할 수 있는 편집기: vim, emacs, nano\n",
        "* vi 편집기\n",
        "  * 비정상적으로 종료되면 .파일명.swp라는 스왑 파일이 생성됨 / 이 파일을 불러오려면 -r 옵션을 사용\n",
        "  * Y : yy와 동일한 명령 / 줄 복사 명령\n",
        "  * +: 파일을 불러오면서 커서를 해당 파일의 마지막 줄에 위치시킬 때\n"
      ]
    },
    {
      "cell_type": "markdown",
      "metadata": {
        "id": "Yv4tf_XSZGh5"
      },
      "source": [
        "\n",
        "\n",
        "---\n",
        "* tar 명령\n",
        "  * r: 기존에 생성된 tar 파일에 특정 파일들을 추가 할 때 사용 \n",
        "  * x: 생성된 파일 풀어주기\n",
        "  * t: 파일 안에 묶여 있는 파일의 목록을 보여줌\n",
        "* **리눅스 압축 관련 유틸리티와 설명**\n",
        "  * bzip2: 블록 정렬 알고리즘과 허프만 부호화를 사용하여 압축률이 좋다\n",
        "  * compress: 유닉스 초기에 사용되던 압축 방식\n",
        "  * gzip: compress를 대체하기 위하여 사용하는 압축 형식. 지금도 사용중\n",
        "  * xz: 최근에 가장 높은 압축율을 자랑하는 압축 형식\n",
        "* rpm명령으로 의존성 제거하는 옵션: --nodeps\n",
        "* 데비안 리눅스 계열에서 특정 패키지 제거: *apt-get remove 패키지명*\n"
      ]
    }
  ]
}