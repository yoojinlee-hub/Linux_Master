{
  "nbformat": 4,
  "nbformat_minor": 0,
  "metadata": {
    "colab": {
      "name": "11/21.ipynb",
      "provenance": [],
      "authorship_tag": "ABX9TyN22kiG6lM1yS732FgqqHSQ",
      "include_colab_link": true
    },
    "kernelspec": {
      "name": "python3",
      "display_name": "Python 3"
    },
    "language_info": {
      "name": "python"
    }
  },
  "cells": [
    {
      "cell_type": "markdown",
      "metadata": {
        "id": "view-in-github",
        "colab_type": "text"
      },
      "source": [
        "<a href=\"https://colab.research.google.com/github/yoojinlee-hub/Linux_Master/blob/main/11_21.ipynb\" target=\"_parent\"><img src=\"https://colab.research.google.com/assets/colab-badge.svg\" alt=\"Open In Colab\"/></a>"
      ]
    },
    {
      "cell_type": "markdown",
      "metadata": {
        "id": "fUOedVEh0gDK"
      },
      "source": [
        "**파일 혹은 디렉터리의 허가**\n",
        "* 디렉터리 내부로 접근할 수 있는 권한 표시 : x\n",
        "* /project 디렉터리에 Set-GID 설정 할 때? #chmod (**g+s**) /project\n",
        "* 모든 사용자에게 읽기 권한 만을 설정 할 때? # chmod (**a+r**) *.txt\n",
        "* 파일의 소유 그룹을 ihd로 정하기\n",
        "  * # chgrp ihd example.txt\n",
        "  * # chown .ihd example.txt\n",
        "  * # chown :ihd example.txt\n",
        "* unmask 명령어는 파일이나 디렉터리 생성 시 부여되는 기본 허가권을 지정하는 명령 : unmask 값이 0002일 때?\n",
        "  * 파일 생성: 666에서 뺀 값인 664가 기본(rw,rw,r)\n",
        "  * 디렉터리 생성: 777에서 뺀 값인 775가 기본(rwx,rwx,rx)\n",
        "\n",
        "\n",
        "---\n",
        "\n",
        "\n",
        "* nfs: 네트워크 상의 시스템 파일 공유"
      ]
    },
    {
      "cell_type": "markdown",
      "metadata": {
        "id": "dFlmj5R21ufr"
      },
      "source": [
        "\n",
        "\n",
        "---\n",
        "**mount**\n",
        "* access time 갱신 X : noatime\n",
        "* unmaount -a: unmount 명령에서 명시된 파일 시스템을 호출할 때\n",
        "  * /proc파일시스템은 제외하고 명시된 파일 시스템 전부를 언마운트 함\n",
        "* fdisk\n",
        "  * p : 현재 디스크의 정보 출력\n",
        "  * d : 파티션 삭제\n",
        "  * n : 파티션을 새롭게 생성\n",
        "  * t : 파티션의 시스템 아이디 변경\n",
        "* mke2fs명령에서 ex3 파일 시스템은 -j, 블록 사이즈는 -b, stripe당 블록 사이즈는 stride로 지정\n",
        "  * RAID 장치인 /dev/md0를 ex3파일 시스템으로 생성하고 블록사이즈를 8192 바이트로 한다. 또한, stripe당 블록 사이즈를 32바이트로 설정한다 : mke2fs -j -b 8192 -R stride=32 /dev/md0\n",
        "\n",
        "\n",
        "---\n",
        "\n",
        "**셸(Shell)**\n",
        "* /etc/shells:  현재 시스템에서 사용 가능한 셸의 목록 확인\n",
        "* 로그인할 때 부여되는 셸 환경변수 : Shell\n",
        "* **bash 셸 **에서는 특별한 선언 없이 '변수명=값' 형태로 설정 가능 / 변수 값은 'echo $변수명' 으로 확인 가능\n",
        "* 최근에 입력한 마지막 3개의 명령어 목록 출력: history 3\n",
        "* 셸 사용시 기본으로 지원되는 언어를 영어로 : LANG=C\n",
        "\n",
        "\n",
        "---\n",
        "\n",
        "\n",
        "* alias 명령\n",
        "  * 존재하지 않는 명령어에 특정 명령 지정 가능\n",
        "  * **alias 명령을 실행하면 현재 설정된 alias 목록 출력**\n",
        "  * unalias 명령 -> alias된 특정 명령 해제 가능\n",
        "  * alias 명령은 csh,bash,tcsh등 대부분의 셸에서 지원\n",
        "* env: 환경 변수 출력\n",
        "* 히스토리 ! / 전부 ? / 특정 문자열을 포함하는 명령 ?특정문자열?\n",
        "  * 최근에 사용한 명령 목록에서 vi문자열을 포함하고 있는 명령을 찾아서 실행할 때: !?vi?\n",
        "* top명령: 실행중인 상태에서 프로세스 상태를 출력하거나 제어할 수 있음\n",
        "  * -d 옵션(-d 1): 1초 간격으로 실시간으로 화면에 출력\n",
        "  * -p 4056: PID가 4056인 프로세스만을 실시간으로 화면에 출력\n",
        "* 새로운 프로세스를 생성: fork, exec\n",
        "  * fork: 새로운 프로세스를 위해 메모리를 할당받아 복사본 형태의 프로세스를 실행하는 형태 / 기존의 프로세스는 그대로 유지\n",
        "  * exec: 원래의 프로세스를 새로운 프로세스로 대체\n",
        "* ps명령 수행시 나타나는 정보\n",
        "  * USER: BSD계열, 프로세스 사용자 이름\n",
        "  * PID: 프로세스를 식별할 수 있는 번호 출력\n",
        "  * RSS: 실제 사용되고 있는 메모리의 사용량 \n",
        "  * PPID: 부모 프로세스의 PID\n",
        "* crontab 분 시 일 월 요일 순서\n",
        "  * 매 월 25일 13시 정각에 \"/finance/payment.sh\"라는 패치 프로그램 실행 : 0 13 25 * * /finance/payment.sh\n",
        "\n"
      ]
    },
    {
      "cell_type": "markdown",
      "metadata": {
        "id": "SdCclaGz8qPF"
      },
      "source": [
        "\n",
        "\n",
        "---\n",
        "\n"
      ]
    },
    {
      "cell_type": "markdown",
      "metadata": {
        "id": "TL9nXsuM8rT6"
      },
      "source": [
        "**vi 편집기**\n",
        "* vi편집기를 이용하여 특정 줄에 있는 문자열을 모두 치환: s/문자열/새문자열/g\n",
        "* 전체 줄 : 1,$ 또는 %\n",
        "* vi편집기를 이용하여 파일 전체에 있는 windows문자열을 linux로 치환 :  :1,$ s/windows/linux/g\n",
        "* .exrc: vi편집기에서 사용하는 다양한 환경설정을 계속적으로 사용하기 위해 등록하는 파일\n",
        "* 줄 번호 표시 : set number, set nu, se nu\n",
        "* 줄 번호 표시 제거: set nonumber, se no\n",
        "\n",
        "\n",
        "---\n",
        "레드햇계열\n",
        "*  RPM 설치시 강제적으로 설치하는 --force옵션에 포함되는 옵션: replacepkgs, replacefiles, oldpackages\n",
        "* tvf : tar 명령에서 묶여진 tar 파일의 내용 확인\n",
        "* 소스 파일로 프로그램 설치: configure -> make -> make install\n",
        "* yum명령으로 패키지 제거: remove, erase\n",
        "* rpm명령\n",
        "  * 특정 패키지가 설치한 목록: -ql\n",
        "  * 특정 패키지에 대한 정보: -qi"
      ]
    }
  ]
}