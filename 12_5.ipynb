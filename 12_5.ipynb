{
  "nbformat": 4,
  "nbformat_minor": 0,
  "metadata": {
    "colab": {
      "name": "12/5.ipynb",
      "provenance": [],
      "authorship_tag": "ABX9TyOwmQHr2D9hfQyNUdGdbneg",
      "include_colab_link": true
    },
    "kernelspec": {
      "name": "python3",
      "display_name": "Python 3"
    },
    "language_info": {
      "name": "python"
    }
  },
  "cells": [
    {
      "cell_type": "markdown",
      "metadata": {
        "id": "view-in-github",
        "colab_type": "text"
      },
      "source": [
        "<a href=\"https://colab.research.google.com/github/yoojinlee-hub/Linux_Master/blob/main/12_5.ipynb\" target=\"_parent\"><img src=\"https://colab.research.google.com/assets/colab-badge.svg\" alt=\"Open In Colab\"/></a>"
      ]
    },
    {
      "cell_type": "markdown",
      "metadata": {
        "id": "pd1A6BPmDp7p"
      },
      "source": [
        "\n",
        "* RPM에 관한 설명\n",
        "  * 설치 및 갱신, 제거, 질의, 검증 모드\n",
        "  * 모든 패키지 정보 출력: -qa\n",
        "  * 검증모드 기본옵션: -V \n",
        "  * 질의모드(-q)에서 -p 옵션: rpm 패키지 파일로 관련 정보를 질의\n",
        "* yum 명령으로 특정 패키지에 관한 정보 출력: yum **info** 패키지명\n",
        "* rpm 질의모드에서 출력되는 특정한 형식 지정: --qf(--queryformat)\n",
        "---\n",
        "* 리눅스 시스템에서 프린터를 사용하는 방법\n",
        "  * 패러럴 포트에 연결해서 /dev/lp0파일을 사용\n",
        "  * USB포트에 연결해서 /dev/usb/lp0 파일 사용\n",
        "  * LPRng와 같은 LPD 프로토콜 기반으로 설정해서 네트워크 프린터로 사용\n",
        "* LPRng\n",
        "  * lpr,lpq,lpstat,cancel 등의 명령어를 지원\n",
        "* lpadmin: CUPS 프린팅 시스템에서 사용\n",
        "* sane-find-scanner 명령어를 사용하여 병렬(Parallel) 포트에 연결된 스캐너만 찾는 옵션: -p\n",
        "* 프린터 큐에 대기중인 인쇄 작업을 취소하는 명령\n",
        "  * lprm\n",
        "  * cancel: -a옵션 사용 가능\n",
        "* 커서(ncurses)라이브러리 기반의 오디오 프로그램: alsamixer\n"
      ]
    },
    {
      "cell_type": "markdown",
      "metadata": {
        "id": "Au3S_6ugHaCS"
      },
      "source": [
        "\n",
        "\n",
        "---\n",
        "* **윈도매니저**: 도크, 태스크바, 프로그램런처, 데스크톱 아이콘, 바탕화면과 같은 다양한 유틸리티 제공\n",
        "* KDE에서 사용하는 라이브러리: Qt\n",
        "* **startx:** 레벨 3인 *콘솔모드*에서 X윈도를 실행하는 명령어\n",
        "* Thunderbird: 모질라 재단에서 개발한 email 및 뉴스그룹 관련 클라이언트 프로그램\n",
        "* evince: PDF,PS,EPS 문서를 확인할 때 사용\n",
        "* **세션계층**은 응용프로그램 간의 통신을 관리하기 위한 방법과 동기화를 유지하는 서비스를 제공한다\n",
        "* GNOME에 포함된 프로그램: GIMP,nautilus,gedit\n",
        "* **Gwenview**: KDE 기반의 이미지 뷰어 프로그램\n"
      ]
    },
    {
      "cell_type": "markdown",
      "metadata": {
        "id": "M92HYuowI5ki"
      },
      "source": [
        "* ICMP: 메시지에 대한 오류보고와 이에 대한 피드백을 원래 호스트에 보고\n",
        "* https: 443번 포트\n",
        "* portmap: RPC관련 서비스를 처리하는 데몬. NFS,NIS네서 사용\n",
        "* 메일 관련 프로토콜: pop3,*imap*,smtp\n",
        "* 파이어폭스 브라우저: 게코 레이아웃 엔진 사용\n",
        "* SSH 키 관련 정보: ~/.ssh/authorized_keys에 저장됨\n",
        "* telnet 사용자명 지정: -l 사용자명\n",
        "* 넷 마스크 값이 26이면 255.255.255.192를 의미하고 하나의 호스트 개수는 64개이다. 해당 ip 주소가 속한 네트워크 대역은 192.168.3.128~ 192.168.3.191이 된다. 이 경우에 게이트웨이 주소는 192.168.3.129 또는 192.168.3.190이 최적임\n",
        "* /etc/hosts: 도메인 기반으로 다양한 실습을 하기위해 **가상 도메인을 부여**할 때 사용/ ip주소와 도메인명 매칭\n",
        "* 네트워크 인터페이스 관련 정보: ethtool 또는 mii-tool 명령으로 확인\n",
        "* 네트워크 연결 상태 확인: netstat, ss 명령\n",
        "* *고가용성 클러스터*: Backup Node 사용\n",
        "* *고계산용 클러스터*: GNU C Compiler, PVM,MPI 사용\n",
        "* 버추얼 박스: *.vdi 형식으로 저장됨\n",
        "* Docker: 서버 운영에 필요한 프로그램과 라이브러리 만으로 이미지를 만들어 프로세스처럼 동작시키는 경량화된 가상화 방식"
      ]
    }
  ]
}