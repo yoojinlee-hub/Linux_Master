{
  "nbformat": 4,
  "nbformat_minor": 0,
  "metadata": {
    "colab": {
      "name": "12/3.ipynb",
      "provenance": [],
      "authorship_tag": "ABX9TyNSfGd0WQmK8YKipULl5HkN",
      "include_colab_link": true
    },
    "kernelspec": {
      "name": "python3",
      "display_name": "Python 3"
    },
    "language_info": {
      "name": "python"
    }
  },
  "cells": [
    {
      "cell_type": "markdown",
      "metadata": {
        "id": "view-in-github",
        "colab_type": "text"
      },
      "source": [
        "<a href=\"https://colab.research.google.com/github/yoojinlee-hub/Linux_Master/blob/main/12_3.ipynb\" target=\"_parent\"><img src=\"https://colab.research.google.com/assets/colab-badge.svg\" alt=\"Open In Colab\"/></a>"
      ]
    },
    {
      "cell_type": "markdown",
      "metadata": {
        "id": "i74nbF3quD0R"
      },
      "source": [
        "* tar\n",
        "  * z 옵션: gzip형식\n",
        "  * j 옵션: bizp2 형식\n",
        "  * 디렉터리 지정 -C\n",
        "* yum은 rpm 패키지 설치시 가장 많이 발생하는 의존성 문제를 해결해주는 도구이다\n",
        "* cups데몬의 프린터 환경설정 파일: /etc/cups/cupsd.conf\n",
        "* SANE는 이미지 관련 하드웨어를 사용할 수 있게 해주는 API다. SANE는 **GPL 라이선스**로 리눅스 및 유닉스와 windows도 지원한다. 스캐너 관련 드라이버가 있는 sane-backends와 사용자 관련 명령이 있는 sane-frontends등 2개의 패키지로 배포된다\n",
        "* lpr 명령에서 인쇄 매수 지정 -#\n",
        "* SystemV 계열에 속하는 프린터 명령: lp,lpstat,cancel\n",
        "---\n",
        "* plasma: KDE에서 만든 새로운 데스크톱 이름\n",
        "* 리눅스에서 사용하는 데스크톱 환경: KDE, GNOME,Xfce, LXDE\n",
        "* xauth list $DISPLAY: X윈도 시작시에 생성된 키 값 확인 가능 // **MIT-MAGIC-COOKIE-1 형식**\n",
        "* X서버에서 접근할 수 있는 클라이언트를 ip주소 기반으로 설정: xhost\n",
        "* GNOME\n",
        "  * metacity,mutter: 창 관리자\n",
        "  * nautilus: 파일 관리자 시스템"
      ]
    },
    {
      "cell_type": "markdown",
      "metadata": {
        "id": "YOB2fOVmwONr"
      },
      "source": [
        "\n",
        "\n",
        "---\n",
        "* FDDI:  보통 한 빌딩 사이의 간선 LAN으로 사용되거나, 컴퓨터 사이를 고속으로 접속하는데 주로 사용된다\n",
        "* IP: 호스트의 주소지정과 패킷분할 및 조립기능을 담당. 데이터 세그먼트를 패킷으로 만들어 전달\n",
        "* ICANN : IP주소와 도메인을 관리하는 국제기관\n",
        "* KISA: IP주소와 도메인을 관리하는 국내기관\n",
        "* 원격지 서버에서 접속해서 명령 실행, 파일 복사 등이 가능한 서비스: RLOGIN, SSH,TELNET\n",
        "* 삼바서비스와 관계 있음: SMB, CIFS, NetBIOS\n",
        "* RPC: NIS,NFS 서비스에 사용\n",
        "* 파이어폭스 개발: 모질라 재단\n",
        "* FTP 관련 명령어 중 close: 서버와의 연결은 끊지만. ftp> 프롬프트는 유지\n",
        "* 가장 작은 ip 주소: 네트워크 주소값"
      ]
    },
    {
      "cell_type": "markdown",
      "metadata": {
        "id": "P3XFtGB83L75"
      },
      "source": [
        "\n",
        "\n",
        "---\n",
        "\n",
        "* ifconfig,ip: 이더넷 카드의 MAC 주소 확인\n",
        "* CentOS 7 버전에서 GUI 기반의 네트워크 설정 명령어: nm-connection-editor\n",
        "* ethtool,mii-tool: 이더넷 카드의 설정 정보 출력/변경\n",
        "* 채널 본딩: 두 개 이상의 네트워크 잉ㄴ터페이스를 묶어주는 기술\n",
        "* QNX: QNX소프트웨어에서 개발한 유닉스 형태의 RTOS(RealTime Operating System)\n",
        "* CPU 반가상화 : XEN만 지원  / 반가상화 구성 시에 호스트와 다른 아키텍처의 게스트는 실행할 수 없다\n",
        "* RHEV: KVM 기반으로 레드햇에서 만든 상용 제품\n",
        "* QEMU: 전가상화를 지원하는 에뮬레이터, 반가상화 기술이 물리적 서버 대비해서 효율성이 좋음"
      ]
    }
  ]
}