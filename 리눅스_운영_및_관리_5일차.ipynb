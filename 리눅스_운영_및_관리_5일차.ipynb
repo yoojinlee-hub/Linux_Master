{
  "nbformat": 4,
  "nbformat_minor": 0,
  "metadata": {
    "colab": {
      "name": "리눅스 운영 및 관리 5일차.ipynb",
      "provenance": [],
      "authorship_tag": "ABX9TyNvxFN+qPY5cbO/7YZlqO7Z",
      "include_colab_link": true
    },
    "kernelspec": {
      "name": "python3",
      "display_name": "Python 3"
    },
    "language_info": {
      "name": "python"
    }
  },
  "cells": [
    {
      "cell_type": "markdown",
      "metadata": {
        "id": "view-in-github",
        "colab_type": "text"
      },
      "source": [
        "<a href=\"https://colab.research.google.com/github/yoojinlee-hub/Linux_Master/blob/main/%EB%A6%AC%EB%88%85%EC%8A%A4_%EC%9A%B4%EC%98%81_%EB%B0%8F_%EA%B4%80%EB%A6%AC_5%EC%9D%BC%EC%B0%A8.ipynb\" target=\"_parent\"><img src=\"https://colab.research.google.com/assets/colab-badge.svg\" alt=\"Open In Colab\"/></a>"
      ]
    },
    {
      "cell_type": "markdown",
      "metadata": {
        "id": "Qs3_BYsHffhX"
      },
      "source": [
        "**소프트웨어 설치**"
      ]
    },
    {
      "cell_type": "markdown",
      "metadata": {
        "id": "KyxB92ZYfxZX"
      },
      "source": [
        "레드햇 계열 - RPM <기본 패키지 관리 기법>, YUM <온라인 패키지 관리기법> <br>\n",
        "데비안(우분투) 계열 - Dpkg / apt-get,apt <br>\n",
        "수세 계열 - YaST / zypper,zypp"
      ]
    },
    {
      "cell_type": "markdown",
      "metadata": {
        "id": "VgSgXFALgZtI"
      },
      "source": [
        "소스 설치법: 압축 풀기 -> 디렉터리 이동 -> configure -> make -> make install\n",
        "* configure : 사용자들이 자신의 환경에 맞도록 손쉽게 수정하도록 제공되는 스크립트\n",
        "* make: 소프트웨어를 컴파일하는 유틸리티. configure에 의해 변경된 내용 반영하고 타겟과 의존성 관련 작업 -> 최종적으로 실행 파일 만듬\n",
        "* make install : 설치\n",
        "* cmake : make의 대체 프로그램. 멀티플랫폼을 지원하기 위한 목적으로 등장 / 유닉스 계열 뿐 만 아니라 마이크로소프트 윈도우 계열의 프로그래밍 도구도 지원/ MySQL 소스파일로 설치할 때 configure와 make 대신 cmake 선택"
      ]
    },
    {
      "cell_type": "markdown",
      "metadata": {
        "id": "JO9-sHEzkE4K"
      },
      "source": [
        "패키지 설치\n",
        "* RPM(Red Hat Package Manager): **패키지이름-버전-릴리즈.리눅스버전.아키텍처.rpm**\n",
        "  * 아키텍처: 패키지가 사용 가능한 시스템\n",
        "* 데비안 계열 dpkg(Debian Package): 패키지이름_버전-릴리즈-아키텍처.deb\n",
        "  * dselect와 alien도 있다!\n",
        "    * dselect: curses메뉴 방식의 유틸리티. 주어진 메뉴를 이동하면서 패키지 관리. dpkg보다 쉬움\n",
        "    * alien: 다른 종류의 리눅스 패키지 형식을 상호 변환해주는 유틸리티"
      ]
    },
    {
      "cell_type": "markdown",
      "metadata": {
        "id": "ZCpof-vLlO-y"
      },
      "source": [
        "압축 관련 유틸리티\n",
        "* tar(tape archive): 여러 파일들을 하나의 파일로 묶어주는 명령/ GNU tar는 옵션을 이용해서 파일로 묶거나 풀 때 압축 관련 작업을 동시에 진행할 수 있음\n",
        "  * tar [option] [파일명]\n",
        "* compress, uncompress: 전통적으로 유닉스에서 사용 / 리눅스에서는 압축률이 낮아 현재는 거의 쓰이지 않는다\n",
        "* gzip,gunzip: GNU에서 만든 압축 프로그램. 압축하면 파일명 뒤에 .gz가 붙음\n",
        "  * zcat : gzip 패키지 안에 같이 들어있는 명령. 압축되어 있는 텍스트 파일의 내용 확인\n",
        "* bzip2,bunzip2: 블록정렬알고리즘+허프만부호화 / gzip보다 압축률은 좋지만 압축 시간이 더 걸림\n",
        "* xz,unxz: gzip,bzip2보다 매우 높은 압축률 / LZMA2라는 알고리즘 / 데이터 무손실 압축 프로그램"
      ]
    },
    {
      "cell_type": "markdown",
      "metadata": {
        "id": "Rhp9vrKKoZIs"
      },
      "source": [
        "**rpm 사용법**\n",
        "1. 설치 및 갱신 모드(install & upgrade) \n",
        "  * -F : 이전 버전이 설치되어 있는 경우만 설치\n",
        "  * -h: 설치 상황을 #으로 표시해준다\n",
        "2. 제거(erase)모드\n",
        "  * 의존성이 발생한 패키지를 제거하기 위해서는 먼저 의존성 관련 패키지를 제거하거나 추가로 --nodeps 옵션을 지정해야 함 \n",
        "3. 질의(query) 모드 : 패키지 관련 정보를 알아내기 위해 -q 옵션 사용 -> 패키지 설치 유무나 간단한 버전 정보만 출력\n",
        "4. 검증(verify) 모드: rpm 데이터베이스에 저장되어 있는 패키지의 메타데이터를 이용하여 변경된 정보를 찾아내는 모드"
      ]
    },
    {
      "cell_type": "markdown",
      "metadata": {
        "id": "cIQtyC9opkWr"
      },
      "source": [
        "**yum**(Yellowdog updater, Modified): **rpm기반의 시스템에서 패키지를 손십게 설치**해주고 자동으로 업데이트를 수행하는 명령행 기반의 유틸리티. 의존성 문제를 자동으로 해결(repository에 관련 패키지 저장, 네트워크를 통해 의존성을 검사) / 데비안 리눅스의 APT(Advanced Packaging Tool)과 유사\n",
        "* yum [option] [command] [파일명]"
      ]
    },
    {
      "cell_type": "markdown",
      "metadata": {
        "id": "vVU2wIrCqc4K"
      },
      "source": [
        "dpkg [option] [패키지명] [패키지파일명]"
      ]
    },
    {
      "cell_type": "markdown",
      "metadata": {
        "id": "q_RNw18Qqwwp"
      },
      "source": [
        "apt-get: 데비안 리눅스 배포판에서 패키지 관리를 쉽게 하기 위해 제공되는 명령행 기반의 유틸리티, 레드햇 계열의 yum과 유사\n",
        "* 의존성과 충돌성을 /etc/apt/sources.list파일에 패키지 관련 정보를 관리하여 해결\n",
        "* ATP(Advanced Packaging Tool) 라이브러리를 이용한 명령행 기반의 도구 -> 사용상의 어려움\n",
        "  * 최근에는 GUI기반의 시냅틱(synaptic)이나 앱티튜드(aptitude)를 이용하기도 함"
      ]
    }
  ]
}