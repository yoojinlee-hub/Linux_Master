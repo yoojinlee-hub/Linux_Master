{
  "nbformat": 4,
  "nbformat_minor": 0,
  "metadata": {
    "colab": {
      "name": "리눅스 활용 3일차.ipynb",
      "provenance": [],
      "authorship_tag": "ABX9TyMTj6Bklc53q+0tXJ7+ts66",
      "include_colab_link": true
    },
    "kernelspec": {
      "name": "python3",
      "display_name": "Python 3"
    },
    "language_info": {
      "name": "python"
    }
  },
  "cells": [
    {
      "cell_type": "markdown",
      "metadata": {
        "id": "view-in-github",
        "colab_type": "text"
      },
      "source": [
        "<a href=\"https://colab.research.google.com/github/yoojinlee-hub/Linux_Master/blob/main/%EB%A6%AC%EB%88%85%EC%8A%A4_%ED%99%9C%EC%9A%A9_3%EC%9D%BC%EC%B0%A8.ipynb\" target=\"_parent\"><img src=\"https://colab.research.google.com/assets/colab-badge.svg\" alt=\"Open In Colab\"/></a>"
      ]
    },
    {
      "cell_type": "markdown",
      "metadata": {
        "id": "F7G_aJipjLZG"
      },
      "source": [
        "**LAN 구성 장비**\n",
        "1. 네트워크 카드 = 네트워크 어댑터 = 네트워크 인터페이스 카드(NIC) = 이더넷 카드\n",
        "  * 네트워크 안에서 컴퓨터끼리 통신하는데 쓰이는 하드웨어\n",
        "  * MAC주소라는 고유한 주소 할당시스템 이용\n",
        "  * OSI 7 Layer중 1,2 계층 장치 사용\n",
        "2. 케이블 : 신호를 전송하는 물리적인 전송매체\n",
        "  * BNC, UTP, 광섬유\n",
        "  * 일반적인 연결: 양쪽 끝 모두 T568B방식\n",
        "  * PC대 PC 직접 연결 / 허브 UPLINK연결: 한 쪽은 T568B방식, 나머지는 T568A방식\n",
        "3. 허브 : 여러 대의 컴퓨터 및 네트워크 장비를 연결하는 장치"
      ]
    },
    {
      "cell_type": "markdown",
      "metadata": {
        "id": "hBWOXXWylAo2"
      },
      "source": [
        "**인터네트워킹(네트워크와 네트워크의 연결) 장비 : 게이트웨이**\n",
        "1. 리피터: 물리적 신호를 증폭하여 중계\n",
        "  * 1계층(물리계층)에서 동작\n",
        "2. 브리지: 데이터링크계층에 있는 여러 개의 네트워크 세그먼트를 연결\n",
        "  * 리피터, 허브 기능 + 트래픽 관리\n",
        "3. 라우터: 1,2,3계층 기능 지원\n",
        "  * 브리지 + 경로 선택 기능"
      ]
    },
    {
      "cell_type": "markdown",
      "metadata": {
        "id": "zahB0EkhoSGH"
      },
      "source": [
        "\n",
        "\n",
        "---\n",
        "\n"
      ]
    },
    {
      "cell_type": "markdown",
      "metadata": {
        "id": "dvi326ntl_bY"
      },
      "source": [
        "프로토콜\n",
        "* 프로토콜의 기본 구성요소: 구문, 의미, 순서\n",
        "* 기능 : 주소지정, 순서지정, 단편화와 재조합, 흐름제어, 오류제어, 연결제어, 동기화, 멀티플렉싱, 전송서비스, 캡슐화\n",
        "* 프로토콜 번호: /etc/protocols 에서 확인 가능"
      ]
    },
    {
      "cell_type": "markdown",
      "metadata": {
        "id": "J4C22fYXmcaG"
      },
      "source": [
        "[TCP/IP 4계층](https://hahahoho5915.tistory.com/15) \n",
        "* ICMP: ping명령이 사용하는 프로토콜. ip패킷의 형태로 전달됨"
      ]
    },
    {
      "cell_type": "markdown",
      "metadata": {
        "id": "J6AlzKXRnAT_"
      },
      "source": [
        "[OSI 7 LAYER](https://shlee0882.tistory.com/110) "
      ]
    },
    {
      "cell_type": "markdown",
      "metadata": {
        "id": "dUVLPofmnhKd"
      },
      "source": [
        "* 포트번호 : /etc/services파일에서 확인 가능\n",
        "* 소켓: 네트워크로 연결되어 있는 컴퓨터에서 상호간 통신을 위한 접점. 인터넷프로토콜, 로컬 시스템의 ip주소 및 포트번호, 원격 시스템의 ip 주소 및 포트번호로 구성됨"
      ]
    },
    {
      "cell_type": "markdown",
      "metadata": {
        "id": "u-AYvejooS1N"
      },
      "source": [
        "\n",
        "\n",
        "---\n",
        "\n"
      ]
    },
    {
      "cell_type": "markdown",
      "metadata": {
        "id": "_NzTdPQQoTXu"
      },
      "source": [
        "DNS: Domain Name System\n",
        "* 도메인은 루트 도메인 아래에 역트리 형태의 계층적 구조로 되어있음\n",
        "* ICANN: 국제도메인관리기구, 인터넷 도메인 관리와 정책을 결정"
      ]
    },
    {
      "cell_type": "markdown",
      "metadata": {
        "id": "LO68AmUHpKjm"
      },
      "source": [
        "\n",
        "\n",
        "---\n",
        "\n"
      ]
    },
    {
      "cell_type": "markdown",
      "metadata": {
        "id": "Dhg1sgkVpLBV"
      },
      "source": [
        "**인터넷 서비스의 종류 및 특징**\n",
        "* WWW: 웹. 정보를 하이퍼텍스트 방식과 멀티미디어 환경에서 검색할 수 있는 정보검색 시스템 . html 언어 이용\n",
        "* 전자우편: 메시지교환 - SMTP, 메시지 확인 - POP3,IMAP\n",
        "* FTP:File Transfer Protocol  : Wu-ftpd,Proftpd,Vsftpd등을 이용해서 FTP 서버를 구축해야 함\n",
        "* 텔넷: 원격지에 있는 서버에 접속. SSH로 대체됨 // 서버의 포트 점검에 이용하기도 함\n",
        "* SSH(Secure Shell): 네트워크상에 있는 다른 컴퓨터에 로그인, 원격 시스템에서 명령실행/파일복사. rlogin,rsh,텔넷 대체\n",
        "* Samba(삼바): 다른 시스템의 디스크나 프린터 등의 자원 공유 가능. CIFS라고 부름(LanManager,NetBIOS 프로토콜도 포함)\n",
        "* NFS: Network File System  : 다른 컴퓨터의 파일 시스템을 마운트하고 공유하여 상대방의 파일 시스템 일부를 마치 자신의 디렉터리인 것 처럼 사용할 수 있게 해 줌.NIS와 RPC 프로토콜 기반으로 작동. rpcbind데몬을 먼저 실행시켜야 함. 보안에 상당히 취약"
      ]
    }
  ]
}