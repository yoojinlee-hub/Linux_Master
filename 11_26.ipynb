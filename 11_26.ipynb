{
  "nbformat": 4,
  "nbformat_minor": 0,
  "metadata": {
    "colab": {
      "name": "11/26.ipynb",
      "provenance": [],
      "authorship_tag": "ABX9TyOO6zv+mEcct0uR5a0K7UfS",
      "include_colab_link": true
    },
    "kernelspec": {
      "name": "python3",
      "display_name": "Python 3"
    },
    "language_info": {
      "name": "python"
    }
  },
  "cells": [
    {
      "cell_type": "markdown",
      "metadata": {
        "id": "view-in-github",
        "colab_type": "text"
      },
      "source": [
        "<a href=\"https://colab.research.google.com/github/yoojinlee-hub/Linux_Master/blob/main/11_26.ipynb\" target=\"_parent\"><img src=\"https://colab.research.google.com/assets/colab-badge.svg\" alt=\"Open In Colab\"/></a>"
      ]
    },
    {
      "cell_type": "markdown",
      "metadata": {
        "id": "a3iBSWafp6Vw"
      },
      "source": [
        "패키지\n",
        "* rpm 명령에서 측정 패키지가 설치되어 있는지 확인: -q(--query)\n",
        "* rpm옵션 중에서 패키지 설치, 삭제 시 의존성을 무시하고 진행: --nodeps\n",
        "* yum옵션 중에서 업데이트가 가능한 패키지 목록: check-update\n",
        "* rpm 검증 코드(rpm -V 명령)\n",
        "  * S: 파일 크기 변경\n",
        "  * M: 파일 모드 변경\n",
        "  * 5: MD5 체크섬 변경\n",
        "  * L: 심볼릭 링크 변경\n",
        "\n",
        "\n",
        "---\n",
        "\n"
      ]
    },
    {
      "cell_type": "markdown",
      "metadata": {
        "id": "QYiWBSXcucsa"
      },
      "source": [
        "응용프로그램\n",
        "* XSANE: X윈도 기반의 스캐너 관련 프로그램. 실행 명령은 xsane. GTK+ 라이브러리로 만들어짐\n",
        "* 리눅스 시스템에서 프린터를 직접 연결하는 경우에는 자동으로 관련 파일이 생긴다\n",
        "  * 병렬 포트에 연결: /dev/lp0\n",
        "  * USB 포트에 연결: /dev/lp0/usb\n",
        "* CUPS: 애플이 개발한 오픈 소스 프린팅 시스템\n",
        "* 사용 가능한 SCSI 및 USB 스캐너의 정보 출력: sane-find-scanner\n",
        "* lp 명령에서 여러 장을 출력할 때 사용하는 옵션은 '-n'이다\n",
        "\n",
        "\n",
        "---\n",
        "\n"
      ]
    },
    {
      "cell_type": "markdown",
      "metadata": {
        "id": "SajYcn0-vjH5"
      },
      "source": [
        "X윈도\n",
        "* startx: 콘솔에서 X윈도를 실행\n",
        "* X윈도에 대한 설명\n",
        "  * GUI 기반의 환경\n",
        "  * 네트워크 프로토콜 기반의 서버/클라이언트 모델\n",
        "  * 데스크톱 환경: GNOME, KDE\n",
        "  * 원격 연결 지원\n",
        "* 윈도우 매니저: metacity,Mutter(GNOME Shell)\n",
        "* systmctl 명령으로 콘솔 환경(CLI) 혹은 X윈도(GUI)환경을 지정하는 값: multi-user.target , runlevel3.target, graphical.target, runlevel5.target / .target은 생략 가능\n",
        "* X윈도 실행 시에 설정된 키 값 확인: xauth list $DISPLAY\n",
        "* nautilus: GNOME 데스크톱 기반의 파일 관리 시스템\n",
        "* ImageMagick: 비트맵 이미지 생성, 편집, 확인 가능\n",
        "* xhost: 원격지에서 X윈도에 연결을 허락하거나 거부 할 때 사용하는 명령어\n",
        "\n",
        "---\n",
        "\n"
      ]
    },
    {
      "cell_type": "markdown",
      "metadata": {
        "id": "sAH3ARriyk56"
      },
      "source": [
        "네트워크\n",
        "* X.25: ITU-T의 표준화한 통신규약. DCE(회선 종단 장치)와 DTE(데이터 단말 장치) 사이에 이루어지는 상호작용을 규정. **네트워크 계층의 대표적인 프로토콜**로, 가변 길이 프레임 전송을 지원하는 프레임 릴레이의 기반\n",
        "* 기관 종류와 서브 도메인\n",
        "  * ac: 학교\n",
        "  * re: 연구소\n",
        "  * co: ghltk\n",
        "  * go: 정부기관\n",
        "* TCP/IP 프로토콜: 원래 군사적 목적으로 설립된 ARPAnet에서 사용하기 위해 만들어짐 / 네트워크 주소와 호스트 주소의 두 부분으로 나누어짐\n",
        "* **FTP 프로토콜 설명**\n",
        "  * TCP/IP에 의해 제공되는 호스트 간의 파일 복사를 위한 프로토콜\n",
        "  * 두 개의 TCP 연결을 필요로 함\n",
        "  * 2개의 포트 사용: 제어 21번, 데이터전송 20번\n",
        "* **NFS**는 네트워크 기반의 다른 시스템과 파일 시스템을 공유하기 위해 소용된다. NIS와 더불어 RPC 프로토콜 기반으로 작동. 해당 서비스를 이용하기 위해서는 먼저 portmap(현 rpcbind) 데몬을 실행시켜야 한다\n",
        "* telnet: 원격지 서버 접속 + 특정 포트의 동작 여부\n",
        "* Secure 기반의 원격제어 서비스(패킷 암호화 기반의 서비스): ssh,scp,sftp\n",
        "* 리눅스 상에서 전자우편을 주고받기 위해 사용하는 프로그램\n",
        "  * KMail\n",
        "  * Thurnderbird\n",
        "  * Mozilla Mail\n",
        "* 월드 와이드 맵: 분산된 자원 처리를 목적으로 CERN에서 시작됨. 분산 클라이언트-서버 모델\n",
        "* 텔넷과 관련된 메시지 파일\n",
        "  * /etc/motd\n",
        "  * /etc/issue, /etc/issue.net\n",
        "* /etc/protocols: 리눅스에서 서비스 가능한 프로토콜 목록이 정의된 파일\n",
        "* 이더넷 카드에 ip주소 설정: ifconfig 장치명 ip주소 netmask 넷마스크값 up\n",
        "* 네트워크 인터페이스 사용 유므: ifconfig 장치명 up|down\n",
        "* 커널 관련 명령\n",
        "  * /sbin/modprobe: 모듈을 검색하여 적재\n",
        "  * /sbin/modprobe -r: 모듈을 제거\n",
        "  * /sbin/insmod: 커널에 모듈을 적재\n",
        "  * /sbin/rmmod: 적재되어 있는 모듈 제거\n",
        "* DHCP 서버: ip주소, 넷마스크, DNS 서버, 게이트웨이 주소등을 자동으로 할당\n",
        "* route: 라우팅 경로를 확인하거나 변경\n",
        "* 부하분산클러스터(LVS)  구성의 핵심: 로드 밸런서(Load Balancer)\n",
        "* KVM: 2000년대 초반에 설립된 Qumranet에서 개발한 하이퍼 바이저로, x86 시스템 기반으로 CPU 전가상화 방식 사용\n",
        "* IaaS(Infrastructure as a Service): 서버, 스토리지와 같은 IT 하드웨어 자원을 클라우드 서비스 형태로 빌려쓰는 형태. 대표적으로 아마존 웹 서비스"
      ]
    }
  ]
}