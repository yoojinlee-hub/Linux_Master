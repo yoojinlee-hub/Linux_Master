{
  "nbformat": 4,
  "nbformat_minor": 0,
  "metadata": {
    "colab": {
      "name": "11/23.ipynb",
      "provenance": [],
      "authorship_tag": "ABX9TyNRssZOCVYDZ0+peEwANwuZ",
      "include_colab_link": true
    },
    "kernelspec": {
      "name": "python3",
      "display_name": "Python 3"
    },
    "language_info": {
      "name": "python"
    }
  },
  "cells": [
    {
      "cell_type": "markdown",
      "metadata": {
        "id": "view-in-github",
        "colab_type": "text"
      },
      "source": [
        "<a href=\"https://colab.research.google.com/github/yoojinlee-hub/Linux_Master/blob/main/11_23.ipynb\" target=\"_parent\"><img src=\"https://colab.research.google.com/assets/colab-badge.svg\" alt=\"Open In Colab\"/></a>"
      ]
    },
    {
      "cell_type": "markdown",
      "metadata": {
        "id": "wDDpUp3np1r-"
      },
      "source": [
        "* ls-l 명령\n",
        "  * 첫 번째가 파일 형식\n",
        "    * s(socket)\n",
        "    * b(Block Device: disk,CD-ROM)\n",
        "* chown: 파일의 소유권 변경\n",
        "  * 하위 디렉터리까지 변경: -R\n",
        "* 모든 사용자가 읽기만 가능하도록: chmod 444 /root/test.txt\n",
        "* 리눅스 시스템에서 일반적으로 분류하는 3가지 종류: 일반파일, 디렉터리 파일, 특수파일\n",
        "  * 특수파일: 링크 파일, 블록 디바이스 파일, 캐릭터 디바이스 파일, named pipe 파일, 소켓 파일\n",
        "* 특정 영역의 사용량 확인: du \n",
        "  * 합계를 계산하는 옵션: -s\n",
        "  * 용량의 단위를 표시: -h(--human-readable)\n",
        "* inode 블록(아이노드 테이블): 리눅스 파일 시스템에서 특별한 종류의 디스크 블록. 파일명, 파일유형, 접근권한, 하드링크 수, 소유자, 소유 그룹명, 파일 크기, 날짜 관련 정보\n",
        "* ex2: 고용량 디스크 사용 등에 대비하여 확장성에 염두를 두고 설계한 파일 시스템. 256바이트 길이의 파일 이름, 2GB의 단일 파일, 4TB의 디스크 사용 가능. ext3이전까지 대부분의 리눅스가 채택한 파일 시스템\n",
        "\n",
        "\n",
        "---\n",
        "\n",
        "\n",
        "* fsck 옵션\n",
        "  * -A : /etc/fstab의 모든 파일 시스템에 대해 기능 수행\n",
        "  * -a: 오류발견시 자동으로 복구 시도\n",
        "  * -s : 시리얼화. 대화형 모드 형태로 여러 개의 파일 시스템을 점검\n",
        "  * -r : 복구 시도 전에 확인 요청\n",
        "* -T(--print-type): df 명령 사용 시 파일 시스템의 종류 확인"
      ]
    },
    {
      "cell_type": "markdown",
      "metadata": {
        "id": "vWw6STwGsm34"
      },
      "source": [
        "\n",
        "\n",
        "---\n",
        "* 셸: 커널과 사용자간의 다리 역할. 사용자로부터 명령을 받아 그것을 해석하고 프로그램을 실행하는 역할\n",
        "* chsh: 셸을 변경하는 명령/ 다음 로그인 부터 적용\n",
        "* ps: 현재 작업중인 셸을 확인(셸이 부여된다는 것은 프로세스가 할당된다는 것을 의미)\n",
        "* bash: 리눅스의 표준 셸. GNU 프로젝트에 의해 개발\n",
        "* env: 현재 셸에 선언된 모든 환경 변수 확인\n",
        "* NI: 우선순위 관련 항목.**ps -l**"
      ]
    },
    {
      "cell_type": "markdown",
      "metadata": {
        "id": "FzMi0iL4t6Tn"
      },
      "source": [
        "\n",
        "\n",
        "---\n",
        "프롬프트\n",
        "* \\u: 사용자명\n",
        "* \\h: 호스트명\n",
        "* \\w: 현재 작업 디렉터리를 절대 경로로 표시\n",
        "* history: 히스토리에 저장된 명령어 목록 출력\n",
        "* !!: 히스토리 명령 목록에서 바로 직전에 실행한 명령 호출\n",
        "* !a: 히스토리 목록 중 a로 시작하는 명령을 찾아서 실행\n",
        "* 실행파일을 손쉽게 사용하기 위해서는 해당 파일이 위치한 디렉터리를 PATH 환경 변수에 추가하면 된다 = 즉 디렉터리를 기존의 PATH값에 해당하는 **$PATH에 : 기호를 덧붙여서 선언**한다\n",
        "* 최초의 프로세스인 systemd의 PID 번호 1\n",
        "* 프로세스가 생성되는 방식: fork,exec\n",
        "  * fork: 기본적인 방식\n",
        "  * exec: 원래의 프로세스를 새로운 프로세스로 대체하는 형태\n",
        "  * inetd: 관리하는 서비스에 대한 요청이 발생하면 메모리에 상주시킴\n",
        "* **백그라운드 프로세스**는 기존의 명령 맨 뒤에 **&**를 덧붙임"
      ]
    },
    {
      "cell_type": "markdown",
      "metadata": {
        "id": "WTEl4AmtvrZo"
      },
      "source": [
        "\n",
        "\n",
        "---\n",
        "시그널\n",
        "* kill -l: 리눅스에서 사용하는 시그널 목록 출력\n",
        "* ctrl + Z : 실행중인 프로세스를 일시 정지하여 대기시키는 시그널. SIGTSTP(TSTP)라고 표기하고 20번임\n"
      ]
    },
    {
      "cell_type": "markdown",
      "metadata": {
        "id": "n5FvX2f5wJrY"
      },
      "source": [
        "\n",
        "\n",
        "---\n",
        "프로세스\n",
        "* top: 실행중인 프로세스 관련 정보 실시간 확인\n",
        "* -20~19: 프로세스 우선순위 변경에 사용되는 NI 값의 범위\n",
        "* #renice -10 7847 : renice NI값 PID : PID가 7847인 프로세스의 NI 값을 -10으로 지정\n",
        "* crontab: 편집하는 옵션 -e, 다른 사용자 -u 사용자명\n",
        "  * root 사용자가 ihd 사용자의 cron 작업을 변경: crontab -e -u ihd\n",
        "\n"
      ]
    },
    {
      "cell_type": "markdown",
      "metadata": {
        "id": "23IDs_G7w2Tf"
      },
      "source": [
        "\n",
        "\n",
        "---\n",
        "편집기\n",
        "* 리눅스에서 사용하는 편집기: emacs,pico,gedit\n",
        "* vim: 브람 무레나르가 vi 편집기의 기능을 확장해서 만든 편집기. 편집 시 다양한 색상을 이용하여 가시성을 높임. 확장된 정규 표현식 문법, 강력한 문법 강조 기능. 다중 되돌리기 기능 및 유니코드를 비롯한 다국어 지원, 문법 검사 등의 기능도 지원\n",
        "* gedit: GNOME 데스크톱 기반의 텍스트 편집기\n",
        "* vi 편집기\n",
        "  * i,a,o: 명령모드에서 편집모드로\n",
        "  * j: 커서를 아래로 이동\n",
        "  * a: 지정한 글자 다음에 입력할 수 있는 상태로 전환하면서 편집(입력)모드로 전환\n",
        "* 파일의 설정 set\n",
        "  * nu: 행 번호 표시기능 켜기\n",
        "  * noai: 자동 들어쓰기 기능 **끄기**\n",
        "  * ts=4: 탭의 크기를 4로 설정\n",
        "  * map q :wq! : 매크로가 선언되어 있고 기능이 켜져있음"
      ]
    },
    {
      "cell_type": "markdown",
      "metadata": {
        "id": "dSFFx6_Cylio"
      },
      "source": [
        "\n",
        "\n",
        "---\n",
        "압축\n",
        "* tvf(-tvf): tar 명령에서 묶어진 tar 파일의 내용 확인하는 옵션\n",
        "* -Z : tar 옵션 중 compress 형식으로 압축하거나 해제할 때 사용하는 것\n",
        "* gzip 명령어의 옵션\n",
        "  * -l: 압축 파일에 대한 정보 출력\n",
        "  * -d(--decompress, --uncompress): 압축 풀기\n",
        "  * -v: 압축 혹은 해제시 정보를 출력\n",
        "  * -r(--recursive): 디렉터리인 경우 하위 디렉터리까지 묶을 때\n",
        "* tar 명령어의 옵션\n",
        "  * -p: 모든 퍼미션 정보 유지\n",
        "  * -f(--file=ARCHIVE): 백업 관련 장치 파일이나 백업 파일명을 명기\n",
        "  * -c : 새 저장 파일 만들기\n",
        "  * -m: 파일의 변경 시간정보를 유지하지 **않는다**\n",
        "* xz 명령에서 압축 해제 : -d\n"
      ]
    }
  ]
}