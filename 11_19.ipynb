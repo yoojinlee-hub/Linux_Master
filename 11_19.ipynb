{
  "nbformat": 4,
  "nbformat_minor": 0,
  "metadata": {
    "colab": {
      "name": "11/19.ipynb",
      "provenance": [],
      "collapsed_sections": [],
      "authorship_tag": "ABX9TyMShLcfc1QvTjp3aQZ0ArcL",
      "include_colab_link": true
    },
    "kernelspec": {
      "name": "python3",
      "display_name": "Python 3"
    },
    "language_info": {
      "name": "python"
    }
  },
  "cells": [
    {
      "cell_type": "markdown",
      "metadata": {
        "id": "view-in-github",
        "colab_type": "text"
      },
      "source": [
        "<a href=\"https://colab.research.google.com/github/yoojinlee-hub/Linux_Master/blob/main/11_19.ipynb\" target=\"_parent\"><img src=\"https://colab.research.google.com/assets/colab-badge.svg\" alt=\"Open In Colab\"/></a>"
      ]
    },
    {
      "cell_type": "markdown",
      "metadata": {
        "id": "oR1HIoCABbKo"
      },
      "source": [
        "**파일 시스템**\n",
        "* 저널링 파일 시스템: 리눅스 커널 2.4부터 사용 / 저널이라고 부르는 로그에 변경사항을 저장하여 추적이 가능하도록 만든  파일 시스템 / 시스템에 충돌현상 발생 또는 전원 문제 발생시 데이터 복구 확률을 높여줌 / ex3,ex4,ReiserFs,XFS,JFS\n",
        "\n",
        "* 여러가지 파일 시스템\n",
        "  1. proc : 리눅스에서 사용하는 가상 파일 시스템. 커널과 관련된 데이터\n",
        "  2. sysv: SystemV/Coherent 파일 시스템을 리눅스에서 구현한 것\n",
        "  3. ncpfs: Novel Network에서 사용하는 파일시스템인 NCP프로토콜을 구현\n",
        "  4. umsdos: 리눅스에서* MS-DOS파일시스템을 확장*하여 만든 것. UID/GID, POSIX 허가권, 특수파일 지원\n",
        "\n",
        "* 윈도우의 파일 시스템인 FAT-32로 포맷된 /dev/sdb1을 읽기모드로 /mnt 디렉터리에 마운트 하는 과정: #mount -t **(vfat)** -o **(ro)** /dev/sdb1 /mnt\n"
      ]
    },
    {
      "cell_type": "markdown",
      "metadata": {
        "id": "wi1oK-MvCFHr"
      },
      "source": [
        "* fdisk 옵션 중에서 파티션의 크기 출력 : -s\n",
        "* fsck명령: 리눅스 파일 시스템을 검사하고 수리하는 명령 / 손상된 파일 등을 수정할 때 임시로*\n",
        "* /lost+found **디렉터리에 작업을 수행, 정상적인 복구가 되면 사라짐\n",
        "* csh:  버클리대학의 빌 조이가 C언어를 기반으로 만듬. 강력한 프로그램 작성 기능 가지고 있음 . 히스토리 기능, 별명 기능, 작업 제어 포함"
      ]
    },
    {
      "cell_type": "markdown",
      "metadata": {
        "id": "wflW0t0aJfhQ"
      },
      "source": [
        "\n",
        "\n",
        "---\n",
        "\n"
      ]
    },
    {
      "cell_type": "markdown",
      "metadata": {
        "id": "W74-sLj2FW4J"
      },
      "source": [
        "**셸에 대한 설명**\n",
        "* 커널에서 분리된 별도의 프로그램 - 다양한 종류의 셸이 존재\n",
        "* 리눅스에서는 bash(ksh,csh 장점 결합)가 표준\n",
        "* 콘 셸: AT&T 사의 데이비드 콘이 개발\n",
        "* chsh: 사용자의 로그인 셸 변경. 다음 로그인 부터 적용 / 사용자의 셸 정보가 기록되는 /etc/passwd 내용을 변경하여 계속 적용됨\n",
        "\n",
        "셸의 환경변수\n",
        "* 셸의 환경을 정의하는 역할을 수행 (예)프롬프트 변경, PATH 변경\n",
        "* 미리 예약된 변수명 사용\n",
        "* bash에서 사용되는 환경변수는 PATH,PS1처럼 미리 예약된 변수 . 대문자로 구성됨\n",
        "  * TMOUT: bash에서 사용자가 로그인 한 후 일정시간 동안 작업을 하지 않을 경우에 로구아웃 시키는 환경변수\n",
        "* 현재 설정된 전체 환경 변수의 값 - env 명령\n",
        "\n",
        "셸 사용시 기본으로 지원되는 언어 확인 : echo %LANG\n",
        "\n"
      ]
    },
    {
      "cell_type": "markdown",
      "metadata": {
        "id": "eyz7b1fkJjfI"
      },
      "source": [
        "\n",
        "\n",
        "---\n",
        "\n"
      ]
    },
    {
      "cell_type": "markdown",
      "metadata": {
        "id": "SXJN_05gHWJ5"
      },
      "source": [
        "**디렉터리**<br>\n",
        "응용프로그램들이 시작할 때 필요한 스크립트가 위치하는 디렉터리, 보통 /etc/profile에서 호출됨. 일반 사용자의 별명 설정 등과 관련된 스크립트가 존재 : **/etc/profile.d** <br>\n",
        "웹서버 프로세스의 가동 유무 확인 : ps(프로세스 확인) ax | grep(특정 프로세스만을 추출) http"
      ]
    },
    {
      "cell_type": "markdown",
      "metadata": {
        "id": "6_in4i76Hrz_"
      },
      "source": [
        "* HISTSIZE: 히스토리 파일에 저장되는 스택크기를 변경\n",
        "* PS1 설정 시 현재 작업 디렉터리의 절대경로는 \\w로 지정, \\W는 마지막 디렉터리만 표시"
      ]
    },
    {
      "cell_type": "markdown",
      "metadata": {
        "id": "ghv2X7SXJsCw"
      },
      "source": [
        "* jobs: 프로세스 대기 상태 확인 가능  (백그라운드로 수행 중인 프로세스를 확인할 때 사용하는 명령)\n",
        "* 시스템로그에 기록되는 로그정보를 백그라운드 상태로 사용자의 홈 디렉터리로 출력할 때? tail -f /var/log/messages > ~/syslog &(백그라운드 프로세스로 실행하려면 맨 끝에 &를 붙임)\n",
        "* CentOs 7에서 서비스 데몬을 구동하기 : **systemctl** start httpd\n",
        "* 각 프로세스의 명령행 인자를 포함한 정보를 트리 구조로 출력: pstree -a(argument)\n",
        "* 프로세스 강제종료: kill -9 프로세스 식별번호(공통되는 문자열이 있는 경우 {}사용가능)\n",
        "* 백그라운드 프로세스로 명령을 실행할 때, 사용자가 로그아웃하거나 실행중인 프로세스의 터미널이 닫히더라도 계속적으로 작업을 수행 가능: nohup(nohangup 의미)\n",
        "* cron: 분 시 일 월 요일\n",
        "* 프로세스 상태확인: top, ps, pstree\n"
      ]
    },
    {
      "cell_type": "markdown",
      "metadata": {
        "id": "qZku04nrLg_I"
      },
      "source": [
        "\n",
        "\n",
        "---\n",
        "\n"
      ]
    },
    {
      "cell_type": "markdown",
      "metadata": {
        "id": "y5J0amtyLZMC"
      },
      "source": [
        "**편집기**\n",
        "* 유닉스 계열에서 가장 많이 쓰이는 편집기. 빌 조이가 개발 vi\n",
        "* emacs: 리처드 스톨만에 의해 개발 . 텍스트 처리를 위한 포괄적인 통합 환경 제공. LISP 코드를 불러오는데 시간이 오래걸림. 제임스 고슬링이 emacs 기능을 확장하여 '고슬링 이맥스' 배포\n",
        "* PICO : 자유 소프트웨어 라이센스가 아니였음. 화면 아래에 단축키에 대한 설명이 표시됨. GNU는 PICO의 복제버전인 nano 개발\n",
        "* vi 에서 작업한 파일을 저장하지 않고 종료 :q!\n",
        "* vi 명령어 중에서 입력 모드 전환 : i,a,o\n",
        "  * p : 복사하거나 붙여넣을 때\n",
        "* ex명령모드에서 전체 줄 지정: <1,$> <%> 사용"
      ]
    },
    {
      "cell_type": "markdown",
      "metadata": {
        "id": "TQfF20ntM71T"
      },
      "source": [
        "\n",
        "\n",
        "---\n",
        "\n"
      ]
    },
    {
      "cell_type": "markdown",
      "metadata": {
        "id": "ANLE_Wi4M8h6"
      },
      "source": [
        "**패키지**\n",
        "* 레드햇 계열: 기본(RPM), 온라인패키지(YUM)\n",
        "* 수세: 기본(YaST), 온라인패키지(zypper,zypp)\n",
        "* 데비안, 우분투: 기본(Dpkg), 온라인패키지(apt-get,apt)\n",
        "* rpm명령의 -U: 하위버전의 패키지가 있다면 업데이트 진행, 존재하지 않으면 초기 설치 진행\n",
        "* yum을 사용하여 소프트웨어 최초 설치: yum search 프로그램명 -> yum install 검색결과\n",
        "* tar 명령에서 tar 파일의 내용을 확인하는 옵션 : tvf\n",
        "* apt-get의 패키지 저장소 위치: /etc/apt/sources.list\n",
        "* dpkg 명령에서 설치 옵션: -i\n",
        "* tar로 다수의 파일을 묶을 때: cvf\n",
        "  * gzip으로 압축하려면 : zcvf\n",
        "* yum을 통해 설치된 패키지 제거: remove, erase\n"
      ]
    },
    {
      "cell_type": "markdown",
      "metadata": {
        "id": "Z1zKkJjaP0QS"
      },
      "source": [
        "\n",
        "\n",
        "---\n",
        "\n"
      ]
    },
    {
      "cell_type": "markdown",
      "metadata": {
        "id": "vky1NjK-P1Dx"
      },
      "source": [
        "**응용프로그램**\n",
        "* X윈도 기반의 스캐너 도구:xsane\n",
        "  * 텍스트 기반의 스캐너 도구: sane\n",
        "* 프린터 관련 프로토콜: PPD, 포트번호: 631\n",
        "* LPRng: 버클리 프린팅 시스템. 라인 프린터 데몬 프로토콜을 사용하여 프린터 스풀링 및 네트워크 프린터 서버 지원\n",
        "* Sys V계열 유닉스에서 프린터 큐에 대기중인 작업 삭제: lpstat명령으로 큐의 상태 확인 -> cancel로 관련 작업 삭제\n",
        "* lpr명령을 사용하여 지정한 문서 파일을 인쇄 한 후에 관련 파일 삭제하는 옵션: -r"
      ]
    }
  ]
}