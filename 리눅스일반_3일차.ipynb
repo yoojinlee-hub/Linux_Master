{
  "nbformat": 4,
  "nbformat_minor": 0,
  "metadata": {
    "colab": {
      "name": "리눅스일반_3일차.ipynb",
      "provenance": [],
      "authorship_tag": "ABX9TyO0gzhDcwbIsJhA/0LE9vFt",
      "include_colab_link": true
    },
    "kernelspec": {
      "name": "python3",
      "display_name": "Python 3"
    },
    "language_info": {
      "name": "python"
    }
  },
  "cells": [
    {
      "cell_type": "markdown",
      "metadata": {
        "id": "view-in-github",
        "colab_type": "text"
      },
      "source": [
        "<a href=\"https://colab.research.google.com/github/yoojinlee-hub/Linux_Master/blob/main/%EB%A6%AC%EB%88%85%EC%8A%A4%EC%9D%BC%EB%B0%98_3%EC%9D%BC%EC%B0%A8.ipynb\" target=\"_parent\"><img src=\"https://colab.research.google.com/assets/colab-badge.svg\" alt=\"Open In Colab\"/></a>"
      ]
    },
    {
      "cell_type": "markdown",
      "metadata": {
        "id": "lHlT2c38Rtok"
      },
      "source": [
        "**리눅스 명령어**\n",
        "1. 내장명령어 : export, history,logout,exit 등, 셸에 내장되어 있어 셸이 직접 해석해서 실행함\n",
        "2. 외장명령어 : /bin 또는 /sbin에 저장됨 - fork하여 새로운 서브 프로세스 발생시킴"
      ]
    },
    {
      "cell_type": "markdown",
      "metadata": {
        "id": "TIkDN025STIt"
      },
      "source": [
        "* PATH 환경변수 : 불필요한 디렉터리의 검색 제한\n",
        "* echo 명령: 검색 경로의 확인\n",
        "* echo %PATH: 명령어 검색 경로\n",
        "* which : 명령어의 위치를 절대경로로 보여줌"
      ]
    },
    {
      "cell_type": "markdown",
      "metadata": {
        "id": "uleaK6XzTlDx"
      },
      "source": [
        "명령어 기본 형식 : command [options] [argument]\n",
        "* 옵션: -다음 한 번에 표시도 가능 -a -l -F = -alF 이 때 순서 중요하지 않음\n",
        "* 대소문자 구분함\n",
        "* |로 명령어와 명령어 연결 가능"
      ]
    },
    {
      "cell_type": "markdown",
      "metadata": {
        "id": "c_HL_M4WcByv"
      },
      "source": [
        "\n",
        "\n",
        "---\n",
        "\n"
      ]
    },
    {
      "cell_type": "markdown",
      "metadata": {
        "id": "Vyeb2fo6UKyy"
      },
      "source": [
        "리눅스 도움말\n",
        "* mam(manual): less명령 기반 - 커서,스페이스,엔터,q를 이용해서 조작\n",
        "  1. -k: 키워드로 발견되는 모든 매뉴얼의 내용 검색 =apropos 명령어\n",
        "  2. -f: 키워드에 완벽히 **일치**되는 매뉴얼의 내용 검색 =whatis 명령어\n",
        "  3. -w: 매뉴얼 페이지 파일 위치\n",
        "  4. -s,-S: section 번호 지정\n",
        "\n",
        "* mandb : 새로운 매뉴얼 페이지를 추가 한후에 관련 정보의 검색이 되지 않을 떄\n",
        "* manpath: man명령이 참조하는 경로"
      ]
    },
    {
      "cell_type": "markdown",
      "metadata": {
        "id": "rySUiV0ycC2F"
      },
      "source": [
        "\n",
        "\n",
        "---\n",
        "\n"
      ]
    },
    {
      "cell_type": "markdown",
      "metadata": {
        "id": "ITIN94ZCWL3S"
      },
      "source": [
        "사용자 생성\n",
        "* -p: 사용자의 암호 추가 // 암호화된 값으로 지정해야 함\n",
        "* 환경파일들은 기본적으로 /etc/skel 에 저장됨"
      ]
    },
    {
      "cell_type": "markdown",
      "metadata": {
        "id": "gS5uqUViWtAc"
      },
      "source": [
        "사용자 전환 :su(sub user)\n",
        "* 시스템에 로그인 되어있는 상태에서 다른 사용자의 권한으로 셸 실행 할 수 있도록\n",
        "* 대부분 원격에서 접속할 때 직접 root계정으로 로그인이 불가능하도록 설정되어 있음"
      ]
    },
    {
      "cell_type": "markdown",
      "metadata": {
        "id": "yVatefAvXjmH"
      },
      "source": [
        "/etc/passwd: 사용자의 목록 저장하는 정보파일\n",
        "* 예> username:**password**:UID:GID:fullname:home-directory:shell \n",
        "* etc/shadow 패스워드 부분을 암호화하여 관리 :pwconv\n",
        "    * username:password:last:may:must:warn:expire:disable:reserved \n",
        "* chage 사용자의 패스워드에 관한 정보를 출력, 설정"
      ]
    },
    {
      "cell_type": "markdown",
      "metadata": {
        "id": "0ipe9LLcYrkp"
      },
      "source": [
        "/etc/default/useradd : 별도의 옵션 없이 계정 생성시에 기본적으로 적용되는 설정이 들어있는 파일\n",
        "* cat 또는 useradd -D로 검색가능"
      ]
    },
    {
      "cell_type": "markdown",
      "metadata": {
        "id": "9POoLo7RafvI"
      },
      "source": [
        "[자세한 내용](https://jhnyang.tistory.com/260)"
      ]
    },
    {
      "cell_type": "markdown",
      "metadata": {
        "id": "AEVSn9FlZIiQ"
      },
      "source": [
        "/etc/login.defs: 메일 디렉터리, 패스워드 관련 설정, UID 및 GID의 최솟값 및 최댓값 등 정의"
      ]
    },
    {
      "cell_type": "markdown",
      "metadata": {
        "id": "uwadFkG6cEZ1"
      },
      "source": [
        "\n",
        "\n",
        "---\n",
        "\n"
      ]
    },
    {
      "cell_type": "markdown",
      "metadata": {
        "id": "LPQJFp-_apUH"
      },
      "source": [
        "그룹 관리\n",
        "* GroupName:Passwd:GID:Member_List\n",
        "* grpck: Group Check의 약자. 사용자 관련 파일 점검"
      ]
    },
    {
      "cell_type": "markdown",
      "metadata": {
        "id": "v7mcwVmTbD5t"
      },
      "source": [
        "그룹 생성: root만 가능\n",
        "* 그룹 변경: groupmod"
      ]
    },
    {
      "cell_type": "markdown",
      "metadata": {
        "id": "ZVeeri5acFW1"
      },
      "source": [
        "\n",
        "\n",
        "---\n",
        "\n"
      ]
    },
    {
      "cell_type": "markdown",
      "metadata": {
        "id": "dH56xGOZbRTO"
      },
      "source": [
        "사용자 조회\n",
        "* users: 시스템에 로그인 되어있는 사용자의 아이디 출력\n",
        "* who: 시스템에 로그인 되어있는 사용자 출력\n",
        "* whoami: 실질적으로 사용중인 권한자 출력\n",
        "* w: 시스템에 로그인 되어있는 사용자와 사용자가 수행중인 작업 출력\n",
        "* lslogins: 시스템 전체 사용자의 정보 출력, 로그파일에서도 관련 정보를  가져와서 출력\n"
      ]
    },
    {
      "cell_type": "markdown",
      "metadata": {
        "id": "_qKa0UxgcHU9"
      },
      "source": [
        "\n",
        "\n",
        "---\n",
        "\n"
      ]
    },
    {
      "cell_type": "markdown",
      "metadata": {
        "id": "zCoSG6ufcbaf"
      },
      "source": [
        "디렉터리 관련 명령어"
      ]
    },
    {
      "cell_type": "markdown",
      "metadata": {
        "id": "pv0SxDRecIPV"
      },
      "source": [
        "* pwd(print working directory): 현재 위치한 작업 디렉터리의 경로를 출력\n",
        "* cd(change directrory)\n",
        "* mkdir(make directory)\n",
        "* rmdir(remove directory)"
      ]
    }
  ]
}