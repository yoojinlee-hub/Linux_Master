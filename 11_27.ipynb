{
  "nbformat": 4,
  "nbformat_minor": 0,
  "metadata": {
    "colab": {
      "name": "11/27.ipynb",
      "provenance": [],
      "authorship_tag": "ABX9TyMnjXub1KikwT8CgrQ7v/PT",
      "include_colab_link": true
    },
    "kernelspec": {
      "name": "python3",
      "display_name": "Python 3"
    },
    "language_info": {
      "name": "python"
    }
  },
  "cells": [
    {
      "cell_type": "markdown",
      "metadata": {
        "id": "view-in-github",
        "colab_type": "text"
      },
      "source": [
        "<a href=\"https://colab.research.google.com/github/yoojinlee-hub/Linux_Master/blob/main/11_27.ipynb\" target=\"_parent\"><img src=\"https://colab.research.google.com/assets/colab-badge.svg\" alt=\"Open In Colab\"/></a>"
      ]
    },
    {
      "cell_type": "markdown",
      "metadata": {
        "id": "LWWPKJHjV_9M"
      },
      "source": [
        "* chmod : 파일의 허가권 확인\n",
        "* Sticky-Bit: 사용자 권한을 지정하기 어려운 응용 프로그램들이 일시적으로 특정 디렉터리에 파일을 생성하고 삭제하도록 이용되며, 특정 응용프로그램이 다른 응용 프로그램에서 생성한 파일을 삭제하지 못하도록 하는 권한 설정\n",
        "* df(disk free): 디스크의 사용 가능한 용량 확인\n",
        "* fsck: 파일 시스템을 검사하고 수리하는 명령\n",
        "  * t : 시스템 아이디를 변경\n",
        "  * s : Sun 디스크 라벨 생성\n",
        "\n",
        "\n",
        "---\n",
        "\n"
      ]
    },
    {
      "cell_type": "markdown",
      "metadata": {
        "id": "ATzK8o-0Zlnv"
      },
      "source": [
        "셸\n",
        "* csh: 버클리 대학의 **빌 조이**가 개발/ 강력한 프로그램 작성 기능. 히스토리, 별명, 작업제어 등의 유용한 기능 포함\n",
        "* 환경변수\n",
        "  * PATH: 실행할 명령어를 탐색\n",
        "  * TMOUT: 로그인 한 사용자의 입력이 일정시간 동안 없으면 로그아웃 시키는 환경변수\n",
        "* HISTSIZE: 히스토리 관련 환경 변수 중에서 저장되는 명령어의 개수를 지정\n",
        "\n",
        "\n",
        "---\n",
        "\n"
      ]
    },
    {
      "cell_type": "markdown",
      "metadata": {
        "id": "BR3lm1AnagI1"
      },
      "source": [
        "프로세스\n",
        "* jobs: 백그라운드로 수행 중인 프로세스의 목록을 나타냄\n",
        "  * fg: 가장 최근에 실행된 프로세스를 나타내는 + 기호 \n",
        "  * bg: 백그라운드 프로세스로 전환\n",
        "* 하나의 프로세스가 다른 프로세스를 생성하여 실행하는 방법: fork, exec\n",
        "* SIGTSTP: 20번 시그널 / 포어그라운드 프로세스를 백그라운드 프로세스로 전환라 때, ctrl+z 를 눌러 일시 대기를 시킬 때 사ㅛㅇㅇ\n",
        "* pstree: 실행 중인 프로세스의 정보를 트리 구조로 출력\n",
        "  * -p : PID값을 함께 확인\n",
        "* kill -1 %2 : 사용자가 실행한 작업번호 2인 프로세스에 1번 시그널인 SIGHUP(hang up)을 전송\n",
        "* ps: 프로세스의 우선순위 확인\n",
        "* nice, top: 프로세스 우선순위 변경\n",
        "---"
      ]
    },
    {
      "cell_type": "markdown",
      "metadata": {
        "id": "aYH4nP6rdTn2"
      },
      "source": [
        "편집기\n",
        "* crontab: 분 시 일 월 요일\n",
        "* evince: 문서 뷰어 프로그램\n",
        "* emacs: 리처드 스톨만이 개발하고 제임스 고슬링이 확장\n",
        "* vim : 브람 무레나르가 vi와 호환되면서 하이라이트 기능 등의 다양한 기능을 추가\n",
        "* emacs 단축키 조합\n",
        "  * ctrl+ c: emacs 종료\n",
        "  * ctrl + s: 저장\n",
        "  * ctrl+ f: 새 문서 작업을 위해 새로운 파일명을 지정하고 편집"
      ]
    }
  ]
}