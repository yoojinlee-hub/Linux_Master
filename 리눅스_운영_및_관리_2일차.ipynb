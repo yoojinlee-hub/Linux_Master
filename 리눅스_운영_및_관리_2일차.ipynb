{
  "nbformat": 4,
  "nbformat_minor": 0,
  "metadata": {
    "colab": {
      "name": "리눅스 운영 및 관리 2일차.ipynb",
      "provenance": [],
      "authorship_tag": "ABX9TyNTGISNta6eo0Uo3luy9Ijm",
      "include_colab_link": true
    },
    "kernelspec": {
      "name": "python3",
      "display_name": "Python 3"
    },
    "language_info": {
      "name": "python"
    }
  },
  "cells": [
    {
      "cell_type": "markdown",
      "metadata": {
        "id": "view-in-github",
        "colab_type": "text"
      },
      "source": [
        "<a href=\"https://colab.research.google.com/github/yoojinlee-hub/Linux_Master/blob/main/%EB%A6%AC%EB%88%85%EC%8A%A4_%EC%9A%B4%EC%98%81_%EB%B0%8F_%EA%B4%80%EB%A6%AC_2%EC%9D%BC%EC%B0%A8.ipynb\" target=\"_parent\"><img src=\"https://colab.research.google.com/assets/colab-badge.svg\" alt=\"Open In Colab\"/></a>"
      ]
    },
    {
      "cell_type": "markdown",
      "metadata": {
        "id": "xc-iYB7vTJLB"
      },
      "source": [
        "셸(Shell)\n",
        "* 커널과 사용자간의 다리역할\n",
        "* 사용자로부터 명령을 받아 그것을 해석하고 프로그램을 실행\n",
        "* 커널에서 분리된 별도의 프로그램\n",
        "* 사용자에게 셸을 부여하지 않으면 시스템에 로그인 하더라도 명령 수행 불가\n"
      ]
    },
    {
      "cell_type": "markdown",
      "metadata": {
        "id": "N6WCLKIWUIs4"
      },
      "source": [
        "* bourne Shell: 1977년 나온 최초의 셸\n",
        "* bash: GNU를 위해 1989 개발, 본 셸이 기반 / 현재 리눅스의 표준  셸\n",
        "* C 셸: C언어 호환 셸/ 히스토리 기능, 별명기능, 작업제어 / 명령행 편집 기능X\n",
        "* tcsh: C셸 + 명령행 완성 기능\n",
        "* dashL 데비안 및 우분투 계열 리눅스의 기본 셸 / 히스토리 명령 지원 X"
      ]
    },
    {
      "cell_type": "markdown",
      "metadata": {
        "id": "yGyckGduVi7n"
      },
      "source": [
        "\n",
        "\n",
        "---\n",
        "\n"
      ]
    },
    {
      "cell_type": "markdown",
      "metadata": {
        "id": "YRC-z2faUx4i"
      },
      "source": [
        "* 셸 확인 : echo $SHELL \n",
        "* 다른 셸을 사용하기 위해 변경 가능한 셸 확인: chsh -l, cat/etc/shells\n",
        "* 셸 변경: chsh\n",
        "* 사용자의 로그인 셸 정보 확인: chsh [option] [사용자명]"
      ]
    },
    {
      "cell_type": "markdown",
      "metadata": {
        "id": "xlWfcuRuVjoP"
      },
      "source": [
        "\n",
        "\n",
        "---\n",
        "\n"
      ]
    },
    {
      "cell_type": "markdown",
      "metadata": {
        "id": "VzXAl_pYVmnP"
      },
      "source": [
        "셸 변수 : 특정한 셸에서만 적용되는 변수 / 명령행에서 '변수명 = 값'으로 지정 / 출력 할 때 변수명 앞에 $를 붙이고 echo명령으로 확인/ 전부확인하려면 set 명령 사용"
      ]
    },
    {
      "cell_type": "markdown",
      "metadata": {
        "id": "m3vXJ1FSWWDo"
      },
      "source": [
        "환경변수: 셸의 환경을 정의하는 중요한 역할을 수행하는 변수 / 미리 예약된 변수명 사용, bash에서는 PATH,SHELL 처럼 대문자로 된 변수로 구성됨/ 현재 설정된 전체 환경변수는 env로 확인가능\n",
        "* PATH : 실행 파일을 찾는 디렉터리 경로\n",
        "* PWD: 사용자의 현재 작업 디렉터리\n",
        "* DISPLAY: X윈도에서 프로그램 실행 시 출력되는 창\n",
        "* PS1: 프롬프트 변수\n",
        "* PS2: 2차 프롬프트 변수\n",
        "* HISTFILE: 히스토리 파일의 절대경로\n",
        "* HISTSIZE: 히스토리 파일에 저장되는 명령어의 개수(줄 기준)"
      ]
    },
    {
      "cell_type": "markdown",
      "metadata": {
        "id": "Tpq-HHU_XKgP"
      },
      "source": [
        "\n",
        "\n",
        "---\n",
        "\n"
      ]
    },
    {
      "cell_type": "markdown",
      "metadata": {
        "id": "3B3q_qB7XNpW"
      },
      "source": [
        "명령행 완성 기능: 명령 입력 시 글자 일부분만 입력하고 tab을 눌러 나머지 부분 자동완성"
      ]
    },
    {
      "cell_type": "markdown",
      "metadata": {
        "id": "GGjeUmJxXU3t"
      },
      "source": [
        "history 명령어('!'로 대체 가능): bash에서 입력 후 실행했던 모든 명령들은 히스토리 리스트 버퍼에 스택으로 저장되는데, 이 히스토리 리스트에 있는 명령어들을 출력함/사용자들이 실행한 명령들은 * .bash_histroty*파일에 추가로 기록됨"
      ]
    },
    {
      "cell_type": "markdown",
      "metadata": {
        "id": "TVhOZD_WXy94"
      },
      "source": [
        "alias 기능: 별명. 어떠한 명령을 지정해 놓으면 사용자가 그 명령을 실행했을 때 alias로 지정해 놓은 명령이 대신 실행 / 이 기능은 대부분의 셸에서 지원"
      ]
    }
  ]
}